{
 "cells": [
  {
   "cell_type": "code",
   "execution_count": 1,
   "metadata": {
    "colab": {
     "base_uri": "https://localhost:8080/"
    },
    "id": "nkTqhVFF86bA",
    "outputId": "57ac0f63-b133-449a-d72d-90b4f7494008"
   },
   "outputs": [
    {
     "name": "stdout",
     "output_type": "stream",
     "text": [
      "Data source import complete.\n"
     ]
    }
   ],
   "source": [
    "# IMPORTANT: RUN THIS CELL IN ORDER TO IMPORT YOUR KAGGLE DATA SOURCES,\n",
    "# THEN FEEL FREE TO DELETE THIS CELL.\n",
    "# NOTE: THIS NOTEBOOK ENVIRONMENT DIFFERS FROM KAGGLE'S PYTHON\n",
    "# ENVIRONMENT SO THERE MAY BE MISSING LIBRARIES USED BY YOUR\n",
    "# NOTEBOOK.\n",
    "import kagglehub\n",
    "ealaxi_paysim1_path = kagglehub.dataset_download('ealaxi/paysim1')\n",
    "\n",
    "print('Data source import complete.')\n"
   ]
  },
  {
   "cell_type": "markdown",
   "metadata": {
    "id": "EILPMQ_xSb9e"
   },
   "source": [
    "# Descripción del Dataset"
   ]
  },
  {
   "cell_type": "markdown",
   "metadata": {
    "id": "4_6FkrYewrXM"
   },
   "source": [
    "La base de datos finalmente escogida se llama “Synthetic Financial Datasets For Fraud Detection“ (Conjuntos de datos financieros sintéticos para la detección de fraudes), que figura en el siguiente enlace:\n",
    "https://www.kaggle.com/ntnu-testimon/paysim1\n"
   ]
  },
  {
   "cell_type": "markdown",
   "metadata": {
    "id": "IWy5MuRbxDxx"
   },
   "source": [
    "## Variables"
   ]
  },
  {
   "cell_type": "markdown",
   "metadata": {
    "id": "5fogUrPLxAh9"
   },
   "source": [
    "La mayoría de variables son de tipo numérico.\n",
    "\n",
    "Además, a continuación se encuentra una descripción obtenida del enlace anterior, donde se encuentran los datos.\n"
   ]
  },
  {
   "cell_type": "markdown",
   "metadata": {
    "id": "i0kOqP3wxHby"
   },
   "source": [
    "This is a sample of 1 row with headers explanation:\n",
    "\n",
    "*1,PAYMENT,1060.31,C429214117,1089.0,28.69,M1591654462,0.0,0.0,0,0*\n",
    "\n",
    "\n",
    "**step** - maps a unit of time in the real world. In this case 1 step is 1 hour of time. Total steps 744 (30 days simulation).\n",
    "\n",
    "**type** - CASH-IN, CASH-OUT, DEBIT, PAYMENT and TRANSFER.\n",
    "\n",
    "**amount** -amount of the transaction in local currency.\n",
    "\n",
    "**nameOrig** - customer who started the transaction\n",
    "\n",
    "**oldbalanceOrg** - initial balance before the transaction\n",
    "\n",
    "**newbalanceOrig** - new balance after the transaction\n",
    "\n",
    "**nameDest** - customer who is the recipient of the transaction\n",
    "\n",
    "**oldbalanceDest** - initial balance recipient before the transaction. Note that there is not information for customers that start with M (Merchants).\n",
    "\n",
    "**newbalanceDest** - new balance recipient after the transaction. Note that there is not information for customers that start with M (Merchants).\n",
    "\n",
    "**isFraud** - This is the transactions made by the fraudulent agents inside the simulation. In this specific dataset the fraudulent behavior of the agents aims to profit by taking control or customers accounts and try to empty the funds by transferring to another account and then cashing out of the system.\n",
    "\n",
    "**isFlaggedFraud** - The business model aims to control massive transfers from one account to another and flags illegal attempts. An illegal attempt in this dataset is an attempt to transfer more than 200.000 in a single transaction."
   ]
  },
  {
   "cell_type": "markdown",
   "metadata": {
    "id": "8t39FVE0gmQ_"
   },
   "source": [
    "La variable isFraud (variable objetivo) es el indicador que indica si las transacciones son fraude con el valor 1 o no, con el valor 0, mientras que isFlaggedFraud es lo que el sistema previene de la transacción debido a que se activan algunos umbrales."
   ]
  },
  {
   "cell_type": "markdown",
   "metadata": {
    "id": "nItfCbADxX0c"
   },
   "source": [
    "## Objetivos"
   ]
  },
  {
   "cell_type": "markdown",
   "metadata": {
    "id": "td_SSlGoxZPf"
   },
   "source": [
    "El objetivo del proyecto es, a través de los distintos logs (observaciones), que son transacciones sintéticas (simuladas) de dinero llevadas a cabo a través del móvil, detectar cuáles pueden ser fraudulentas."
   ]
  },
  {
   "cell_type": "markdown",
   "metadata": {
    "id": "05VEz-PixfhK"
   },
   "source": [
    "\n",
    "Para poder realizar esto se deberá pasar por los distintos ciclos de la extracción de conocimiento (preparar los datos, minería de datos, visualización, etc), para conseguir la suficiente comprensión y estructura deseada de estos."
   ]
  },
  {
   "cell_type": "markdown",
   "metadata": {
    "id": "t9jYwn7Txi-J"
   },
   "source": [
    "\n",
    "En resumen, los objetivos del proyecto son:\n",
    "\n",
    "\n",
    "*   Estudiar el dataset y decidir cuáles son las técnicas a emplear\n",
    "*   Aplicar técnicas de manipulación de datos necesarias (imputación, transformación, normalización, etc)\n",
    "*   Visualización de datos con distintas gráficas\n",
    "*   Detección de fraudes (Detectar correctactamente aquellos movimientos financieros fraudulentos)\n",
    "\n",
    "\n",
    "\n",
    "\n",
    "\n",
    "\n",
    "\n"
   ]
  },
  {
   "cell_type": "markdown",
   "metadata": {
    "id": "tK_0wYFXOTu1"
   },
   "source": [
    "# Cargar Librerias"
   ]
  },
  {
   "cell_type": "code",
   "execution_count": 2,
   "metadata": {
    "id": "LnHXzEHTOYkH"
   },
   "outputs": [],
   "source": [
    "import pandas as pd\n",
    "import numpy as np\n",
    "import matplotlib.pyplot as plt\n",
    "import seaborn as sns\n",
    "\n",
    "from sklearn import preprocessing\n",
    "from sklearn.preprocessing import StandardScaler\n",
    "from sklearn.feature_selection import RFE\n",
    "from sklearn.feature_selection import RFECV\n",
    "from sklearn import tree\n",
    "from sklearn.ensemble import RandomForestClassifier\n",
    "from sklearn.linear_model import LogisticRegression\n",
    "from sklearn.decomposition import PCA\n",
    "from sklearn.model_selection import train_test_split\n",
    "from sklearn.metrics import classification_report, confusion_matrix\n",
    "from sklearn.ensemble import IsolationForest\n",
    "\n",
    "from scipy.stats import chi2_contingency\n",
    "from scipy.stats import chisquare\n",
    "\n",
    "from imblearn.under_sampling import RandomUnderSampler\n",
    "from imblearn.under_sampling import NearMiss\n",
    "\n",
    "\n",
    "np.random.seed(0)"
   ]
  },
  {
   "cell_type": "markdown",
   "metadata": {
    "id": "hH1At1VSPBjG"
   },
   "source": [
    "# Cargar Datos"
   ]
  },
  {
   "cell_type": "code",
   "execution_count": 3,
   "metadata": {
    "colab": {
     "base_uri": "https://localhost:8080/",
     "height": 287
    },
    "id": "nsS0dAI9PEyx",
    "outputId": "ddc73a0d-586a-4d3d-9205-b6c61bfd5fac"
   },
   "outputs": [],
   "source": [
    "df = pd.read_csv('../Datos/PS_20174392719_1491204439457_log.csv')"
   ]
  },
  {
   "cell_type": "markdown",
   "metadata": {
    "id": "RyarGGyUPJY-"
   },
   "source": [
    "# Preprocesado de Datos"
   ]
  },
  {
   "cell_type": "markdown",
   "metadata": {
    "id": "eNU8-Df2jViV"
   },
   "source": [
    "## Descripción de dataset"
   ]
  },
  {
   "cell_type": "markdown",
   "metadata": {
    "id": "pvQdIC1gpHqp"
   },
   "source": [
    "Se cargan los primeros registros para tener una idea de como son los datos"
   ]
  },
  {
   "cell_type": "code",
   "execution_count": 4,
   "metadata": {
    "id": "i1U67SVKMOPp"
   },
   "outputs": [
    {
     "data": {
      "text/html": [
       "<div>\n",
       "<style scoped>\n",
       "    .dataframe tbody tr th:only-of-type {\n",
       "        vertical-align: middle;\n",
       "    }\n",
       "\n",
       "    .dataframe tbody tr th {\n",
       "        vertical-align: top;\n",
       "    }\n",
       "\n",
       "    .dataframe thead th {\n",
       "        text-align: right;\n",
       "    }\n",
       "</style>\n",
       "<table border=\"1\" class=\"dataframe\">\n",
       "  <thead>\n",
       "    <tr style=\"text-align: right;\">\n",
       "      <th></th>\n",
       "      <th>step</th>\n",
       "      <th>type</th>\n",
       "      <th>amount</th>\n",
       "      <th>nameOrig</th>\n",
       "      <th>oldbalanceOrg</th>\n",
       "      <th>newbalanceOrig</th>\n",
       "      <th>nameDest</th>\n",
       "      <th>oldbalanceDest</th>\n",
       "      <th>newbalanceDest</th>\n",
       "      <th>isFraud</th>\n",
       "      <th>isFlaggedFraud</th>\n",
       "    </tr>\n",
       "  </thead>\n",
       "  <tbody>\n",
       "    <tr>\n",
       "      <th>0</th>\n",
       "      <td>1</td>\n",
       "      <td>PAYMENT</td>\n",
       "      <td>9839.64</td>\n",
       "      <td>C1231006815</td>\n",
       "      <td>170136.00</td>\n",
       "      <td>160296.36</td>\n",
       "      <td>M1979787155</td>\n",
       "      <td>0.0</td>\n",
       "      <td>0.00</td>\n",
       "      <td>0</td>\n",
       "      <td>0</td>\n",
       "    </tr>\n",
       "    <tr>\n",
       "      <th>1</th>\n",
       "      <td>1</td>\n",
       "      <td>PAYMENT</td>\n",
       "      <td>1864.28</td>\n",
       "      <td>C1666544295</td>\n",
       "      <td>21249.00</td>\n",
       "      <td>19384.72</td>\n",
       "      <td>M2044282225</td>\n",
       "      <td>0.0</td>\n",
       "      <td>0.00</td>\n",
       "      <td>0</td>\n",
       "      <td>0</td>\n",
       "    </tr>\n",
       "    <tr>\n",
       "      <th>2</th>\n",
       "      <td>1</td>\n",
       "      <td>TRANSFER</td>\n",
       "      <td>181.00</td>\n",
       "      <td>C1305486145</td>\n",
       "      <td>181.00</td>\n",
       "      <td>0.00</td>\n",
       "      <td>C553264065</td>\n",
       "      <td>0.0</td>\n",
       "      <td>0.00</td>\n",
       "      <td>1</td>\n",
       "      <td>0</td>\n",
       "    </tr>\n",
       "    <tr>\n",
       "      <th>3</th>\n",
       "      <td>1</td>\n",
       "      <td>CASH_OUT</td>\n",
       "      <td>181.00</td>\n",
       "      <td>C840083671</td>\n",
       "      <td>181.00</td>\n",
       "      <td>0.00</td>\n",
       "      <td>C38997010</td>\n",
       "      <td>21182.0</td>\n",
       "      <td>0.00</td>\n",
       "      <td>1</td>\n",
       "      <td>0</td>\n",
       "    </tr>\n",
       "    <tr>\n",
       "      <th>4</th>\n",
       "      <td>1</td>\n",
       "      <td>PAYMENT</td>\n",
       "      <td>11668.14</td>\n",
       "      <td>C2048537720</td>\n",
       "      <td>41554.00</td>\n",
       "      <td>29885.86</td>\n",
       "      <td>M1230701703</td>\n",
       "      <td>0.0</td>\n",
       "      <td>0.00</td>\n",
       "      <td>0</td>\n",
       "      <td>0</td>\n",
       "    </tr>\n",
       "    <tr>\n",
       "      <th>5</th>\n",
       "      <td>1</td>\n",
       "      <td>PAYMENT</td>\n",
       "      <td>7817.71</td>\n",
       "      <td>C90045638</td>\n",
       "      <td>53860.00</td>\n",
       "      <td>46042.29</td>\n",
       "      <td>M573487274</td>\n",
       "      <td>0.0</td>\n",
       "      <td>0.00</td>\n",
       "      <td>0</td>\n",
       "      <td>0</td>\n",
       "    </tr>\n",
       "    <tr>\n",
       "      <th>6</th>\n",
       "      <td>1</td>\n",
       "      <td>PAYMENT</td>\n",
       "      <td>7107.77</td>\n",
       "      <td>C154988899</td>\n",
       "      <td>183195.00</td>\n",
       "      <td>176087.23</td>\n",
       "      <td>M408069119</td>\n",
       "      <td>0.0</td>\n",
       "      <td>0.00</td>\n",
       "      <td>0</td>\n",
       "      <td>0</td>\n",
       "    </tr>\n",
       "    <tr>\n",
       "      <th>7</th>\n",
       "      <td>1</td>\n",
       "      <td>PAYMENT</td>\n",
       "      <td>7861.64</td>\n",
       "      <td>C1912850431</td>\n",
       "      <td>176087.23</td>\n",
       "      <td>168225.59</td>\n",
       "      <td>M633326333</td>\n",
       "      <td>0.0</td>\n",
       "      <td>0.00</td>\n",
       "      <td>0</td>\n",
       "      <td>0</td>\n",
       "    </tr>\n",
       "    <tr>\n",
       "      <th>8</th>\n",
       "      <td>1</td>\n",
       "      <td>PAYMENT</td>\n",
       "      <td>4024.36</td>\n",
       "      <td>C1265012928</td>\n",
       "      <td>2671.00</td>\n",
       "      <td>0.00</td>\n",
       "      <td>M1176932104</td>\n",
       "      <td>0.0</td>\n",
       "      <td>0.00</td>\n",
       "      <td>0</td>\n",
       "      <td>0</td>\n",
       "    </tr>\n",
       "    <tr>\n",
       "      <th>9</th>\n",
       "      <td>1</td>\n",
       "      <td>DEBIT</td>\n",
       "      <td>5337.77</td>\n",
       "      <td>C712410124</td>\n",
       "      <td>41720.00</td>\n",
       "      <td>36382.23</td>\n",
       "      <td>C195600860</td>\n",
       "      <td>41898.0</td>\n",
       "      <td>40348.79</td>\n",
       "      <td>0</td>\n",
       "      <td>0</td>\n",
       "    </tr>\n",
       "  </tbody>\n",
       "</table>\n",
       "</div>"
      ],
      "text/plain": [
       "   step      type    amount     nameOrig  oldbalanceOrg  newbalanceOrig  \\\n",
       "0     1   PAYMENT   9839.64  C1231006815      170136.00       160296.36   \n",
       "1     1   PAYMENT   1864.28  C1666544295       21249.00        19384.72   \n",
       "2     1  TRANSFER    181.00  C1305486145         181.00            0.00   \n",
       "3     1  CASH_OUT    181.00   C840083671         181.00            0.00   \n",
       "4     1   PAYMENT  11668.14  C2048537720       41554.00        29885.86   \n",
       "5     1   PAYMENT   7817.71    C90045638       53860.00        46042.29   \n",
       "6     1   PAYMENT   7107.77   C154988899      183195.00       176087.23   \n",
       "7     1   PAYMENT   7861.64  C1912850431      176087.23       168225.59   \n",
       "8     1   PAYMENT   4024.36  C1265012928        2671.00            0.00   \n",
       "9     1     DEBIT   5337.77   C712410124       41720.00        36382.23   \n",
       "\n",
       "      nameDest  oldbalanceDest  newbalanceDest  isFraud  isFlaggedFraud  \n",
       "0  M1979787155             0.0            0.00        0               0  \n",
       "1  M2044282225             0.0            0.00        0               0  \n",
       "2   C553264065             0.0            0.00        1               0  \n",
       "3    C38997010         21182.0            0.00        1               0  \n",
       "4  M1230701703             0.0            0.00        0               0  \n",
       "5   M573487274             0.0            0.00        0               0  \n",
       "6   M408069119             0.0            0.00        0               0  \n",
       "7   M633326333             0.0            0.00        0               0  \n",
       "8  M1176932104             0.0            0.00        0               0  \n",
       "9   C195600860         41898.0        40348.79        0               0  "
      ]
     },
     "execution_count": 4,
     "metadata": {},
     "output_type": "execute_result"
    }
   ],
   "source": [
    "df.iloc[:10]"
   ]
  },
  {
   "cell_type": "code",
   "execution_count": 5,
   "metadata": {
    "id": "acKAXkvzzUMv"
   },
   "outputs": [
    {
     "data": {
      "text/plain": [
       "(6362620, 11)"
      ]
     },
     "execution_count": 5,
     "metadata": {},
     "output_type": "execute_result"
    }
   ],
   "source": [
    "df.shape # aprox. 6.4 millones de observaciones"
   ]
  },
  {
   "cell_type": "markdown",
   "metadata": {
    "id": "EwuW-EVozEuU"
   },
   "source": [
    "Lo primero a tener en cuenta es la cantidad ingente de observaciones, las cuales se reducirán más adelante con undersampling."
   ]
  },
  {
   "cell_type": "markdown",
   "metadata": {
    "id": "2XCR5W9QpOPi"
   },
   "source": [
    "Con `dtypes` se comprueba que la mayoría de variables son numéricas.\n",
    "\n",
    "Por otro lado, entre las variables no numéricas se encuentra:\n",
    "\n",
    "\n",
    "*   type: clasifica tipo de transacción\n",
    "*   nameOrig y nameDest: especifica el usuario que realiza y el que recibe la transacción\n",
    "\n"
   ]
  },
  {
   "cell_type": "code",
   "execution_count": 6,
   "metadata": {
    "id": "JHuPUHJxKf_J"
   },
   "outputs": [
    {
     "name": "stdout",
     "output_type": "stream",
     "text": [
      "Estructura de los datos:\n",
      "***************\n",
      "Index(['step', 'type', 'amount', 'nameOrig', 'oldbalanceOrg', 'newbalanceOrig',\n",
      "       'nameDest', 'oldbalanceDest', 'newbalanceDest', 'isFraud',\n",
      "       'isFlaggedFraud'],\n",
      "      dtype='object')\n",
      "step                int64\n",
      "type               object\n",
      "amount            float64\n",
      "nameOrig           object\n",
      "oldbalanceOrg     float64\n",
      "newbalanceOrig    float64\n",
      "nameDest           object\n",
      "oldbalanceDest    float64\n",
      "newbalanceDest    float64\n",
      "isFraud             int64\n",
      "isFlaggedFraud      int64\n",
      "dtype: object\n"
     ]
    }
   ],
   "source": [
    "print(\"Estructura de los datos:\")\n",
    "print(\"***************\")\n",
    "print(df.columns)\n",
    "print(df.dtypes)"
   ]
  },
  {
   "cell_type": "markdown",
   "metadata": {
    "id": "4R9yYwAyqDdh"
   },
   "source": [
    "A continuación se procede a la visualización de información estadística del dataset"
   ]
  },
  {
   "cell_type": "code",
   "execution_count": 7,
   "metadata": {
    "id": "XBiP1lWAiUqc"
   },
   "outputs": [
    {
     "name": "stdout",
     "output_type": "stream",
     "text": [
      "Estadística: \n",
      "***************\n"
     ]
    },
    {
     "data": {
      "text/html": [
       "<div>\n",
       "<style scoped>\n",
       "    .dataframe tbody tr th:only-of-type {\n",
       "        vertical-align: middle;\n",
       "    }\n",
       "\n",
       "    .dataframe tbody tr th {\n",
       "        vertical-align: top;\n",
       "    }\n",
       "\n",
       "    .dataframe thead th {\n",
       "        text-align: right;\n",
       "    }\n",
       "</style>\n",
       "<table border=\"1\" class=\"dataframe\">\n",
       "  <thead>\n",
       "    <tr style=\"text-align: right;\">\n",
       "      <th></th>\n",
       "      <th>step</th>\n",
       "      <th>amount</th>\n",
       "      <th>oldbalanceOrg</th>\n",
       "      <th>newbalanceOrig</th>\n",
       "      <th>oldbalanceDest</th>\n",
       "      <th>newbalanceDest</th>\n",
       "      <th>isFraud</th>\n",
       "      <th>isFlaggedFraud</th>\n",
       "    </tr>\n",
       "  </thead>\n",
       "  <tbody>\n",
       "    <tr>\n",
       "      <th>count</th>\n",
       "      <td>6.362620e+06</td>\n",
       "      <td>6.362620e+06</td>\n",
       "      <td>6.362620e+06</td>\n",
       "      <td>6.362620e+06</td>\n",
       "      <td>6.362620e+06</td>\n",
       "      <td>6.362620e+06</td>\n",
       "      <td>6.362620e+06</td>\n",
       "      <td>6.362620e+06</td>\n",
       "    </tr>\n",
       "    <tr>\n",
       "      <th>mean</th>\n",
       "      <td>2.433972e+02</td>\n",
       "      <td>1.798619e+05</td>\n",
       "      <td>8.338831e+05</td>\n",
       "      <td>8.551137e+05</td>\n",
       "      <td>1.100702e+06</td>\n",
       "      <td>1.224996e+06</td>\n",
       "      <td>1.290820e-03</td>\n",
       "      <td>2.514687e-06</td>\n",
       "    </tr>\n",
       "    <tr>\n",
       "      <th>std</th>\n",
       "      <td>1.423320e+02</td>\n",
       "      <td>6.038582e+05</td>\n",
       "      <td>2.888243e+06</td>\n",
       "      <td>2.924049e+06</td>\n",
       "      <td>3.399180e+06</td>\n",
       "      <td>3.674129e+06</td>\n",
       "      <td>3.590480e-02</td>\n",
       "      <td>1.585775e-03</td>\n",
       "    </tr>\n",
       "    <tr>\n",
       "      <th>min</th>\n",
       "      <td>1.000000e+00</td>\n",
       "      <td>0.000000e+00</td>\n",
       "      <td>0.000000e+00</td>\n",
       "      <td>0.000000e+00</td>\n",
       "      <td>0.000000e+00</td>\n",
       "      <td>0.000000e+00</td>\n",
       "      <td>0.000000e+00</td>\n",
       "      <td>0.000000e+00</td>\n",
       "    </tr>\n",
       "    <tr>\n",
       "      <th>25%</th>\n",
       "      <td>1.560000e+02</td>\n",
       "      <td>1.338957e+04</td>\n",
       "      <td>0.000000e+00</td>\n",
       "      <td>0.000000e+00</td>\n",
       "      <td>0.000000e+00</td>\n",
       "      <td>0.000000e+00</td>\n",
       "      <td>0.000000e+00</td>\n",
       "      <td>0.000000e+00</td>\n",
       "    </tr>\n",
       "    <tr>\n",
       "      <th>50%</th>\n",
       "      <td>2.390000e+02</td>\n",
       "      <td>7.487194e+04</td>\n",
       "      <td>1.420800e+04</td>\n",
       "      <td>0.000000e+00</td>\n",
       "      <td>1.327057e+05</td>\n",
       "      <td>2.146614e+05</td>\n",
       "      <td>0.000000e+00</td>\n",
       "      <td>0.000000e+00</td>\n",
       "    </tr>\n",
       "    <tr>\n",
       "      <th>75%</th>\n",
       "      <td>3.350000e+02</td>\n",
       "      <td>2.087215e+05</td>\n",
       "      <td>1.073152e+05</td>\n",
       "      <td>1.442584e+05</td>\n",
       "      <td>9.430367e+05</td>\n",
       "      <td>1.111909e+06</td>\n",
       "      <td>0.000000e+00</td>\n",
       "      <td>0.000000e+00</td>\n",
       "    </tr>\n",
       "    <tr>\n",
       "      <th>max</th>\n",
       "      <td>7.430000e+02</td>\n",
       "      <td>9.244552e+07</td>\n",
       "      <td>5.958504e+07</td>\n",
       "      <td>4.958504e+07</td>\n",
       "      <td>3.560159e+08</td>\n",
       "      <td>3.561793e+08</td>\n",
       "      <td>1.000000e+00</td>\n",
       "      <td>1.000000e+00</td>\n",
       "    </tr>\n",
       "  </tbody>\n",
       "</table>\n",
       "</div>"
      ],
      "text/plain": [
       "               step        amount  oldbalanceOrg  newbalanceOrig  \\\n",
       "count  6.362620e+06  6.362620e+06   6.362620e+06    6.362620e+06   \n",
       "mean   2.433972e+02  1.798619e+05   8.338831e+05    8.551137e+05   \n",
       "std    1.423320e+02  6.038582e+05   2.888243e+06    2.924049e+06   \n",
       "min    1.000000e+00  0.000000e+00   0.000000e+00    0.000000e+00   \n",
       "25%    1.560000e+02  1.338957e+04   0.000000e+00    0.000000e+00   \n",
       "50%    2.390000e+02  7.487194e+04   1.420800e+04    0.000000e+00   \n",
       "75%    3.350000e+02  2.087215e+05   1.073152e+05    1.442584e+05   \n",
       "max    7.430000e+02  9.244552e+07   5.958504e+07    4.958504e+07   \n",
       "\n",
       "       oldbalanceDest  newbalanceDest       isFraud  isFlaggedFraud  \n",
       "count    6.362620e+06    6.362620e+06  6.362620e+06    6.362620e+06  \n",
       "mean     1.100702e+06    1.224996e+06  1.290820e-03    2.514687e-06  \n",
       "std      3.399180e+06    3.674129e+06  3.590480e-02    1.585775e-03  \n",
       "min      0.000000e+00    0.000000e+00  0.000000e+00    0.000000e+00  \n",
       "25%      0.000000e+00    0.000000e+00  0.000000e+00    0.000000e+00  \n",
       "50%      1.327057e+05    2.146614e+05  0.000000e+00    0.000000e+00  \n",
       "75%      9.430367e+05    1.111909e+06  0.000000e+00    0.000000e+00  \n",
       "max      3.560159e+08    3.561793e+08  1.000000e+00    1.000000e+00  "
      ]
     },
     "execution_count": 7,
     "metadata": {},
     "output_type": "execute_result"
    }
   ],
   "source": [
    "print(\"Estadística: \")\n",
    "print(\"***************\")\n",
    "df.describe()"
   ]
  },
  {
   "cell_type": "markdown",
   "metadata": {
    "id": "t8W3pWi1qLxi"
   },
   "source": [
    "La diferencia de rangos en los valores numéricos denota la necesidad de emplear la normalización, esto se realiza más adelante en el notebook"
   ]
  },
  {
   "cell_type": "markdown",
   "metadata": {
    "id": "lfSbPEL2SS3e"
   },
   "source": [
    "## Valores Ausentes"
   ]
  },
  {
   "cell_type": "markdown",
   "metadata": {
    "id": "kt0CTllvSzj2"
   },
   "source": [
    "Se comprueba si existe algún valor ausente en el dataset con `isnull().values.any()`"
   ]
  },
  {
   "cell_type": "code",
   "execution_count": 8,
   "metadata": {
    "id": "VmpvtcGCSU2M"
   },
   "outputs": [
    {
     "data": {
      "text/plain": [
       "np.False_"
      ]
     },
     "execution_count": 8,
     "metadata": {},
     "output_type": "execute_result"
    }
   ],
   "source": [
    "df.isnull().values.any()"
   ]
  },
  {
   "cell_type": "markdown",
   "metadata": {
    "id": "sXXwaBPbhKcj"
   },
   "source": [
    "No existen observaciones con valores perdidos"
   ]
  },
  {
   "cell_type": "markdown",
   "metadata": {
    "id": "h04bTKYBhwwM"
   },
   "source": [
    "## Distribución de variables"
   ]
  },
  {
   "cell_type": "markdown",
   "metadata": {
    "id": "Fb3ZulIrBCYw"
   },
   "source": [
    "### type"
   ]
  },
  {
   "cell_type": "markdown",
   "metadata": {
    "id": "1KZbfkGRWTfd"
   },
   "source": [
    "Interesa, para el caso de estudio, descubrir cuándo es más frecuente que ocurran los fraudes. Por ello, se estudia la distribución de la variable `type`."
   ]
  },
  {
   "cell_type": "code",
   "execution_count": 9,
   "metadata": {
    "id": "WQ0j4Ip2Wdid"
   },
   "outputs": [
    {
     "name": "stdout",
     "output_type": "stream",
     "text": [
      "type\n",
      "CASH_OUT    2237500\n",
      "PAYMENT     2151495\n",
      "CASH_IN     1399284\n",
      "TRANSFER     532909\n",
      "DEBIT         41432\n",
      "Name: count, dtype: int64\n"
     ]
    },
    {
     "data": {
      "text/plain": [
       "Text(0.5, 1.0, 'Distribución del tipo de transacción')"
      ]
     },
     "execution_count": 9,
     "metadata": {},
     "output_type": "execute_result"
    },
    {
     "data": {
      "image/png": "[encoded data removed]",
      "text/plain": [
       "<Figure size 2000x1000 with 1 Axes>"
      ]
     },
     "metadata": {},
     "output_type": "display_data"
    }
   ],
   "source": [
    "print(df['type'].value_counts())\n",
    "\n",
    "# lo mismo plot.figure(figzize=(20,10)) y plot.rcParamns['figure.figsize'] = [20,10]\n",
    "# plt.figure(figsize=(20,10))\n",
    "plt.rcParams['figure.figsize']=[20,10]\n",
    "sns.countplot(x='type', data=df, order=df['type'].value_counts().index)\n",
    "plt.xticks(rotation= 45) # Rotación del texto en el eje x\n",
    "plt.xlabel('Tipo de transacción')\n",
    "plt.ylabel('Número de transacciones')\n",
    "plt.title('Distribución del tipo de transacción')"
   ]
  },
  {
   "cell_type": "markdown",
   "metadata": {
    "id": "9ydwjEWdq5v6"
   },
   "source": [
    "Las transacciones más comunes son PAYMENT Y CASH_OUT"
   ]
  },
  {
   "cell_type": "code",
   "execution_count": 10,
   "metadata": {
    "id": "-yAcHL8WfMsc"
   },
   "outputs": [],
   "source": [
    "# Lo mismo con plt\n",
    "# print(df.type.value_counts())\n",
    "\n",
    "# f, ax = plt.subplots(figsize=(10, 5))\n",
    "# df.type.value_counts().plot(kind='bar', title=\"Transaction type\", ax=ax, figsize=(10,5))\n",
    "# plt.show()"
   ]
  },
  {
   "cell_type": "markdown",
   "metadata": {
    "id": "bbdXPh0PBILo"
   },
   "source": [
    "### isFraud (target)"
   ]
  },
  {
   "cell_type": "code",
   "execution_count": 11,
   "metadata": {
    "id": "86_QOgFEPNvo"
   },
   "outputs": [
    {
     "data": {
      "text/html": [
       "<div>\n",
       "<style scoped>\n",
       "    .dataframe tbody tr th:only-of-type {\n",
       "        vertical-align: middle;\n",
       "    }\n",
       "\n",
       "    .dataframe tbody tr th {\n",
       "        vertical-align: top;\n",
       "    }\n",
       "\n",
       "    .dataframe thead th {\n",
       "        text-align: right;\n",
       "    }\n",
       "</style>\n",
       "<table border=\"1\" class=\"dataframe\">\n",
       "  <thead>\n",
       "    <tr style=\"text-align: right;\">\n",
       "      <th></th>\n",
       "      <th>step</th>\n",
       "      <th>type</th>\n",
       "      <th>amount</th>\n",
       "      <th>nameOrig</th>\n",
       "      <th>oldbalanceOrg</th>\n",
       "      <th>newbalanceOrig</th>\n",
       "      <th>nameDest</th>\n",
       "      <th>oldbalanceDest</th>\n",
       "      <th>newbalanceDest</th>\n",
       "      <th>isFraud</th>\n",
       "      <th>isFlaggedFraud</th>\n",
       "    </tr>\n",
       "  </thead>\n",
       "  <tbody>\n",
       "    <tr>\n",
       "      <th>2</th>\n",
       "      <td>1</td>\n",
       "      <td>TRANSFER</td>\n",
       "      <td>181.00</td>\n",
       "      <td>C1305486145</td>\n",
       "      <td>181.00</td>\n",
       "      <td>0.0</td>\n",
       "      <td>C553264065</td>\n",
       "      <td>0.00</td>\n",
       "      <td>0.00</td>\n",
       "      <td>1</td>\n",
       "      <td>0</td>\n",
       "    </tr>\n",
       "    <tr>\n",
       "      <th>3</th>\n",
       "      <td>1</td>\n",
       "      <td>CASH_OUT</td>\n",
       "      <td>181.00</td>\n",
       "      <td>C840083671</td>\n",
       "      <td>181.00</td>\n",
       "      <td>0.0</td>\n",
       "      <td>C38997010</td>\n",
       "      <td>21182.00</td>\n",
       "      <td>0.00</td>\n",
       "      <td>1</td>\n",
       "      <td>0</td>\n",
       "    </tr>\n",
       "    <tr>\n",
       "      <th>251</th>\n",
       "      <td>1</td>\n",
       "      <td>TRANSFER</td>\n",
       "      <td>2806.00</td>\n",
       "      <td>C1420196421</td>\n",
       "      <td>2806.00</td>\n",
       "      <td>0.0</td>\n",
       "      <td>C972765878</td>\n",
       "      <td>0.00</td>\n",
       "      <td>0.00</td>\n",
       "      <td>1</td>\n",
       "      <td>0</td>\n",
       "    </tr>\n",
       "    <tr>\n",
       "      <th>252</th>\n",
       "      <td>1</td>\n",
       "      <td>CASH_OUT</td>\n",
       "      <td>2806.00</td>\n",
       "      <td>C2101527076</td>\n",
       "      <td>2806.00</td>\n",
       "      <td>0.0</td>\n",
       "      <td>C1007251739</td>\n",
       "      <td>26202.00</td>\n",
       "      <td>0.00</td>\n",
       "      <td>1</td>\n",
       "      <td>0</td>\n",
       "    </tr>\n",
       "    <tr>\n",
       "      <th>680</th>\n",
       "      <td>1</td>\n",
       "      <td>TRANSFER</td>\n",
       "      <td>20128.00</td>\n",
       "      <td>C137533655</td>\n",
       "      <td>20128.00</td>\n",
       "      <td>0.0</td>\n",
       "      <td>C1848415041</td>\n",
       "      <td>0.00</td>\n",
       "      <td>0.00</td>\n",
       "      <td>1</td>\n",
       "      <td>0</td>\n",
       "    </tr>\n",
       "    <tr>\n",
       "      <th>...</th>\n",
       "      <td>...</td>\n",
       "      <td>...</td>\n",
       "      <td>...</td>\n",
       "      <td>...</td>\n",
       "      <td>...</td>\n",
       "      <td>...</td>\n",
       "      <td>...</td>\n",
       "      <td>...</td>\n",
       "      <td>...</td>\n",
       "      <td>...</td>\n",
       "      <td>...</td>\n",
       "    </tr>\n",
       "    <tr>\n",
       "      <th>6362615</th>\n",
       "      <td>743</td>\n",
       "      <td>CASH_OUT</td>\n",
       "      <td>339682.13</td>\n",
       "      <td>C786484425</td>\n",
       "      <td>339682.13</td>\n",
       "      <td>0.0</td>\n",
       "      <td>C776919290</td>\n",
       "      <td>0.00</td>\n",
       "      <td>339682.13</td>\n",
       "      <td>1</td>\n",
       "      <td>0</td>\n",
       "    </tr>\n",
       "    <tr>\n",
       "      <th>6362616</th>\n",
       "      <td>743</td>\n",
       "      <td>TRANSFER</td>\n",
       "      <td>6311409.28</td>\n",
       "      <td>C1529008245</td>\n",
       "      <td>6311409.28</td>\n",
       "      <td>0.0</td>\n",
       "      <td>C1881841831</td>\n",
       "      <td>0.00</td>\n",
       "      <td>0.00</td>\n",
       "      <td>1</td>\n",
       "      <td>0</td>\n",
       "    </tr>\n",
       "    <tr>\n",
       "      <th>6362617</th>\n",
       "      <td>743</td>\n",
       "      <td>CASH_OUT</td>\n",
       "      <td>6311409.28</td>\n",
       "      <td>C1162922333</td>\n",
       "      <td>6311409.28</td>\n",
       "      <td>0.0</td>\n",
       "      <td>C1365125890</td>\n",
       "      <td>68488.84</td>\n",
       "      <td>6379898.11</td>\n",
       "      <td>1</td>\n",
       "      <td>0</td>\n",
       "    </tr>\n",
       "    <tr>\n",
       "      <th>6362618</th>\n",
       "      <td>743</td>\n",
       "      <td>TRANSFER</td>\n",
       "      <td>850002.52</td>\n",
       "      <td>C1685995037</td>\n",
       "      <td>850002.52</td>\n",
       "      <td>0.0</td>\n",
       "      <td>C2080388513</td>\n",
       "      <td>0.00</td>\n",
       "      <td>0.00</td>\n",
       "      <td>1</td>\n",
       "      <td>0</td>\n",
       "    </tr>\n",
       "    <tr>\n",
       "      <th>6362619</th>\n",
       "      <td>743</td>\n",
       "      <td>CASH_OUT</td>\n",
       "      <td>850002.52</td>\n",
       "      <td>C1280323807</td>\n",
       "      <td>850002.52</td>\n",
       "      <td>0.0</td>\n",
       "      <td>C873221189</td>\n",
       "      <td>6510099.11</td>\n",
       "      <td>7360101.63</td>\n",
       "      <td>1</td>\n",
       "      <td>0</td>\n",
       "    </tr>\n",
       "  </tbody>\n",
       "</table>\n",
       "<p>8213 rows × 11 columns</p>\n",
       "</div>"
      ],
      "text/plain": [
       "         step      type      amount     nameOrig  oldbalanceOrg  \\\n",
       "2           1  TRANSFER      181.00  C1305486145         181.00   \n",
       "3           1  CASH_OUT      181.00   C840083671         181.00   \n",
       "251         1  TRANSFER     2806.00  C1420196421        2806.00   \n",
       "252         1  CASH_OUT     2806.00  C2101527076        2806.00   \n",
       "680         1  TRANSFER    20128.00   C137533655       20128.00   \n",
       "...       ...       ...         ...          ...            ...   \n",
       "6362615   743  CASH_OUT   339682.13   C786484425      339682.13   \n",
       "6362616   743  TRANSFER  6311409.28  C1529008245     6311409.28   \n",
       "6362617   743  CASH_OUT  6311409.28  C1162922333     6311409.28   \n",
       "6362618   743  TRANSFER   850002.52  C1685995037      850002.52   \n",
       "6362619   743  CASH_OUT   850002.52  C1280323807      850002.52   \n",
       "\n",
       "         newbalanceOrig     nameDest  oldbalanceDest  newbalanceDest  isFraud  \\\n",
       "2                   0.0   C553264065            0.00            0.00        1   \n",
       "3                   0.0    C38997010        21182.00            0.00        1   \n",
       "251                 0.0   C972765878            0.00            0.00        1   \n",
       "252                 0.0  C1007251739        26202.00            0.00        1   \n",
       "680                 0.0  C1848415041            0.00            0.00        1   \n",
       "...                 ...          ...             ...             ...      ...   \n",
       "6362615             0.0   C776919290            0.00       339682.13        1   \n",
       "6362616             0.0  C1881841831            0.00            0.00        1   \n",
       "6362617             0.0  C1365125890        68488.84      6379898.11        1   \n",
       "6362618             0.0  C2080388513            0.00            0.00        1   \n",
       "6362619             0.0   C873221189      6510099.11      7360101.63        1   \n",
       "\n",
       "         isFlaggedFraud  \n",
       "2                     0  \n",
       "3                     0  \n",
       "251                   0  \n",
       "252                   0  \n",
       "680                   0  \n",
       "...                 ...  \n",
       "6362615               0  \n",
       "6362616               0  \n",
       "6362617               0  \n",
       "6362618               0  \n",
       "6362619               0  \n",
       "\n",
       "[8213 rows x 11 columns]"
      ]
     },
     "execution_count": 11,
     "metadata": {},
     "output_type": "execute_result"
    }
   ],
   "source": [
    "df_isFraud = df[(df['isFraud'] == 1)]\n",
    "df_isFraud"
   ]
  },
  {
   "cell_type": "markdown",
   "metadata": {
    "id": "5X7z3_9FPTGy"
   },
   "source": [
    "Se observa que de los más de 6.3 millones de observaciones, 8213 son fraudulentas"
   ]
  },
  {
   "cell_type": "code",
   "execution_count": 12,
   "metadata": {
    "id": "cn-EYygvV3WA"
   },
   "outputs": [
    {
     "name": "stdout",
     "output_type": "stream",
     "text": [
      "isFraud\n",
      "0    6354407\n",
      "1       8213\n",
      "Name: count, dtype: int64\n"
     ]
    }
   ],
   "source": [
    "print(df['isFraud'].value_counts())\n",
    "# df['isFraud'].value_counts().plot(kind='bar', title='Count (target)');"
   ]
  },
  {
   "cell_type": "markdown",
   "metadata": {
    "id": "t_cNWjjOHIkg"
   },
   "source": [
    "Las clases se encuentran enormemente desbalanceadas, como se aprecia, tan solo el 0.13% de las observaciones se clasifican como fraude.\n",
    "\n",
    "En próximas secciones se tratará este desbalanceo."
   ]
  },
  {
   "cell_type": "code",
   "execution_count": 13,
   "metadata": {
    "id": "sd-WhgCMh3pz"
   },
   "outputs": [
    {
     "name": "stdout",
     "output_type": "stream",
     "text": [
      "Porcentaje de operaciones fraudulentas: 0.12908204481801522\n"
     ]
    }
   ],
   "source": [
    "total = df['isFraud'].value_counts()[0] + df['isFraud'].value_counts()[1]\n",
    "fraud = (df['isFraud'].value_counts()[1]/total) * 100\n",
    "print('Porcentaje de operaciones fraudulentas:', fraud)"
   ]
  },
  {
   "cell_type": "markdown",
   "metadata": {
    "id": "74NL9-UerQZR"
   },
   "source": [
    "Para tener una idea más clara de qué tipo de transacciones son más comunes a la hora de cometer fraude, se expone la siguiente gráfica de barras"
   ]
  },
  {
   "cell_type": "code",
   "execution_count": 14,
   "metadata": {
    "id": "ilOU0J-lruww"
   },
   "outputs": [
    {
     "name": "stdout",
     "output_type": "stream",
     "text": [
      "type\n",
      "CASH_OUT    4116\n",
      "TRANSFER    4097\n",
      "Name: count, dtype: int64\n"
     ]
    },
    {
     "data": {
      "text/plain": [
       "Text(0.5, 1.0, 'Tipo de transacción cuando hay fraude')"
      ]
     },
     "execution_count": 14,
     "metadata": {},
     "output_type": "execute_result"
    },
    {
     "data": {
      "image/png": "[encoded data removed]",
      "text/plain": [
       "<Figure size 2000x1000 with 1 Axes>"
      ]
     },
     "metadata": {},
     "output_type": "display_data"
    }
   ],
   "source": [
    "print(df[(df['isFraud'] == 1)]['type'].value_counts())\n",
    "\n",
    "plt.figure(figsize=(20,10))\n",
    "sns.countplot(x='type', data=df[(df['isFraud'] == 1)], order=df[(df['isFraud'] == 1)]['type'].value_counts().index)\n",
    "plt.xticks(rotation= 45) # Rotación del texto en el eje x\n",
    "plt.xlabel('Tipo de transacción')\n",
    "plt.ylabel('Número de transacciones')\n",
    "plt.title('Tipo de transacción cuando hay fraude')"
   ]
  },
  {
   "cell_type": "markdown",
   "metadata": {
    "id": "D2gpGbUatC6B"
   },
   "source": [
    "Este gráfico revela información muy valiosa, las transacciones fraudulentas sólo ocurren cuando es de tipo TRANSFER (transferencia) y CASH_OUT (sacar dinero)"
   ]
  },
  {
   "cell_type": "code",
   "execution_count": 15,
   "metadata": {
    "id": "1QvgOvAMWN2F"
   },
   "outputs": [
    {
     "data": {
      "text/html": [
       "<div>\n",
       "<style scoped>\n",
       "    .dataframe tbody tr th:only-of-type {\n",
       "        vertical-align: middle;\n",
       "    }\n",
       "\n",
       "    .dataframe tbody tr th {\n",
       "        vertical-align: top;\n",
       "    }\n",
       "\n",
       "    .dataframe thead th {\n",
       "        text-align: right;\n",
       "    }\n",
       "</style>\n",
       "<table border=\"1\" class=\"dataframe\">\n",
       "  <thead>\n",
       "    <tr style=\"text-align: right;\">\n",
       "      <th></th>\n",
       "      <th>step</th>\n",
       "      <th>type</th>\n",
       "      <th>amount</th>\n",
       "      <th>nameOrig</th>\n",
       "      <th>oldbalanceOrg</th>\n",
       "      <th>newbalanceOrig</th>\n",
       "      <th>nameDest</th>\n",
       "      <th>oldbalanceDest</th>\n",
       "      <th>newbalanceDest</th>\n",
       "      <th>isFraud</th>\n",
       "      <th>isFlaggedFraud</th>\n",
       "    </tr>\n",
       "  </thead>\n",
       "  <tbody>\n",
       "    <tr>\n",
       "      <th>2</th>\n",
       "      <td>1</td>\n",
       "      <td>TRANSFER</td>\n",
       "      <td>181.00</td>\n",
       "      <td>C1305486145</td>\n",
       "      <td>181.00</td>\n",
       "      <td>0.0</td>\n",
       "      <td>C553264065</td>\n",
       "      <td>0.00</td>\n",
       "      <td>0.00</td>\n",
       "      <td>1</td>\n",
       "      <td>0</td>\n",
       "    </tr>\n",
       "    <tr>\n",
       "      <th>3</th>\n",
       "      <td>1</td>\n",
       "      <td>CASH_OUT</td>\n",
       "      <td>181.00</td>\n",
       "      <td>C840083671</td>\n",
       "      <td>181.00</td>\n",
       "      <td>0.0</td>\n",
       "      <td>C38997010</td>\n",
       "      <td>21182.00</td>\n",
       "      <td>0.00</td>\n",
       "      <td>1</td>\n",
       "      <td>0</td>\n",
       "    </tr>\n",
       "    <tr>\n",
       "      <th>251</th>\n",
       "      <td>1</td>\n",
       "      <td>TRANSFER</td>\n",
       "      <td>2806.00</td>\n",
       "      <td>C1420196421</td>\n",
       "      <td>2806.00</td>\n",
       "      <td>0.0</td>\n",
       "      <td>C972765878</td>\n",
       "      <td>0.00</td>\n",
       "      <td>0.00</td>\n",
       "      <td>1</td>\n",
       "      <td>0</td>\n",
       "    </tr>\n",
       "    <tr>\n",
       "      <th>252</th>\n",
       "      <td>1</td>\n",
       "      <td>CASH_OUT</td>\n",
       "      <td>2806.00</td>\n",
       "      <td>C2101527076</td>\n",
       "      <td>2806.00</td>\n",
       "      <td>0.0</td>\n",
       "      <td>C1007251739</td>\n",
       "      <td>26202.00</td>\n",
       "      <td>0.00</td>\n",
       "      <td>1</td>\n",
       "      <td>0</td>\n",
       "    </tr>\n",
       "    <tr>\n",
       "      <th>680</th>\n",
       "      <td>1</td>\n",
       "      <td>TRANSFER</td>\n",
       "      <td>20128.00</td>\n",
       "      <td>C137533655</td>\n",
       "      <td>20128.00</td>\n",
       "      <td>0.0</td>\n",
       "      <td>C1848415041</td>\n",
       "      <td>0.00</td>\n",
       "      <td>0.00</td>\n",
       "      <td>1</td>\n",
       "      <td>0</td>\n",
       "    </tr>\n",
       "    <tr>\n",
       "      <th>...</th>\n",
       "      <td>...</td>\n",
       "      <td>...</td>\n",
       "      <td>...</td>\n",
       "      <td>...</td>\n",
       "      <td>...</td>\n",
       "      <td>...</td>\n",
       "      <td>...</td>\n",
       "      <td>...</td>\n",
       "      <td>...</td>\n",
       "      <td>...</td>\n",
       "      <td>...</td>\n",
       "    </tr>\n",
       "    <tr>\n",
       "      <th>6362615</th>\n",
       "      <td>743</td>\n",
       "      <td>CASH_OUT</td>\n",
       "      <td>339682.13</td>\n",
       "      <td>C786484425</td>\n",
       "      <td>339682.13</td>\n",
       "      <td>0.0</td>\n",
       "      <td>C776919290</td>\n",
       "      <td>0.00</td>\n",
       "      <td>339682.13</td>\n",
       "      <td>1</td>\n",
       "      <td>0</td>\n",
       "    </tr>\n",
       "    <tr>\n",
       "      <th>6362616</th>\n",
       "      <td>743</td>\n",
       "      <td>TRANSFER</td>\n",
       "      <td>6311409.28</td>\n",
       "      <td>C1529008245</td>\n",
       "      <td>6311409.28</td>\n",
       "      <td>0.0</td>\n",
       "      <td>C1881841831</td>\n",
       "      <td>0.00</td>\n",
       "      <td>0.00</td>\n",
       "      <td>1</td>\n",
       "      <td>0</td>\n",
       "    </tr>\n",
       "    <tr>\n",
       "      <th>6362617</th>\n",
       "      <td>743</td>\n",
       "      <td>CASH_OUT</td>\n",
       "      <td>6311409.28</td>\n",
       "      <td>C1162922333</td>\n",
       "      <td>6311409.28</td>\n",
       "      <td>0.0</td>\n",
       "      <td>C1365125890</td>\n",
       "      <td>68488.84</td>\n",
       "      <td>6379898.11</td>\n",
       "      <td>1</td>\n",
       "      <td>0</td>\n",
       "    </tr>\n",
       "    <tr>\n",
       "      <th>6362618</th>\n",
       "      <td>743</td>\n",
       "      <td>TRANSFER</td>\n",
       "      <td>850002.52</td>\n",
       "      <td>C1685995037</td>\n",
       "      <td>850002.52</td>\n",
       "      <td>0.0</td>\n",
       "      <td>C2080388513</td>\n",
       "      <td>0.00</td>\n",
       "      <td>0.00</td>\n",
       "      <td>1</td>\n",
       "      <td>0</td>\n",
       "    </tr>\n",
       "    <tr>\n",
       "      <th>6362619</th>\n",
       "      <td>743</td>\n",
       "      <td>CASH_OUT</td>\n",
       "      <td>850002.52</td>\n",
       "      <td>C1280323807</td>\n",
       "      <td>850002.52</td>\n",
       "      <td>0.0</td>\n",
       "      <td>C873221189</td>\n",
       "      <td>6510099.11</td>\n",
       "      <td>7360101.63</td>\n",
       "      <td>1</td>\n",
       "      <td>0</td>\n",
       "    </tr>\n",
       "  </tbody>\n",
       "</table>\n",
       "<p>8213 rows × 11 columns</p>\n",
       "</div>"
      ],
      "text/plain": [
       "         step      type      amount     nameOrig  oldbalanceOrg  \\\n",
       "2           1  TRANSFER      181.00  C1305486145         181.00   \n",
       "3           1  CASH_OUT      181.00   C840083671         181.00   \n",
       "251         1  TRANSFER     2806.00  C1420196421        2806.00   \n",
       "252         1  CASH_OUT     2806.00  C2101527076        2806.00   \n",
       "680         1  TRANSFER    20128.00   C137533655       20128.00   \n",
       "...       ...       ...         ...          ...            ...   \n",
       "6362615   743  CASH_OUT   339682.13   C786484425      339682.13   \n",
       "6362616   743  TRANSFER  6311409.28  C1529008245     6311409.28   \n",
       "6362617   743  CASH_OUT  6311409.28  C1162922333     6311409.28   \n",
       "6362618   743  TRANSFER   850002.52  C1685995037      850002.52   \n",
       "6362619   743  CASH_OUT   850002.52  C1280323807      850002.52   \n",
       "\n",
       "         newbalanceOrig     nameDest  oldbalanceDest  newbalanceDest  isFraud  \\\n",
       "2                   0.0   C553264065            0.00            0.00        1   \n",
       "3                   0.0    C38997010        21182.00            0.00        1   \n",
       "251                 0.0   C972765878            0.00            0.00        1   \n",
       "252                 0.0  C1007251739        26202.00            0.00        1   \n",
       "680                 0.0  C1848415041            0.00            0.00        1   \n",
       "...                 ...          ...             ...             ...      ...   \n",
       "6362615             0.0   C776919290            0.00       339682.13        1   \n",
       "6362616             0.0  C1881841831            0.00            0.00        1   \n",
       "6362617             0.0  C1365125890        68488.84      6379898.11        1   \n",
       "6362618             0.0  C2080388513            0.00            0.00        1   \n",
       "6362619             0.0   C873221189      6510099.11      7360101.63        1   \n",
       "\n",
       "         isFlaggedFraud  \n",
       "2                     0  \n",
       "3                     0  \n",
       "251                   0  \n",
       "252                   0  \n",
       "680                   0  \n",
       "...                 ...  \n",
       "6362615               0  \n",
       "6362616               0  \n",
       "6362617               0  \n",
       "6362618               0  \n",
       "6362619               0  \n",
       "\n",
       "[8213 rows x 11 columns]"
      ]
     },
     "execution_count": 15,
     "metadata": {},
     "output_type": "execute_result"
    }
   ],
   "source": [
    "df[(df['isFraud'] == 1)]"
   ]
  },
  {
   "cell_type": "markdown",
   "metadata": {
    "id": "WaHAJTZrPky9"
   },
   "source": [
    "### amount"
   ]
  },
  {
   "cell_type": "markdown",
   "metadata": {
    "id": "YAyJtzahMAh6"
   },
   "source": [
    "En la siguiente gráfica se puede ver la distribución de la variable `isFraud` con `amount`."
   ]
  },
  {
   "cell_type": "code",
   "execution_count": 16,
   "metadata": {
    "id": "sufpc356L1vN"
   },
   "outputs": [
    {
     "data": {
      "text/plain": [
       "<Axes: xlabel='isFraud', ylabel='amount'>"
      ]
     },
     "execution_count": 16,
     "metadata": {},
     "output_type": "execute_result"
    },
    {
     "data": {
      "image/png": "[encoded data removed]",
      "text/plain": [
       "<Figure size 2000x1000 with 1 Axes>"
      ]
     },
     "metadata": {},
     "output_type": "display_data"
    }
   ],
   "source": [
    "plt.figure(figsize=(20,10))\n",
    "sns.boxplot(x = 'isFraud', y = 'amount', data = df[df.amount < 1e5])"
   ]
  },
  {
   "cell_type": "markdown",
   "metadata": {
    "id": "uKaXgDg8MTv_"
   },
   "source": [
    "\n",
    "Se aprecia que el fraude ocurre más frecuentemente cuando la variable `amount` es mayor"
   ]
  },
  {
   "cell_type": "markdown",
   "metadata": {
    "id": "DjIC8OoTBSro"
   },
   "source": [
    "### isFlaggedFraud"
   ]
  },
  {
   "cell_type": "markdown",
   "metadata": {
    "id": "G3QocgsjAN5q"
   },
   "source": [
    "Si ahora se estudia la varaible `isFlaggedFraud`, se detecta un patrón interesante. De los 16 registros existentes en el dataset, TODOS tienen las variables `oldbalanceDest` y `newbalanceDest` a 0."
   ]
  },
  {
   "cell_type": "markdown",
   "metadata": {
    "id": "Ely3HCQEO0aV"
   },
   "source": [
    "Además, la variable `oldbalanceOrg` y `newbalanceOrg` tienen también exactamente el mismo valor, no se descuenta la cantidad de dinero de la transacción"
   ]
  },
  {
   "cell_type": "markdown",
   "metadata": {
    "id": "ue3Xz4NPeu-X"
   },
   "source": [
    "También se aprecia que sólo las de `type` *TRANSFER* tienen la variable `isFlaggedFraud` a 1, es decir, sólo cuando hay una transacción superior a 200k, el sistema marca, de forma preventiva, esa transacción como fraudulenta\n"
   ]
  },
  {
   "cell_type": "code",
   "execution_count": 17,
   "metadata": {
    "id": "5xnIq-sU7D96"
   },
   "outputs": [
    {
     "data": {
      "text/html": [
       "<div>\n",
       "<style scoped>\n",
       "    .dataframe tbody tr th:only-of-type {\n",
       "        vertical-align: middle;\n",
       "    }\n",
       "\n",
       "    .dataframe tbody tr th {\n",
       "        vertical-align: top;\n",
       "    }\n",
       "\n",
       "    .dataframe thead th {\n",
       "        text-align: right;\n",
       "    }\n",
       "</style>\n",
       "<table border=\"1\" class=\"dataframe\">\n",
       "  <thead>\n",
       "    <tr style=\"text-align: right;\">\n",
       "      <th></th>\n",
       "      <th>step</th>\n",
       "      <th>type</th>\n",
       "      <th>amount</th>\n",
       "      <th>nameOrig</th>\n",
       "      <th>oldbalanceOrg</th>\n",
       "      <th>newbalanceOrig</th>\n",
       "      <th>nameDest</th>\n",
       "      <th>oldbalanceDest</th>\n",
       "      <th>newbalanceDest</th>\n",
       "      <th>isFraud</th>\n",
       "      <th>isFlaggedFraud</th>\n",
       "    </tr>\n",
       "  </thead>\n",
       "  <tbody>\n",
       "    <tr>\n",
       "      <th>2736446</th>\n",
       "      <td>212</td>\n",
       "      <td>TRANSFER</td>\n",
       "      <td>4953893.08</td>\n",
       "      <td>C728984460</td>\n",
       "      <td>4953893.08</td>\n",
       "      <td>4953893.08</td>\n",
       "      <td>C639921569</td>\n",
       "      <td>0.0</td>\n",
       "      <td>0.0</td>\n",
       "      <td>1</td>\n",
       "      <td>1</td>\n",
       "    </tr>\n",
       "    <tr>\n",
       "      <th>3247297</th>\n",
       "      <td>250</td>\n",
       "      <td>TRANSFER</td>\n",
       "      <td>1343002.08</td>\n",
       "      <td>C1100582606</td>\n",
       "      <td>1343002.08</td>\n",
       "      <td>1343002.08</td>\n",
       "      <td>C1147517658</td>\n",
       "      <td>0.0</td>\n",
       "      <td>0.0</td>\n",
       "      <td>1</td>\n",
       "      <td>1</td>\n",
       "    </tr>\n",
       "    <tr>\n",
       "      <th>3760288</th>\n",
       "      <td>279</td>\n",
       "      <td>TRANSFER</td>\n",
       "      <td>536624.41</td>\n",
       "      <td>C1035541766</td>\n",
       "      <td>536624.41</td>\n",
       "      <td>536624.41</td>\n",
       "      <td>C1100697970</td>\n",
       "      <td>0.0</td>\n",
       "      <td>0.0</td>\n",
       "      <td>1</td>\n",
       "      <td>1</td>\n",
       "    </tr>\n",
       "    <tr>\n",
       "      <th>5563713</th>\n",
       "      <td>387</td>\n",
       "      <td>TRANSFER</td>\n",
       "      <td>4892193.09</td>\n",
       "      <td>C908544136</td>\n",
       "      <td>4892193.09</td>\n",
       "      <td>4892193.09</td>\n",
       "      <td>C891140444</td>\n",
       "      <td>0.0</td>\n",
       "      <td>0.0</td>\n",
       "      <td>1</td>\n",
       "      <td>1</td>\n",
       "    </tr>\n",
       "    <tr>\n",
       "      <th>5996407</th>\n",
       "      <td>425</td>\n",
       "      <td>TRANSFER</td>\n",
       "      <td>10000000.00</td>\n",
       "      <td>C689608084</td>\n",
       "      <td>19585040.37</td>\n",
       "      <td>19585040.37</td>\n",
       "      <td>C1392803603</td>\n",
       "      <td>0.0</td>\n",
       "      <td>0.0</td>\n",
       "      <td>1</td>\n",
       "      <td>1</td>\n",
       "    </tr>\n",
       "    <tr>\n",
       "      <th>5996409</th>\n",
       "      <td>425</td>\n",
       "      <td>TRANSFER</td>\n",
       "      <td>9585040.37</td>\n",
       "      <td>C452586515</td>\n",
       "      <td>19585040.37</td>\n",
       "      <td>19585040.37</td>\n",
       "      <td>C1109166882</td>\n",
       "      <td>0.0</td>\n",
       "      <td>0.0</td>\n",
       "      <td>1</td>\n",
       "      <td>1</td>\n",
       "    </tr>\n",
       "    <tr>\n",
       "      <th>6168499</th>\n",
       "      <td>554</td>\n",
       "      <td>TRANSFER</td>\n",
       "      <td>3576297.10</td>\n",
       "      <td>C193696150</td>\n",
       "      <td>3576297.10</td>\n",
       "      <td>3576297.10</td>\n",
       "      <td>C484597480</td>\n",
       "      <td>0.0</td>\n",
       "      <td>0.0</td>\n",
       "      <td>1</td>\n",
       "      <td>1</td>\n",
       "    </tr>\n",
       "    <tr>\n",
       "      <th>6205439</th>\n",
       "      <td>586</td>\n",
       "      <td>TRANSFER</td>\n",
       "      <td>353874.22</td>\n",
       "      <td>C1684585475</td>\n",
       "      <td>353874.22</td>\n",
       "      <td>353874.22</td>\n",
       "      <td>C1770418982</td>\n",
       "      <td>0.0</td>\n",
       "      <td>0.0</td>\n",
       "      <td>1</td>\n",
       "      <td>1</td>\n",
       "    </tr>\n",
       "    <tr>\n",
       "      <th>6266413</th>\n",
       "      <td>617</td>\n",
       "      <td>TRANSFER</td>\n",
       "      <td>2542664.27</td>\n",
       "      <td>C786455622</td>\n",
       "      <td>2542664.27</td>\n",
       "      <td>2542664.27</td>\n",
       "      <td>C661958277</td>\n",
       "      <td>0.0</td>\n",
       "      <td>0.0</td>\n",
       "      <td>1</td>\n",
       "      <td>1</td>\n",
       "    </tr>\n",
       "    <tr>\n",
       "      <th>6281482</th>\n",
       "      <td>646</td>\n",
       "      <td>TRANSFER</td>\n",
       "      <td>10000000.00</td>\n",
       "      <td>C19004745</td>\n",
       "      <td>10399045.08</td>\n",
       "      <td>10399045.08</td>\n",
       "      <td>C1806199534</td>\n",
       "      <td>0.0</td>\n",
       "      <td>0.0</td>\n",
       "      <td>1</td>\n",
       "      <td>1</td>\n",
       "    </tr>\n",
       "    <tr>\n",
       "      <th>6281484</th>\n",
       "      <td>646</td>\n",
       "      <td>TRANSFER</td>\n",
       "      <td>399045.08</td>\n",
       "      <td>C724693370</td>\n",
       "      <td>10399045.08</td>\n",
       "      <td>10399045.08</td>\n",
       "      <td>C1909486199</td>\n",
       "      <td>0.0</td>\n",
       "      <td>0.0</td>\n",
       "      <td>1</td>\n",
       "      <td>1</td>\n",
       "    </tr>\n",
       "    <tr>\n",
       "      <th>6296014</th>\n",
       "      <td>671</td>\n",
       "      <td>TRANSFER</td>\n",
       "      <td>3441041.46</td>\n",
       "      <td>C917414431</td>\n",
       "      <td>3441041.46</td>\n",
       "      <td>3441041.46</td>\n",
       "      <td>C1082139865</td>\n",
       "      <td>0.0</td>\n",
       "      <td>0.0</td>\n",
       "      <td>1</td>\n",
       "      <td>1</td>\n",
       "    </tr>\n",
       "    <tr>\n",
       "      <th>6351225</th>\n",
       "      <td>702</td>\n",
       "      <td>TRANSFER</td>\n",
       "      <td>3171085.59</td>\n",
       "      <td>C1892216157</td>\n",
       "      <td>3171085.59</td>\n",
       "      <td>3171085.59</td>\n",
       "      <td>C1308068787</td>\n",
       "      <td>0.0</td>\n",
       "      <td>0.0</td>\n",
       "      <td>1</td>\n",
       "      <td>1</td>\n",
       "    </tr>\n",
       "    <tr>\n",
       "      <th>6362460</th>\n",
       "      <td>730</td>\n",
       "      <td>TRANSFER</td>\n",
       "      <td>10000000.00</td>\n",
       "      <td>C2140038573</td>\n",
       "      <td>17316255.05</td>\n",
       "      <td>17316255.05</td>\n",
       "      <td>C1395467927</td>\n",
       "      <td>0.0</td>\n",
       "      <td>0.0</td>\n",
       "      <td>1</td>\n",
       "      <td>1</td>\n",
       "    </tr>\n",
       "    <tr>\n",
       "      <th>6362462</th>\n",
       "      <td>730</td>\n",
       "      <td>TRANSFER</td>\n",
       "      <td>7316255.05</td>\n",
       "      <td>C1869569059</td>\n",
       "      <td>17316255.05</td>\n",
       "      <td>17316255.05</td>\n",
       "      <td>C1861208726</td>\n",
       "      <td>0.0</td>\n",
       "      <td>0.0</td>\n",
       "      <td>1</td>\n",
       "      <td>1</td>\n",
       "    </tr>\n",
       "    <tr>\n",
       "      <th>6362584</th>\n",
       "      <td>741</td>\n",
       "      <td>TRANSFER</td>\n",
       "      <td>5674547.89</td>\n",
       "      <td>C992223106</td>\n",
       "      <td>5674547.89</td>\n",
       "      <td>5674547.89</td>\n",
       "      <td>C1366804249</td>\n",
       "      <td>0.0</td>\n",
       "      <td>0.0</td>\n",
       "      <td>1</td>\n",
       "      <td>1</td>\n",
       "    </tr>\n",
       "  </tbody>\n",
       "</table>\n",
       "</div>"
      ],
      "text/plain": [
       "         step      type       amount     nameOrig  oldbalanceOrg  \\\n",
       "2736446   212  TRANSFER   4953893.08   C728984460     4953893.08   \n",
       "3247297   250  TRANSFER   1343002.08  C1100582606     1343002.08   \n",
       "3760288   279  TRANSFER    536624.41  C1035541766      536624.41   \n",
       "5563713   387  TRANSFER   4892193.09   C908544136     4892193.09   \n",
       "5996407   425  TRANSFER  10000000.00   C689608084    19585040.37   \n",
       "5996409   425  TRANSFER   9585040.37   C452586515    19585040.37   \n",
       "6168499   554  TRANSFER   3576297.10   C193696150     3576297.10   \n",
       "6205439   586  TRANSFER    353874.22  C1684585475      353874.22   \n",
       "6266413   617  TRANSFER   2542664.27   C786455622     2542664.27   \n",
       "6281482   646  TRANSFER  10000000.00    C19004745    10399045.08   \n",
       "6281484   646  TRANSFER    399045.08   C724693370    10399045.08   \n",
       "6296014   671  TRANSFER   3441041.46   C917414431     3441041.46   \n",
       "6351225   702  TRANSFER   3171085.59  C1892216157     3171085.59   \n",
       "6362460   730  TRANSFER  10000000.00  C2140038573    17316255.05   \n",
       "6362462   730  TRANSFER   7316255.05  C1869569059    17316255.05   \n",
       "6362584   741  TRANSFER   5674547.89   C992223106     5674547.89   \n",
       "\n",
       "         newbalanceOrig     nameDest  oldbalanceDest  newbalanceDest  isFraud  \\\n",
       "2736446      4953893.08   C639921569             0.0             0.0        1   \n",
       "3247297      1343002.08  C1147517658             0.0             0.0        1   \n",
       "3760288       536624.41  C1100697970             0.0             0.0        1   \n",
       "5563713      4892193.09   C891140444             0.0             0.0        1   \n",
       "5996407     19585040.37  C1392803603             0.0             0.0        1   \n",
       "5996409     19585040.37  C1109166882             0.0             0.0        1   \n",
       "6168499      3576297.10   C484597480             0.0             0.0        1   \n",
       "6205439       353874.22  C1770418982             0.0             0.0        1   \n",
       "6266413      2542664.27   C661958277             0.0             0.0        1   \n",
       "6281482     10399045.08  C1806199534             0.0             0.0        1   \n",
       "6281484     10399045.08  C1909486199             0.0             0.0        1   \n",
       "6296014      3441041.46  C1082139865             0.0             0.0        1   \n",
       "6351225      3171085.59  C1308068787             0.0             0.0        1   \n",
       "6362460     17316255.05  C1395467927             0.0             0.0        1   \n",
       "6362462     17316255.05  C1861208726             0.0             0.0        1   \n",
       "6362584      5674547.89  C1366804249             0.0             0.0        1   \n",
       "\n",
       "         isFlaggedFraud  \n",
       "2736446               1  \n",
       "3247297               1  \n",
       "3760288               1  \n",
       "5563713               1  \n",
       "5996407               1  \n",
       "5996409               1  \n",
       "6168499               1  \n",
       "6205439               1  \n",
       "6266413               1  \n",
       "6281482               1  \n",
       "6281484               1  \n",
       "6296014               1  \n",
       "6351225               1  \n",
       "6362460               1  \n",
       "6362462               1  \n",
       "6362584               1  "
      ]
     },
     "execution_count": 17,
     "metadata": {},
     "output_type": "execute_result"
    }
   ],
   "source": [
    "df[(df['isFlaggedFraud'] == 1)]"
   ]
  },
  {
   "cell_type": "markdown",
   "metadata": {
    "id": "wHO66aGFPpSG"
   },
   "source": [
    "### newbalanceDest y oldbalanceDest"
   ]
  },
  {
   "cell_type": "markdown",
   "metadata": {
    "id": "8Yupwq40Qzug"
   },
   "source": [
    "Se comprueba que el 65% de las observaciones que son fraude tienen los valores 0 en alguna de estas variables"
   ]
  },
  {
   "cell_type": "code",
   "execution_count": 18,
   "metadata": {
    "id": "93JD6iX0RNhe"
   },
   "outputs": [
    {
     "name": "stdout",
     "output_type": "stream",
     "text": [
      "Existen  8213  observaciones que son fraude\n"
     ]
    }
   ],
   "source": [
    "total = df[(df['isFraud'] == 1)]['type'].count()\n",
    "print('Existen ', total, ' observaciones que son fraude')"
   ]
  },
  {
   "cell_type": "code",
   "execution_count": 19,
   "metadata": {
    "id": "q1ard1uqPs9H"
   },
   "outputs": [
    {
     "name": "stdout",
     "output_type": "stream",
     "text": [
      "Veces que aparecen ambas variables, newbalanceDest = oldbalanceDest = 0, cuando la observación es fraude:  5366\n"
     ]
    }
   ],
   "source": [
    "both = df_isFraud[(df_isFraud['newbalanceDest'] == 0) | (df_isFraud['oldbalanceDest'] == 0)].count()['oldbalanceDest']\n",
    "print('Veces que aparecen ambas variables, newbalanceDest = oldbalanceDest = 0, cuando la observación es fraude: ', both)"
   ]
  },
  {
   "cell_type": "code",
   "execution_count": 20,
   "metadata": {
    "id": "0gdsEVNeQPsp"
   },
   "outputs": [
    {
     "name": "stdout",
     "output_type": "stream",
     "text": [
      "Porcentaje de observaciones con 0 en las variables cuando hay fraude:  65.33544380859612\n"
     ]
    }
   ],
   "source": [
    "porcentaje = (both/total) * 100\n",
    "print('Porcentaje de observaciones con 0 en las variables cuando hay fraude: ', porcentaje)"
   ]
  },
  {
   "cell_type": "markdown",
   "metadata": {
    "id": "DMlwIMIPSfZO"
   },
   "source": [
    "Ahora se va a observar para el dataset sin fraude que esto sólo ocurreun 44% de las veces"
   ]
  },
  {
   "cell_type": "code",
   "execution_count": 21,
   "metadata": {
    "id": "VC9NbY5YTHD1"
   },
   "outputs": [
    {
     "name": "stdout",
     "output_type": "stream",
     "text": [
      "Existen  6354407  observaciones que NO son fraude\n"
     ]
    }
   ],
   "source": [
    "total2 = df[(df['isFraud'] == 0)]['type'].count()\n",
    "print('Existen ', total2, ' observaciones que NO son fraude')"
   ]
  },
  {
   "cell_type": "code",
   "execution_count": 22,
   "metadata": {
    "id": "twZdc0wJSkeF"
   },
   "outputs": [
    {
     "name": "stdout",
     "output_type": "stream",
     "text": [
      "Veces que aparecen ambas variables, newbalanceDest = oldbalanceDest = 0, cuando la observación NO es fraude:  2826539\n"
     ]
    }
   ],
   "source": [
    "both2 = df[(df['newbalanceDest'] == 0) | (df['oldbalanceDest'] == 0)].count()['oldbalanceDest']\n",
    "print('Veces que aparecen ambas variables, newbalanceDest = oldbalanceDest = 0, cuando la observación NO es fraude: ', both2)"
   ]
  },
  {
   "cell_type": "code",
   "execution_count": 23,
   "metadata": {
    "id": "GpkIvd_oSP4k"
   },
   "outputs": [
    {
     "name": "stdout",
     "output_type": "stream",
     "text": [
      "Porcentaje de observaciones con 0 en las variables cuando NO hay fraude:  44.4815542976709\n"
     ]
    }
   ],
   "source": [
    "porcentaje2 = (both2/total2) * 100\n",
    "print('Porcentaje de observaciones con 0 en las variables cuando NO hay fraude: ', porcentaje2)"
   ]
  },
  {
   "cell_type": "markdown",
   "metadata": {
    "id": "-wRnHsfzTpqb"
   },
   "source": [
    "El porcentaje de las variables `newbalanceDest` o `oldbalanceDest` = 0 es mayor cuando hay fraude"
   ]
  },
  {
   "cell_type": "markdown",
   "metadata": {
    "id": "U2Kj0E2rSJgO"
   },
   "source": [
    "### newbalanceOrig y oldbalanceOrg"
   ]
  },
  {
   "cell_type": "markdown",
   "metadata": {
    "id": "dL0Y2UQ2Qnek"
   },
   "source": [
    "Para estas variables, se va a comprobar la cantidad de veces que ambas son iguales, es decir, que ocurre `newbalanceOrig` = `oldbalanceOrg`"
   ]
  },
  {
   "cell_type": "markdown",
   "metadata": {
    "id": "ODQJmqVeQyNH"
   },
   "source": [
    "Para las observaciones fraudulentas"
   ]
  },
  {
   "cell_type": "code",
   "execution_count": 24,
   "metadata": {
    "id": "qRvWdZGaSNOG"
   },
   "outputs": [
    {
     "name": "stdout",
     "output_type": "stream",
     "text": [
      "Veces que aparecen ambas variables, newbalanceOrig = oldbalanceOrg, cuando la observación es fraude:  57\n"
     ]
    }
   ],
   "source": [
    "orig_both = df_isFraud[(df_isFraud['newbalanceOrig'] == df_isFraud['oldbalanceOrg'])].count()['oldbalanceOrg']\n",
    "print('Veces que aparecen ambas variables, newbalanceOrig = oldbalanceOrg, cuando la observación es fraude: ', orig_both)"
   ]
  },
  {
   "cell_type": "code",
   "execution_count": 25,
   "metadata": {
    "id": "EW3VFSb9V4Fv"
   },
   "outputs": [
    {
     "name": "stdout",
     "output_type": "stream",
     "text": [
      "Porcentaje de observaciones con el mismo valor en las variables:  0.6940216729575064\n"
     ]
    }
   ],
   "source": [
    "porcentaje3 = (orig_both/total) * 100\n",
    "print('Porcentaje de observaciones con el mismo valor en las variables: ', porcentaje3)"
   ]
  },
  {
   "cell_type": "markdown",
   "metadata": {
    "id": "Ham-BbrnWz8z"
   },
   "source": [
    "Con el dataset sin fraude"
   ]
  },
  {
   "cell_type": "code",
   "execution_count": 26,
   "metadata": {
    "id": "LWkGCPPbWzhn"
   },
   "outputs": [
    {
     "name": "stdout",
     "output_type": "stream",
     "text": [
      "Veces que aparecen ambas variables, newbalanceOrig = oldbalanceOrg, cuando la observación NO es fraude:  2089037\n"
     ]
    }
   ],
   "source": [
    "orig_both2 = df[(df['newbalanceOrig'] == df['oldbalanceOrg'])].count()['oldbalanceOrg']\n",
    "print('Veces que aparecen ambas variables, newbalanceOrig = oldbalanceOrg, cuando la observación NO es fraude: ', orig_both2)"
   ]
  },
  {
   "cell_type": "code",
   "execution_count": 27,
   "metadata": {
    "id": "LQLQnM_6XzOX"
   },
   "outputs": [
    {
     "name": "stdout",
     "output_type": "stream",
     "text": [
      "Porcentaje de observaciones con el mismo valor en las variables:  32.87540442404775\n"
     ]
    }
   ],
   "source": [
    "porcentaje4 = (orig_both2/total2) * 100\n",
    "print('Porcentaje de observaciones con el mismo valor en las variables: ', porcentaje4)"
   ]
  },
  {
   "cell_type": "markdown",
   "metadata": {
    "id": "FBXKw7VoQ319"
   },
   "source": [
    "Es interesante observar que el porcentaje de veces que ambas son iguales es mucho superior en el dataset sin fraude"
   ]
  },
  {
   "cell_type": "markdown",
   "metadata": {
    "id": "v0sYzmLl-yEs"
   },
   "source": [
    "### step"
   ]
  },
  {
   "cell_type": "markdown",
   "metadata": {
    "id": "BaWvqaMpiVDb"
   },
   "source": [
    "La variable step es el momento de la simulación (30 días), en la que se realiza la transacción"
   ]
  },
  {
   "cell_type": "code",
   "execution_count": 28,
   "metadata": {
    "id": "v3BEWUrykBSm"
   },
   "outputs": [
    {
     "data": {
      "image/png": "[encoded data removed]",
      "text/plain": [
       "<Figure size 2000x1000 with 1 Axes>"
      ]
     },
     "metadata": {},
     "output_type": "display_data"
    },
    {
     "data": {
      "image/png": "[encoded data removed]",
      "text/plain": [
       "<Figure size 2000x1000 with 1 Axes>"
      ]
     },
     "metadata": {},
     "output_type": "display_data"
    },
    {
     "data": {
      "text/plain": [
       "<Figure size 2000x1000 with 0 Axes>"
      ]
     },
     "metadata": {},
     "output_type": "display_data"
    }
   ],
   "source": [
    "bins = 50\n",
    "\n",
    "df[(df['isFraud'] == 0)].hist(column=\"step\",color=\"green\",bins=bins)\n",
    "plt.xlabel(\"1 hour time step\")\n",
    "plt.ylabel(\"# of transactions\")\n",
    "plt.title(\"# of valid transactions over time\")\n",
    "\n",
    "df[(df['isFraud'] == 1)].hist(column =\"step\",color=\"red\",bins=bins)\n",
    "plt.xlabel(\"1 hour time step\")\n",
    "plt.ylabel(\"# of transactions\")\n",
    "plt.title(\"# of fraud transactions over time\")\n",
    "\n",
    "plt.figure(figsize=(20,10))\n",
    "plt.show()"
   ]
  },
  {
   "cell_type": "markdown",
   "metadata": {
    "id": "GxxzDECkl3jd"
   },
   "source": [
    "Se observa que después de step 400 las transacciones reales disminuyen considerablemente, mientras que las fraudulentas se mantienen constantes."
   ]
  },
  {
   "cell_type": "markdown",
   "metadata": {
    "id": "AxaoU5L9mhx_"
   },
   "source": [
    "Esto puede hacernos pensar que a partir de step 400 hay más proporción de operaciones fraudulentas que antes."
   ]
  },
  {
   "cell_type": "markdown",
   "metadata": {
    "id": "0pvBCzhQosi2"
   },
   "source": [
    "## Manejando variables categóricas"
   ]
  },
  {
   "cell_type": "markdown",
   "metadata": {
    "id": "go__-gimBeao"
   },
   "source": [
    "Muchos modelos necesitan procesar únicamente variables numéricas, por esto es necesario pasar variables categóricas a numéricas. Una de las técnicas es crear variables dummy, donde se crea una nueva variable por cada valor de la variable vategórica que se quiere transformar."
   ]
  },
  {
   "cell_type": "code",
   "execution_count": 29,
   "metadata": {
    "id": "AEZTnf8eo2f0"
   },
   "outputs": [
    {
     "data": {
      "text/html": [
       "<div>\n",
       "<style scoped>\n",
       "    .dataframe tbody tr th:only-of-type {\n",
       "        vertical-align: middle;\n",
       "    }\n",
       "\n",
       "    .dataframe tbody tr th {\n",
       "        vertical-align: top;\n",
       "    }\n",
       "\n",
       "    .dataframe thead th {\n",
       "        text-align: right;\n",
       "    }\n",
       "</style>\n",
       "<table border=\"1\" class=\"dataframe\">\n",
       "  <thead>\n",
       "    <tr style=\"text-align: right;\">\n",
       "      <th></th>\n",
       "      <th>step</th>\n",
       "      <th>amount</th>\n",
       "      <th>oldbalanceOrg</th>\n",
       "      <th>newbalanceOrig</th>\n",
       "      <th>oldbalanceDest</th>\n",
       "      <th>newbalanceDest</th>\n",
       "      <th>CASH_IN</th>\n",
       "      <th>CASH_OUT</th>\n",
       "      <th>DEBIT</th>\n",
       "      <th>PAYMENT</th>\n",
       "      <th>TRANSFER</th>\n",
       "      <th>isFraud</th>\n",
       "      <th>isFlaggedFraud</th>\n",
       "    </tr>\n",
       "  </thead>\n",
       "  <tbody>\n",
       "    <tr>\n",
       "      <th>0</th>\n",
       "      <td>1</td>\n",
       "      <td>9839.64</td>\n",
       "      <td>170136.0</td>\n",
       "      <td>160296.36</td>\n",
       "      <td>0.0</td>\n",
       "      <td>0.0</td>\n",
       "      <td>False</td>\n",
       "      <td>False</td>\n",
       "      <td>False</td>\n",
       "      <td>True</td>\n",
       "      <td>False</td>\n",
       "      <td>0</td>\n",
       "      <td>0</td>\n",
       "    </tr>\n",
       "    <tr>\n",
       "      <th>1</th>\n",
       "      <td>1</td>\n",
       "      <td>1864.28</td>\n",
       "      <td>21249.0</td>\n",
       "      <td>19384.72</td>\n",
       "      <td>0.0</td>\n",
       "      <td>0.0</td>\n",
       "      <td>False</td>\n",
       "      <td>False</td>\n",
       "      <td>False</td>\n",
       "      <td>True</td>\n",
       "      <td>False</td>\n",
       "      <td>0</td>\n",
       "      <td>0</td>\n",
       "    </tr>\n",
       "    <tr>\n",
       "      <th>2</th>\n",
       "      <td>1</td>\n",
       "      <td>181.00</td>\n",
       "      <td>181.0</td>\n",
       "      <td>0.00</td>\n",
       "      <td>0.0</td>\n",
       "      <td>0.0</td>\n",
       "      <td>False</td>\n",
       "      <td>False</td>\n",
       "      <td>False</td>\n",
       "      <td>False</td>\n",
       "      <td>True</td>\n",
       "      <td>1</td>\n",
       "      <td>0</td>\n",
       "    </tr>\n",
       "    <tr>\n",
       "      <th>3</th>\n",
       "      <td>1</td>\n",
       "      <td>181.00</td>\n",
       "      <td>181.0</td>\n",
       "      <td>0.00</td>\n",
       "      <td>21182.0</td>\n",
       "      <td>0.0</td>\n",
       "      <td>False</td>\n",
       "      <td>True</td>\n",
       "      <td>False</td>\n",
       "      <td>False</td>\n",
       "      <td>False</td>\n",
       "      <td>1</td>\n",
       "      <td>0</td>\n",
       "    </tr>\n",
       "    <tr>\n",
       "      <th>4</th>\n",
       "      <td>1</td>\n",
       "      <td>11668.14</td>\n",
       "      <td>41554.0</td>\n",
       "      <td>29885.86</td>\n",
       "      <td>0.0</td>\n",
       "      <td>0.0</td>\n",
       "      <td>False</td>\n",
       "      <td>False</td>\n",
       "      <td>False</td>\n",
       "      <td>True</td>\n",
       "      <td>False</td>\n",
       "      <td>0</td>\n",
       "      <td>0</td>\n",
       "    </tr>\n",
       "  </tbody>\n",
       "</table>\n",
       "</div>"
      ],
      "text/plain": [
       "   step    amount  oldbalanceOrg  newbalanceOrig  oldbalanceDest  \\\n",
       "0     1   9839.64       170136.0       160296.36             0.0   \n",
       "1     1   1864.28        21249.0        19384.72             0.0   \n",
       "2     1    181.00          181.0            0.00             0.0   \n",
       "3     1    181.00          181.0            0.00         21182.0   \n",
       "4     1  11668.14        41554.0        29885.86             0.0   \n",
       "\n",
       "   newbalanceDest  CASH_IN  CASH_OUT  DEBIT  PAYMENT  TRANSFER  isFraud  \\\n",
       "0             0.0    False     False  False     True     False        0   \n",
       "1             0.0    False     False  False     True     False        0   \n",
       "2             0.0    False     False  False    False      True        1   \n",
       "3             0.0    False      True  False    False     False        1   \n",
       "4             0.0    False     False  False     True     False        0   \n",
       "\n",
       "   isFlaggedFraud  \n",
       "0               0  \n",
       "1               0  \n",
       "2               0  \n",
       "3               0  \n",
       "4               0  "
      ]
     },
     "execution_count": 29,
     "metadata": {},
     "output_type": "execute_result"
    }
   ],
   "source": [
    "# Se crean variables dummy y se eliminan las categóricas\n",
    "# Nótese que se eliminan tambien la cuenta de destino y origen ya que\n",
    "# no se consideran variables importantes\n",
    "dataset = pd.concat([df.drop(columns=['isFraud','isFlaggedFraud']),pd.get_dummies(df.type)] ,axis=1)\n",
    "dataset = dataset.drop(['type', 'nameOrig', 'nameDest'],axis=1)\n",
    "dataset = pd.concat([dataset,df.iloc[:,-2:]],axis=1)\n",
    "pd.DataFrame.head(dataset)"
   ]
  },
  {
   "cell_type": "markdown",
   "metadata": {
    "id": "z0yMhxS9QFJD"
   },
   "source": [
    "## Análisis de Redundancia"
   ]
  },
  {
   "cell_type": "markdown",
   "metadata": {
    "id": "OVSoLY53g-H1"
   },
   "source": [
    "### De atributos"
   ]
  },
  {
   "cell_type": "markdown",
   "metadata": {
    "id": "dazF5xM1RqLJ"
   },
   "source": [
    "Se va a comprobar la redundancia de atributos mediante el análisis de la correlación en el dataset, ya que todas las variables son numéricas."
   ]
  },
  {
   "cell_type": "markdown",
   "metadata": {
    "id": "KdsMgxRFlHFR"
   },
   "source": [
    "Correlación de Pearson (variables cuantitativas)"
   ]
  },
  {
   "cell_type": "markdown",
   "metadata": {
    "id": "Z82gxvRvolNp"
   },
   "source": [
    "Creo la matrix de correlación con la función corr()"
   ]
  },
  {
   "cell_type": "code",
   "execution_count": 30,
   "metadata": {
    "id": "y77DHyS1lkII"
   },
   "outputs": [],
   "source": [
    "cuantitativas = dataset.iloc[:,:6]"
   ]
  },
  {
   "cell_type": "code",
   "execution_count": 31,
   "metadata": {
    "id": "hH_gpB0gNoJK"
   },
   "outputs": [
    {
     "data": {
      "text/plain": [
       "Index(['step', 'amount', 'oldbalanceOrg', 'newbalanceOrig', 'oldbalanceDest',\n",
       "       'newbalanceDest'],\n",
       "      dtype='object')"
      ]
     },
     "execution_count": 31,
     "metadata": {},
     "output_type": "execute_result"
    }
   ],
   "source": [
    "cuantitativas.columns"
   ]
  },
  {
   "cell_type": "code",
   "execution_count": 32,
   "metadata": {
    "id": "8SEQUZZLw93h"
   },
   "outputs": [
    {
     "data": {
      "text/html": [
       "<style type=\"text/css\">\n",
       "#T_c9075_row0_col0, #T_c9075_row1_col1, #T_c9075_row2_col2, #T_c9075_row2_col3, #T_c9075_row3_col2, #T_c9075_row3_col3, #T_c9075_row4_col4, #T_c9075_row5_col5 {\n",
       "  background-color: #b40426;\n",
       "  color: #f1f1f1;\n",
       "}\n",
       "#T_c9075_row0_col1 {\n",
       "  background-color: #4358cb;\n",
       "  color: #f1f1f1;\n",
       "}\n",
       "#T_c9075_row0_col2, #T_c9075_row0_col3, #T_c9075_row0_col4, #T_c9075_row0_col5, #T_c9075_row1_col3, #T_c9075_row2_col0, #T_c9075_row3_col0, #T_c9075_row3_col1 {\n",
       "  background-color: #3b4cc0;\n",
       "  color: #f1f1f1;\n",
       "}\n",
       "#T_c9075_row1_col0 {\n",
       "  background-color: #445acc;\n",
       "  color: #f1f1f1;\n",
       "}\n",
       "#T_c9075_row1_col2, #T_c9075_row2_col1 {\n",
       "  background-color: #3c4ec2;\n",
       "  color: #f1f1f1;\n",
       "}\n",
       "#T_c9075_row1_col4 {\n",
       "  background-color: #96b7ff;\n",
       "  color: #000000;\n",
       "}\n",
       "#T_c9075_row1_col5 {\n",
       "  background-color: #cdd9ec;\n",
       "  color: #000000;\n",
       "}\n",
       "#T_c9075_row2_col4, #T_c9075_row3_col4 {\n",
       "  background-color: #465ecf;\n",
       "  color: #f1f1f1;\n",
       "}\n",
       "#T_c9075_row2_col5, #T_c9075_row3_col5 {\n",
       "  background-color: #3f53c6;\n",
       "  color: #f1f1f1;\n",
       "}\n",
       "#T_c9075_row4_col0, #T_c9075_row5_col0 {\n",
       "  background-color: #455cce;\n",
       "  color: #f1f1f1;\n",
       "}\n",
       "#T_c9075_row4_col1 {\n",
       "  background-color: #9ebeff;\n",
       "  color: #000000;\n",
       "}\n",
       "#T_c9075_row4_col2, #T_c9075_row4_col3 {\n",
       "  background-color: #516ddb;\n",
       "  color: #f1f1f1;\n",
       "}\n",
       "#T_c9075_row4_col5, #T_c9075_row5_col4 {\n",
       "  background-color: #bd1f2d;\n",
       "  color: #f1f1f1;\n",
       "}\n",
       "#T_c9075_row5_col1 {\n",
       "  background-color: #d3dbe7;\n",
       "  color: #000000;\n",
       "}\n",
       "#T_c9075_row5_col2, #T_c9075_row5_col3 {\n",
       "  background-color: #4a63d3;\n",
       "  color: #f1f1f1;\n",
       "}\n",
       "</style>\n",
       "<table id=\"T_c9075\">\n",
       "  <thead>\n",
       "    <tr>\n",
       "      <th class=\"blank level0\" >&nbsp;</th>\n",
       "      <th id=\"T_c9075_level0_col0\" class=\"col_heading level0 col0\" >step</th>\n",
       "      <th id=\"T_c9075_level0_col1\" class=\"col_heading level0 col1\" >amount</th>\n",
       "      <th id=\"T_c9075_level0_col2\" class=\"col_heading level0 col2\" >oldbalanceOrg</th>\n",
       "      <th id=\"T_c9075_level0_col3\" class=\"col_heading level0 col3\" >newbalanceOrig</th>\n",
       "      <th id=\"T_c9075_level0_col4\" class=\"col_heading level0 col4\" >oldbalanceDest</th>\n",
       "      <th id=\"T_c9075_level0_col5\" class=\"col_heading level0 col5\" >newbalanceDest</th>\n",
       "    </tr>\n",
       "  </thead>\n",
       "  <tbody>\n",
       "    <tr>\n",
       "      <th id=\"T_c9075_level0_row0\" class=\"row_heading level0 row0\" >step</th>\n",
       "      <td id=\"T_c9075_row0_col0\" class=\"data row0 col0\" >1.000000</td>\n",
       "      <td id=\"T_c9075_row0_col1\" class=\"data row0 col1\" >0.022373</td>\n",
       "      <td id=\"T_c9075_row0_col2\" class=\"data row0 col2\" >-0.010058</td>\n",
       "      <td id=\"T_c9075_row0_col3\" class=\"data row0 col3\" >-0.010299</td>\n",
       "      <td id=\"T_c9075_row0_col4\" class=\"data row0 col4\" >0.027665</td>\n",
       "      <td id=\"T_c9075_row0_col5\" class=\"data row0 col5\" >0.025888</td>\n",
       "    </tr>\n",
       "    <tr>\n",
       "      <th id=\"T_c9075_level0_row1\" class=\"row_heading level0 row1\" >amount</th>\n",
       "      <td id=\"T_c9075_row1_col0\" class=\"data row1 col0\" >0.022373</td>\n",
       "      <td id=\"T_c9075_row1_col1\" class=\"data row1 col1\" >1.000000</td>\n",
       "      <td id=\"T_c9075_row1_col2\" class=\"data row1 col2\" >-0.002762</td>\n",
       "      <td id=\"T_c9075_row1_col3\" class=\"data row1 col3\" >-0.007861</td>\n",
       "      <td id=\"T_c9075_row1_col4\" class=\"data row1 col4\" >0.294137</td>\n",
       "      <td id=\"T_c9075_row1_col5\" class=\"data row1 col5\" >0.459304</td>\n",
       "    </tr>\n",
       "    <tr>\n",
       "      <th id=\"T_c9075_level0_row2\" class=\"row_heading level0 row2\" >oldbalanceOrg</th>\n",
       "      <td id=\"T_c9075_row2_col0\" class=\"data row2 col0\" >-0.010058</td>\n",
       "      <td id=\"T_c9075_row2_col1\" class=\"data row2 col1\" >-0.002762</td>\n",
       "      <td id=\"T_c9075_row2_col2\" class=\"data row2 col2\" >1.000000</td>\n",
       "      <td id=\"T_c9075_row2_col3\" class=\"data row2 col3\" >0.998803</td>\n",
       "      <td id=\"T_c9075_row2_col4\" class=\"data row2 col4\" >0.066243</td>\n",
       "      <td id=\"T_c9075_row2_col5\" class=\"data row2 col5\" >0.042029</td>\n",
       "    </tr>\n",
       "    <tr>\n",
       "      <th id=\"T_c9075_level0_row3\" class=\"row_heading level0 row3\" >newbalanceOrig</th>\n",
       "      <td id=\"T_c9075_row3_col0\" class=\"data row3 col0\" >-0.010299</td>\n",
       "      <td id=\"T_c9075_row3_col1\" class=\"data row3 col1\" >-0.007861</td>\n",
       "      <td id=\"T_c9075_row3_col2\" class=\"data row3 col2\" >0.998803</td>\n",
       "      <td id=\"T_c9075_row3_col3\" class=\"data row3 col3\" >1.000000</td>\n",
       "      <td id=\"T_c9075_row3_col4\" class=\"data row3 col4\" >0.067812</td>\n",
       "      <td id=\"T_c9075_row3_col5\" class=\"data row3 col5\" >0.041837</td>\n",
       "    </tr>\n",
       "    <tr>\n",
       "      <th id=\"T_c9075_level0_row4\" class=\"row_heading level0 row4\" >oldbalanceDest</th>\n",
       "      <td id=\"T_c9075_row4_col0\" class=\"data row4 col0\" >0.027665</td>\n",
       "      <td id=\"T_c9075_row4_col1\" class=\"data row4 col1\" >0.294137</td>\n",
       "      <td id=\"T_c9075_row4_col2\" class=\"data row4 col2\" >0.066243</td>\n",
       "      <td id=\"T_c9075_row4_col3\" class=\"data row4 col3\" >0.067812</td>\n",
       "      <td id=\"T_c9075_row4_col4\" class=\"data row4 col4\" >1.000000</td>\n",
       "      <td id=\"T_c9075_row4_col5\" class=\"data row4 col5\" >0.976569</td>\n",
       "    </tr>\n",
       "    <tr>\n",
       "      <th id=\"T_c9075_level0_row5\" class=\"row_heading level0 row5\" >newbalanceDest</th>\n",
       "      <td id=\"T_c9075_row5_col0\" class=\"data row5 col0\" >0.025888</td>\n",
       "      <td id=\"T_c9075_row5_col1\" class=\"data row5 col1\" >0.459304</td>\n",
       "      <td id=\"T_c9075_row5_col2\" class=\"data row5 col2\" >0.042029</td>\n",
       "      <td id=\"T_c9075_row5_col3\" class=\"data row5 col3\" >0.041837</td>\n",
       "      <td id=\"T_c9075_row5_col4\" class=\"data row5 col4\" >0.976569</td>\n",
       "      <td id=\"T_c9075_row5_col5\" class=\"data row5 col5\" >1.000000</td>\n",
       "    </tr>\n",
       "  </tbody>\n",
       "</table>\n"
      ],
      "text/plain": [
       "<pandas.io.formats.style.Styler at 0x3b0c53640>"
      ]
     },
     "execution_count": 32,
     "metadata": {},
     "output_type": "execute_result"
    }
   ],
   "source": [
    "corr_mat = cuantitativas.corr(method=\"pearson\")\n",
    "corr_mat.style.background_gradient(cmap='coolwarm')"
   ]
  },
  {
   "cell_type": "code",
   "execution_count": 33,
   "metadata": {
    "id": "6V2xwTgMg_-L"
   },
   "outputs": [
    {
     "data": {
      "image/png": "[encoded data removed]",
      "text/plain": [
       "<Figure size 1000x800 with 2 Axes>"
      ]
     },
     "metadata": {},
     "output_type": "display_data"
    }
   ],
   "source": [
    "plt.figure(figsize=(10,8))\n",
    "sns.heatmap(corr_mat, annot=True)\n",
    "plt.title(\"Matriz de correlación\")\n",
    "plt.show()"
   ]
  },
  {
   "cell_type": "markdown",
   "metadata": {
    "id": "13vtb4POozYF"
   },
   "source": [
    "Se puede observar una enorme correlacion enre las siguientes variables:\n",
    "\n",
    "*   oldbalanceDest y newbalanceDest\n",
    "*   oldbalanceOrg y newbalanceOrig\n",
    "\n",
    "Esta correlación es debida a la clara influencia que existen entre las variables. Por ejemplo, cuando se envia dinero a un destinatario, ese alguien aumenta su capital, mientras que el origen disminuye.\n",
    "\n",
    "\n",
    "De momento no se elimina ninguna porque no se detectan fuertes correlaciones entre la mayoría de variables.\n",
    "\n",
    "Además, se van a ver otros métodos más adelante como el PCA, que escoge las variables a eliminar, para la reducción de dimensionalidad del dataset.\n"
   ]
  },
  {
   "cell_type": "markdown",
   "metadata": {
    "id": "kkwqogs6hA6b"
   },
   "source": [
    "### De registros"
   ]
  },
  {
   "cell_type": "markdown",
   "metadata": {
    "id": "pHu4sPeKsXJM"
   },
   "source": [
    "Mediante el test de Chi cuadrado se compreuba la correlación de algunos atributos cualitativos"
   ]
  },
  {
   "cell_type": "markdown",
   "metadata": {
    "id": "5o5NZ9Op86bJ"
   },
   "source": [
    "Los atributos que toman valores 0 y 1 se cuentan como atributos cualitativos, y deben ser analizados aquí y no en la matriz de correlación"
   ]
  },
  {
   "cell_type": "code",
   "execution_count": 34,
   "metadata": {
    "id": "l04gQ1l3vNII"
   },
   "outputs": [
    {
     "data": {
      "text/html": [
       "<div>\n",
       "<style scoped>\n",
       "    .dataframe tbody tr th:only-of-type {\n",
       "        vertical-align: middle;\n",
       "    }\n",
       "\n",
       "    .dataframe tbody tr th {\n",
       "        vertical-align: top;\n",
       "    }\n",
       "\n",
       "    .dataframe thead th {\n",
       "        text-align: right;\n",
       "    }\n",
       "</style>\n",
       "<table border=\"1\" class=\"dataframe\">\n",
       "  <thead>\n",
       "    <tr style=\"text-align: right;\">\n",
       "      <th></th>\n",
       "      <th>step</th>\n",
       "      <th>type</th>\n",
       "      <th>amount</th>\n",
       "      <th>nameOrig</th>\n",
       "      <th>oldbalanceOrg</th>\n",
       "      <th>newbalanceOrig</th>\n",
       "      <th>nameDest</th>\n",
       "      <th>oldbalanceDest</th>\n",
       "      <th>newbalanceDest</th>\n",
       "      <th>isFlaggedFraud</th>\n",
       "      <th>isFraud</th>\n",
       "    </tr>\n",
       "  </thead>\n",
       "  <tbody>\n",
       "    <tr>\n",
       "      <th>0</th>\n",
       "      <td>1</td>\n",
       "      <td>PAYMENT</td>\n",
       "      <td>9839.64</td>\n",
       "      <td>C1231006815</td>\n",
       "      <td>170136.0</td>\n",
       "      <td>160296.36</td>\n",
       "      <td>M1979787155</td>\n",
       "      <td>0.0</td>\n",
       "      <td>0.0</td>\n",
       "      <td>0</td>\n",
       "      <td>no</td>\n",
       "    </tr>\n",
       "    <tr>\n",
       "      <th>1</th>\n",
       "      <td>1</td>\n",
       "      <td>PAYMENT</td>\n",
       "      <td>1864.28</td>\n",
       "      <td>C1666544295</td>\n",
       "      <td>21249.0</td>\n",
       "      <td>19384.72</td>\n",
       "      <td>M2044282225</td>\n",
       "      <td>0.0</td>\n",
       "      <td>0.0</td>\n",
       "      <td>0</td>\n",
       "      <td>no</td>\n",
       "    </tr>\n",
       "    <tr>\n",
       "      <th>2</th>\n",
       "      <td>1</td>\n",
       "      <td>TRANSFER</td>\n",
       "      <td>181.00</td>\n",
       "      <td>C1305486145</td>\n",
       "      <td>181.0</td>\n",
       "      <td>0.00</td>\n",
       "      <td>C553264065</td>\n",
       "      <td>0.0</td>\n",
       "      <td>0.0</td>\n",
       "      <td>0</td>\n",
       "      <td>yes</td>\n",
       "    </tr>\n",
       "    <tr>\n",
       "      <th>3</th>\n",
       "      <td>1</td>\n",
       "      <td>CASH_OUT</td>\n",
       "      <td>181.00</td>\n",
       "      <td>C840083671</td>\n",
       "      <td>181.0</td>\n",
       "      <td>0.00</td>\n",
       "      <td>C38997010</td>\n",
       "      <td>21182.0</td>\n",
       "      <td>0.0</td>\n",
       "      <td>0</td>\n",
       "      <td>yes</td>\n",
       "    </tr>\n",
       "    <tr>\n",
       "      <th>4</th>\n",
       "      <td>1</td>\n",
       "      <td>PAYMENT</td>\n",
       "      <td>11668.14</td>\n",
       "      <td>C2048537720</td>\n",
       "      <td>41554.0</td>\n",
       "      <td>29885.86</td>\n",
       "      <td>M1230701703</td>\n",
       "      <td>0.0</td>\n",
       "      <td>0.0</td>\n",
       "      <td>0</td>\n",
       "      <td>no</td>\n",
       "    </tr>\n",
       "  </tbody>\n",
       "</table>\n",
       "</div>"
      ],
      "text/plain": [
       "   step      type    amount     nameOrig  oldbalanceOrg  newbalanceOrig  \\\n",
       "0     1   PAYMENT   9839.64  C1231006815       170136.0       160296.36   \n",
       "1     1   PAYMENT   1864.28  C1666544295        21249.0        19384.72   \n",
       "2     1  TRANSFER    181.00  C1305486145          181.0            0.00   \n",
       "3     1  CASH_OUT    181.00   C840083671          181.0            0.00   \n",
       "4     1   PAYMENT  11668.14  C2048537720        41554.0        29885.86   \n",
       "\n",
       "      nameDest  oldbalanceDest  newbalanceDest  isFlaggedFraud isFraud  \n",
       "0  M1979787155             0.0             0.0               0      no  \n",
       "1  M2044282225             0.0             0.0               0      no  \n",
       "2   C553264065             0.0             0.0               0     yes  \n",
       "3    C38997010         21182.0             0.0               0     yes  \n",
       "4  M1230701703             0.0             0.0               0      no  "
      ]
     },
     "execution_count": 34,
     "metadata": {},
     "output_type": "execute_result"
    }
   ],
   "source": [
    "chi_df = df.isFraud.replace(to_replace=[0,1], value=['no','yes'])\n",
    "chi_df = pd.concat([df.drop('isFraud',axis=1),chi_df] ,axis=1)\n",
    "chi_df.head()"
   ]
  },
  {
   "cell_type": "code",
   "execution_count": 35,
   "metadata": {
    "id": "mSuh6Jk1tZQR"
   },
   "outputs": [],
   "source": [
    "# creación de la tabla de contingencia con las dos columnas que se quieren estudiar\n",
    "observados = pd.crosstab(chi_df['isFraud'], chi_df.type, margins=True)"
   ]
  },
  {
   "cell_type": "code",
   "execution_count": 36,
   "metadata": {
    "id": "Ecw3FJhttuMB"
   },
   "outputs": [
    {
     "data": {
      "text/html": [
       "<div>\n",
       "<style scoped>\n",
       "    .dataframe tbody tr th:only-of-type {\n",
       "        vertical-align: middle;\n",
       "    }\n",
       "\n",
       "    .dataframe tbody tr th {\n",
       "        vertical-align: top;\n",
       "    }\n",
       "\n",
       "    .dataframe thead th {\n",
       "        text-align: right;\n",
       "    }\n",
       "</style>\n",
       "<table border=\"1\" class=\"dataframe\">\n",
       "  <thead>\n",
       "    <tr style=\"text-align: right;\">\n",
       "      <th>type</th>\n",
       "      <th>CASH_IN</th>\n",
       "      <th>CASH_OUT</th>\n",
       "      <th>DEBIT</th>\n",
       "      <th>PAYMENT</th>\n",
       "      <th>TRANSFER</th>\n",
       "      <th>All</th>\n",
       "    </tr>\n",
       "    <tr>\n",
       "      <th>isFraud</th>\n",
       "      <th></th>\n",
       "      <th></th>\n",
       "      <th></th>\n",
       "      <th></th>\n",
       "      <th></th>\n",
       "      <th></th>\n",
       "    </tr>\n",
       "  </thead>\n",
       "  <tbody>\n",
       "    <tr>\n",
       "      <th>no</th>\n",
       "      <td>1399284</td>\n",
       "      <td>2233384</td>\n",
       "      <td>41432</td>\n",
       "      <td>2151495</td>\n",
       "      <td>528812</td>\n",
       "      <td>6354407</td>\n",
       "    </tr>\n",
       "    <tr>\n",
       "      <th>yes</th>\n",
       "      <td>0</td>\n",
       "      <td>4116</td>\n",
       "      <td>0</td>\n",
       "      <td>0</td>\n",
       "      <td>4097</td>\n",
       "      <td>8213</td>\n",
       "    </tr>\n",
       "    <tr>\n",
       "      <th>All</th>\n",
       "      <td>1399284</td>\n",
       "      <td>2237500</td>\n",
       "      <td>41432</td>\n",
       "      <td>2151495</td>\n",
       "      <td>532909</td>\n",
       "      <td>6362620</td>\n",
       "    </tr>\n",
       "  </tbody>\n",
       "</table>\n",
       "</div>"
      ],
      "text/plain": [
       "type     CASH_IN  CASH_OUT  DEBIT  PAYMENT  TRANSFER      All\n",
       "isFraud                                                      \n",
       "no       1399284   2233384  41432  2151495    528812  6354407\n",
       "yes            0      4116      0        0      4097     8213\n",
       "All      1399284   2237500  41432  2151495    532909  6362620"
      ]
     },
     "execution_count": 36,
     "metadata": {},
     "output_type": "execute_result"
    }
   ],
   "source": [
    "observados"
   ]
  },
  {
   "cell_type": "code",
   "execution_count": 37,
   "metadata": {
    "id": "q7CW8l9-sdBx"
   },
   "outputs": [
    {
     "data": {
      "text/plain": [
       "Chi2ContingencyResult(statistic=np.float64(22082.53571319108), pvalue=np.float64(0.0), dof=10, expected_freq=array([[1.39747778e+06, 2.23461179e+06, 4.13785187e+04, 2.14871781e+06,\n",
       "        5.32221110e+05, 6.35440700e+06],\n",
       "       [1.80622440e+03, 2.88821075e+03, 5.34812728e+01, 2.77719374e+03,\n",
       "        6.87889834e+02, 8.21300000e+03],\n",
       "       [1.39928400e+06, 2.23750000e+06, 4.14320000e+04, 2.15149500e+06,\n",
       "        5.32909000e+05, 6.36262000e+06]]))"
      ]
     },
     "execution_count": 37,
     "metadata": {},
     "output_type": "execute_result"
    }
   ],
   "source": [
    "test = chi2_contingency(observados)\n",
    "test"
   ]
  },
  {
   "cell_type": "markdown",
   "metadata": {
    "id": "_EK1TWecuYcc"
   },
   "source": [
    "En la salida se obserban varios valores:\n",
    "\n",
    "\n",
    "1.   Estadistico (suma de las diferencias al cuadrado\n",
    "2.   P-valor\n",
    "3.   Tabla de valores esperados\n",
    "\n",
    "\n",
    "\n",
    "\n",
    "El segundo valor que sale en la salida  lleva a pensar que estas variales son muy correladas"
   ]
  },
  {
   "cell_type": "code",
   "execution_count": 38,
   "metadata": {
    "id": "vllC-fOdwsvx"
   },
   "outputs": [
    {
     "data": {
      "text/html": [
       "<div>\n",
       "<style scoped>\n",
       "    .dataframe tbody tr th:only-of-type {\n",
       "        vertical-align: middle;\n",
       "    }\n",
       "\n",
       "    .dataframe tbody tr th {\n",
       "        vertical-align: top;\n",
       "    }\n",
       "\n",
       "    .dataframe thead th {\n",
       "        text-align: right;\n",
       "    }\n",
       "</style>\n",
       "<table border=\"1\" class=\"dataframe\">\n",
       "  <thead>\n",
       "    <tr style=\"text-align: right;\">\n",
       "      <th></th>\n",
       "      <th>0</th>\n",
       "      <th>1</th>\n",
       "      <th>2</th>\n",
       "      <th>3</th>\n",
       "      <th>4</th>\n",
       "      <th>5</th>\n",
       "    </tr>\n",
       "  </thead>\n",
       "  <tbody>\n",
       "    <tr>\n",
       "      <th>0</th>\n",
       "      <td>1.397478e+06</td>\n",
       "      <td>2.234612e+06</td>\n",
       "      <td>41378.518727</td>\n",
       "      <td>2.148718e+06</td>\n",
       "      <td>532221.110166</td>\n",
       "      <td>6354407.0</td>\n",
       "    </tr>\n",
       "    <tr>\n",
       "      <th>1</th>\n",
       "      <td>1.806224e+03</td>\n",
       "      <td>2.888211e+03</td>\n",
       "      <td>53.481273</td>\n",
       "      <td>2.777194e+03</td>\n",
       "      <td>687.889834</td>\n",
       "      <td>8213.0</td>\n",
       "    </tr>\n",
       "    <tr>\n",
       "      <th>2</th>\n",
       "      <td>1.399284e+06</td>\n",
       "      <td>2.237500e+06</td>\n",
       "      <td>41432.000000</td>\n",
       "      <td>2.151495e+06</td>\n",
       "      <td>532909.000000</td>\n",
       "      <td>6362620.0</td>\n",
       "    </tr>\n",
       "  </tbody>\n",
       "</table>\n",
       "</div>"
      ],
      "text/plain": [
       "              0             1             2             3              4  \\\n",
       "0  1.397478e+06  2.234612e+06  41378.518727  2.148718e+06  532221.110166   \n",
       "1  1.806224e+03  2.888211e+03     53.481273  2.777194e+03     687.889834   \n",
       "2  1.399284e+06  2.237500e+06  41432.000000  2.151495e+06  532909.000000   \n",
       "\n",
       "           5  \n",
       "0  6354407.0  \n",
       "1     8213.0  \n",
       "2  6362620.0  "
      ]
     },
     "execution_count": 38,
     "metadata": {},
     "output_type": "execute_result"
    }
   ],
   "source": [
    "# convierto la tabla en dataframe\n",
    "esperados = pd.DataFrame(test[3])\n",
    "esperados"
   ]
  },
  {
   "cell_type": "code",
   "execution_count": 39,
   "metadata": {
    "id": "l7MdzWttxS5h"
   },
   "outputs": [],
   "source": [
    "esperados_rel = esperados.apply(lambda r: r/len(chi_df) *100,axis=1)"
   ]
  },
  {
   "cell_type": "code",
   "execution_count": 40,
   "metadata": {
    "id": "grFC-l3ZxmH7"
   },
   "outputs": [],
   "source": [
    "observados_rel = observados.apply(lambda r: r/len(chi_df) *100,axis=1)"
   ]
  },
  {
   "cell_type": "code",
   "execution_count": 41,
   "metadata": {
    "id": "A2tQ8DVnx-VI"
   },
   "outputs": [
    {
     "data": {
      "text/html": [
       "<div>\n",
       "<style scoped>\n",
       "    .dataframe tbody tr th:only-of-type {\n",
       "        vertical-align: middle;\n",
       "    }\n",
       "\n",
       "    .dataframe tbody tr th {\n",
       "        vertical-align: top;\n",
       "    }\n",
       "\n",
       "    .dataframe thead th {\n",
       "        text-align: right;\n",
       "    }\n",
       "</style>\n",
       "<table border=\"1\" class=\"dataframe\">\n",
       "  <thead>\n",
       "    <tr style=\"text-align: right;\">\n",
       "      <th>type</th>\n",
       "      <th>CASH_IN</th>\n",
       "      <th>CASH_OUT</th>\n",
       "      <th>DEBIT</th>\n",
       "      <th>PAYMENT</th>\n",
       "      <th>TRANSFER</th>\n",
       "      <th>All</th>\n",
       "    </tr>\n",
       "    <tr>\n",
       "      <th>isFraud</th>\n",
       "      <th></th>\n",
       "      <th></th>\n",
       "      <th></th>\n",
       "      <th></th>\n",
       "      <th></th>\n",
       "      <th></th>\n",
       "    </tr>\n",
       "  </thead>\n",
       "  <tbody>\n",
       "    <tr>\n",
       "      <th>no</th>\n",
       "      <td>21.992261</td>\n",
       "      <td>35.101641</td>\n",
       "      <td>0.651178</td>\n",
       "      <td>33.814608</td>\n",
       "      <td>8.311230</td>\n",
       "      <td>99.870918</td>\n",
       "    </tr>\n",
       "    <tr>\n",
       "      <th>yes</th>\n",
       "      <td>0.000000</td>\n",
       "      <td>0.064690</td>\n",
       "      <td>0.000000</td>\n",
       "      <td>0.000000</td>\n",
       "      <td>0.064392</td>\n",
       "      <td>0.129082</td>\n",
       "    </tr>\n",
       "    <tr>\n",
       "      <th>All</th>\n",
       "      <td>21.992261</td>\n",
       "      <td>35.166331</td>\n",
       "      <td>0.651178</td>\n",
       "      <td>33.814608</td>\n",
       "      <td>8.375622</td>\n",
       "      <td>100.000000</td>\n",
       "    </tr>\n",
       "  </tbody>\n",
       "</table>\n",
       "</div>"
      ],
      "text/plain": [
       "type       CASH_IN   CASH_OUT     DEBIT    PAYMENT  TRANSFER         All\n",
       "isFraud                                                                 \n",
       "no       21.992261  35.101641  0.651178  33.814608  8.311230   99.870918\n",
       "yes       0.000000   0.064690  0.000000   0.000000  0.064392    0.129082\n",
       "All      21.992261  35.166331  0.651178  33.814608  8.375622  100.000000"
      ]
     },
     "execution_count": 41,
     "metadata": {},
     "output_type": "execute_result"
    }
   ],
   "source": [
    "observados_rel"
   ]
  },
  {
   "cell_type": "code",
   "execution_count": 42,
   "metadata": {
    "id": "IOqUAGBwx1xi"
   },
   "outputs": [
    {
     "data": {
      "text/html": [
       "<div>\n",
       "<style scoped>\n",
       "    .dataframe tbody tr th:only-of-type {\n",
       "        vertical-align: middle;\n",
       "    }\n",
       "\n",
       "    .dataframe tbody tr th {\n",
       "        vertical-align: top;\n",
       "    }\n",
       "\n",
       "    .dataframe thead th {\n",
       "        text-align: right;\n",
       "    }\n",
       "</style>\n",
       "<table border=\"1\" class=\"dataframe\">\n",
       "  <thead>\n",
       "    <tr style=\"text-align: right;\">\n",
       "      <th></th>\n",
       "      <th>0</th>\n",
       "      <th>1</th>\n",
       "      <th>2</th>\n",
       "      <th>3</th>\n",
       "      <th>4</th>\n",
       "      <th>5</th>\n",
       "    </tr>\n",
       "  </thead>\n",
       "  <tbody>\n",
       "    <tr>\n",
       "      <th>0</th>\n",
       "      <td>21.963873</td>\n",
       "      <td>35.120937</td>\n",
       "      <td>0.650338</td>\n",
       "      <td>33.770959</td>\n",
       "      <td>8.364811</td>\n",
       "      <td>99.870918</td>\n",
       "    </tr>\n",
       "    <tr>\n",
       "      <th>1</th>\n",
       "      <td>0.028388</td>\n",
       "      <td>0.045393</td>\n",
       "      <td>0.000841</td>\n",
       "      <td>0.043649</td>\n",
       "      <td>0.010811</td>\n",
       "      <td>0.129082</td>\n",
       "    </tr>\n",
       "    <tr>\n",
       "      <th>2</th>\n",
       "      <td>21.992261</td>\n",
       "      <td>35.166331</td>\n",
       "      <td>0.651178</td>\n",
       "      <td>33.814608</td>\n",
       "      <td>8.375622</td>\n",
       "      <td>100.000000</td>\n",
       "    </tr>\n",
       "  </tbody>\n",
       "</table>\n",
       "</div>"
      ],
      "text/plain": [
       "           0          1         2          3         4           5\n",
       "0  21.963873  35.120937  0.650338  33.770959  8.364811   99.870918\n",
       "1   0.028388   0.045393  0.000841   0.043649  0.010811    0.129082\n",
       "2  21.992261  35.166331  0.651178  33.814608  8.375622  100.000000"
      ]
     },
     "execution_count": 42,
     "metadata": {},
     "output_type": "execute_result"
    }
   ],
   "source": [
    "esperados_rel"
   ]
  },
  {
   "cell_type": "code",
   "execution_count": 43,
   "metadata": {
    "id": "4hETqgfLyIB_"
   },
   "outputs": [
    {
     "data": {
      "text/plain": [
       "np.float64(0.0)"
      ]
     },
     "execution_count": 43,
     "metadata": {},
     "output_type": "execute_result"
    }
   ],
   "source": [
    "test[1]"
   ]
  },
  {
   "cell_type": "markdown",
   "metadata": {
    "id": "eHOJi7OsyaVu"
   },
   "source": [
    "Como el p valor < 0.05 podemos afirmar que las variables están correlacionadas"
   ]
  },
  {
   "cell_type": "markdown",
   "metadata": {
    "id": "01qqtdXH17gM"
   },
   "source": [
    "Nunca ocurrira que una operación CASH_IN sea fraude"
   ]
  },
  {
   "cell_type": "markdown",
   "metadata": {
    "id": "BQu5r38Iuj0S"
   },
   "source": [
    "### Duplicados"
   ]
  },
  {
   "cell_type": "markdown",
   "metadata": {
    "id": "AJ1GZrE3ehVv"
   },
   "source": [
    "Se comprueba que no existen registros duplicados\n",
    "\n",
    "El método de python duplicated(), selecciona los registros coincidentes, excepto la primera ocurrencia de cada coincidencia, basandose en todas las columnas"
   ]
  },
  {
   "cell_type": "code",
   "execution_count": 44,
   "metadata": {
    "id": "d8JxPOMa87bh"
   },
   "outputs": [
    {
     "data": {
      "text/plain": [
       "np.False_"
      ]
     },
     "execution_count": 44,
     "metadata": {},
     "output_type": "execute_result"
    }
   ],
   "source": [
    "df.duplicated().any()"
   ]
  },
  {
   "cell_type": "markdown",
   "metadata": {
    "id": "t9Wpz_Gn9NEB"
   },
   "source": [
    "Duplicados basandose en todos los atributos"
   ]
  },
  {
   "cell_type": "code",
   "execution_count": 45,
   "metadata": {
    "id": "8vThMrl3emEl"
   },
   "outputs": [
    {
     "name": "stdout",
     "output_type": "stream",
     "text": [
      "No existen columnas duplicadas basándose en todos los atributos: \n",
      "Empty DataFrame\n",
      "Columns: [step, type, amount, nameOrig, oldbalanceOrg, newbalanceOrig, nameDest, oldbalanceDest, newbalanceDest, isFraud, isFlaggedFraud]\n",
      "Index: []\n"
     ]
    }
   ],
   "source": [
    "df_duplicate = df[df.duplicated()]\n",
    "if (df_duplicate.size < 1):\n",
    "  print(\"No existen columnas duplicadas basándose en todos los atributos: \")\n",
    "print(df_duplicate)"
   ]
  },
  {
   "cell_type": "markdown",
   "metadata": {
    "id": "R9UZiJch61ND"
   },
   "source": [
    "Duplicados basandose en atributos seleccionados"
   ]
  },
  {
   "cell_type": "code",
   "execution_count": 46,
   "metadata": {
    "id": "dACGyI3BfneV"
   },
   "outputs": [
    {
     "name": "stdout",
     "output_type": "stream",
     "text": [
      "Registros duplicados según atributos especificos: \n",
      "         step      type      amount     nameOrig  oldbalanceOrg  \\\n",
      "294115     15  TRANSFER  1933468.14   C813633808            0.0   \n",
      "379235     17  CASH_OUT    21789.38  C1823562588            0.0   \n",
      "462165     19  CASH_OUT   127391.74   C494623691            0.0   \n",
      "530415     20  CASH_OUT   154903.22   C443788923        30049.0   \n",
      "544035     21   PAYMENT    15065.21  C1389563190            0.0   \n",
      "...       ...       ...         ...          ...            ...   \n",
      "6342978   692  CASH_OUT    60207.45  C1162474222        31294.0   \n",
      "6351323   705  CASH_OUT    36126.00   C534198506          817.0   \n",
      "6353901   707  CASH_OUT   319760.77  C1450140233       117538.0   \n",
      "6357276   710  CASH_OUT   186509.82  C1101600194       158484.0   \n",
      "6360204   715  TRANSFER   118688.81  C1313642079       110425.0   \n",
      "\n",
      "         newbalanceOrig     nameDest  oldbalanceDest  newbalanceDest  isFraud  \\\n",
      "294115              0.0  C1648633036      5467502.75      7400970.89        0   \n",
      "379235              0.0   C686744534       295693.18       175199.53        0   \n",
      "462165              0.0   C883841715      5090246.42      4987399.39        0   \n",
      "530415              0.0   C799452936       310009.44       464912.65        0   \n",
      "544035              0.0  M1365585524            0.00            0.00        0   \n",
      "...                 ...          ...             ...             ...      ...   \n",
      "6342978             0.0   C748892417       281480.18       341687.63        0   \n",
      "6351323             0.0    C90193269       420517.85       456643.84        0   \n",
      "6353901             0.0  C1188196454            0.00       319760.77        0   \n",
      "6357276             0.0  C2071450702      4965284.13      5151793.95        0   \n",
      "6360204             0.0   C927206109            0.00       118688.81        0   \n",
      "\n",
      "         isFlaggedFraud  \n",
      "294115                0  \n",
      "379235                0  \n",
      "462165                0  \n",
      "530415                0  \n",
      "544035                0  \n",
      "...                 ...  \n",
      "6342978               0  \n",
      "6351323               0  \n",
      "6353901               0  \n",
      "6357276               0  \n",
      "6360204               0  \n",
      "\n",
      "[1241 rows x 11 columns]\n"
     ]
    }
   ],
   "source": [
    "df_duplicate = df[df.duplicated(['nameOrig', 'type','newbalanceOrig'])]\n",
    "print(\"Registros duplicados según atributos especificos: \")\n",
    "print(df_duplicate)"
   ]
  },
  {
   "cell_type": "markdown",
   "metadata": {
    "id": "mBJ2FwviTSZw"
   },
   "source": [
    "## Balanceo de Clases"
   ]
  },
  {
   "cell_type": "markdown",
   "metadata": {
    "id": "Vl4uSS9zG7ye"
   },
   "source": [
    "Al contar con esta ingente cantidad de observaciones, se aprecia un desbalenceo importante en las clases de la variable objetivo. El porcentaje de observaciones clasificadas como fraudes es de apenas un 0.13%"
   ]
  },
  {
   "cell_type": "code",
   "execution_count": 47,
   "metadata": {
    "id": "FCcJCgd7Yw_1"
   },
   "outputs": [
    {
     "name": "stdout",
     "output_type": "stream",
     "text": [
      "Porcentaje de operaciones fraudulentas: 0.12908204481801522\n"
     ]
    }
   ],
   "source": [
    "total = dataset['isFraud'].value_counts()[0] + df['isFraud'].value_counts()[1]\n",
    "fraud = (df['isFraud'].value_counts()[1]/total) * 100\n",
    "print('Porcentaje de operaciones fraudulentas:', fraud)"
   ]
  },
  {
   "cell_type": "markdown",
   "metadata": {
    "id": "9XgMuScEZ2mD"
   },
   "source": [
    "Para intentar solventar este problema, se procede al undersampling, o submuestreo, en español. Esto lo que hará es disminuir el número de observaciones pertenecientes a la clase mayoritaria (en este caso son las operaciones no fraudulentas), hasta igualar al número de observaciones de la clase minoritaria (observasciones fraudulentas)"
   ]
  },
  {
   "cell_type": "markdown",
   "metadata": {
    "id": "pVz-4mbszYyt"
   },
   "source": [
    "Submuestreo aleatorio con **imbalanced-learn**:\n",
    "\n",
    "Busca agrupar los registros de la clase mayoritaria y hacer un submuestreo eliminando registros de cada grupo, buscando así preservar la información."
   ]
  },
  {
   "cell_type": "code",
   "execution_count": 48,
   "metadata": {
    "id": "JWrHs5Swbezi"
   },
   "outputs": [
    {
     "name": "stdout",
     "output_type": "stream",
     "text": [
      "isFraud\n",
      "0    8213\n",
      "1    8213\n",
      "Name: count, dtype: int64\n"
     ]
    }
   ],
   "source": [
    "columns = dataset.columns\n",
    "X = dataset.drop('isFraud',axis=1)\n",
    "y = dataset.isFraud\n",
    "\n",
    "undersample = RandomUnderSampler()\n",
    "X_under, y_under = undersample.fit_resample(X, y)\n",
    "\n",
    "print(pd.Series(y_under).value_counts())"
   ]
  },
  {
   "cell_type": "code",
   "execution_count": 49,
   "metadata": {
    "id": "FtUnlVf_4iy7"
   },
   "outputs": [],
   "source": [
    " columns_X = np.delete(columns, 11)\n",
    " columns_y = columns[-2]"
   ]
  },
  {
   "cell_type": "code",
   "execution_count": 50,
   "metadata": {
    "id": "u40axes41J5f"
   },
   "outputs": [
    {
     "data": {
      "text/html": [
       "<div>\n",
       "<style scoped>\n",
       "    .dataframe tbody tr th:only-of-type {\n",
       "        vertical-align: middle;\n",
       "    }\n",
       "\n",
       "    .dataframe tbody tr th {\n",
       "        vertical-align: top;\n",
       "    }\n",
       "\n",
       "    .dataframe thead th {\n",
       "        text-align: right;\n",
       "    }\n",
       "</style>\n",
       "<table border=\"1\" class=\"dataframe\">\n",
       "  <thead>\n",
       "    <tr style=\"text-align: right;\">\n",
       "      <th></th>\n",
       "      <th>step</th>\n",
       "      <th>amount</th>\n",
       "      <th>oldbalanceOrg</th>\n",
       "      <th>newbalanceOrig</th>\n",
       "      <th>oldbalanceDest</th>\n",
       "      <th>newbalanceDest</th>\n",
       "      <th>CASH_IN</th>\n",
       "      <th>CASH_OUT</th>\n",
       "      <th>DEBIT</th>\n",
       "      <th>PAYMENT</th>\n",
       "      <th>TRANSFER</th>\n",
       "      <th>isFlaggedFraud</th>\n",
       "      <th>isFraud</th>\n",
       "    </tr>\n",
       "  </thead>\n",
       "  <tbody>\n",
       "    <tr>\n",
       "      <th>1417484</th>\n",
       "      <td>139</td>\n",
       "      <td>265803.35</td>\n",
       "      <td>0.00</td>\n",
       "      <td>0.00</td>\n",
       "      <td>751669.39</td>\n",
       "      <td>1017472.74</td>\n",
       "      <td>False</td>\n",
       "      <td>True</td>\n",
       "      <td>False</td>\n",
       "      <td>False</td>\n",
       "      <td>False</td>\n",
       "      <td>0</td>\n",
       "      <td>0</td>\n",
       "    </tr>\n",
       "    <tr>\n",
       "      <th>6216425</th>\n",
       "      <td>589</td>\n",
       "      <td>11278.28</td>\n",
       "      <td>0.00</td>\n",
       "      <td>0.00</td>\n",
       "      <td>220970.84</td>\n",
       "      <td>232249.12</td>\n",
       "      <td>False</td>\n",
       "      <td>True</td>\n",
       "      <td>False</td>\n",
       "      <td>False</td>\n",
       "      <td>False</td>\n",
       "      <td>0</td>\n",
       "      <td>0</td>\n",
       "    </tr>\n",
       "    <tr>\n",
       "      <th>3906122</th>\n",
       "      <td>284</td>\n",
       "      <td>16363.06</td>\n",
       "      <td>35966.16</td>\n",
       "      <td>19603.10</td>\n",
       "      <td>0.00</td>\n",
       "      <td>0.00</td>\n",
       "      <td>False</td>\n",
       "      <td>False</td>\n",
       "      <td>False</td>\n",
       "      <td>True</td>\n",
       "      <td>False</td>\n",
       "      <td>0</td>\n",
       "      <td>0</td>\n",
       "    </tr>\n",
       "    <tr>\n",
       "      <th>731681</th>\n",
       "      <td>37</td>\n",
       "      <td>107223.31</td>\n",
       "      <td>20752629.71</td>\n",
       "      <td>20859853.02</td>\n",
       "      <td>804594.62</td>\n",
       "      <td>571711.22</td>\n",
       "      <td>True</td>\n",
       "      <td>False</td>\n",
       "      <td>False</td>\n",
       "      <td>False</td>\n",
       "      <td>False</td>\n",
       "      <td>0</td>\n",
       "      <td>0</td>\n",
       "    </tr>\n",
       "    <tr>\n",
       "      <th>3949919</th>\n",
       "      <td>287</td>\n",
       "      <td>3678.25</td>\n",
       "      <td>0.00</td>\n",
       "      <td>0.00</td>\n",
       "      <td>0.00</td>\n",
       "      <td>0.00</td>\n",
       "      <td>False</td>\n",
       "      <td>False</td>\n",
       "      <td>False</td>\n",
       "      <td>True</td>\n",
       "      <td>False</td>\n",
       "      <td>0</td>\n",
       "      <td>0</td>\n",
       "    </tr>\n",
       "    <tr>\n",
       "      <th>...</th>\n",
       "      <td>...</td>\n",
       "      <td>...</td>\n",
       "      <td>...</td>\n",
       "      <td>...</td>\n",
       "      <td>...</td>\n",
       "      <td>...</td>\n",
       "      <td>...</td>\n",
       "      <td>...</td>\n",
       "      <td>...</td>\n",
       "      <td>...</td>\n",
       "      <td>...</td>\n",
       "      <td>...</td>\n",
       "      <td>...</td>\n",
       "    </tr>\n",
       "    <tr>\n",
       "      <th>6362615</th>\n",
       "      <td>743</td>\n",
       "      <td>339682.13</td>\n",
       "      <td>339682.13</td>\n",
       "      <td>0.00</td>\n",
       "      <td>0.00</td>\n",
       "      <td>339682.13</td>\n",
       "      <td>False</td>\n",
       "      <td>True</td>\n",
       "      <td>False</td>\n",
       "      <td>False</td>\n",
       "      <td>False</td>\n",
       "      <td>0</td>\n",
       "      <td>1</td>\n",
       "    </tr>\n",
       "    <tr>\n",
       "      <th>6362616</th>\n",
       "      <td>743</td>\n",
       "      <td>6311409.28</td>\n",
       "      <td>6311409.28</td>\n",
       "      <td>0.00</td>\n",
       "      <td>0.00</td>\n",
       "      <td>0.00</td>\n",
       "      <td>False</td>\n",
       "      <td>False</td>\n",
       "      <td>False</td>\n",
       "      <td>False</td>\n",
       "      <td>True</td>\n",
       "      <td>0</td>\n",
       "      <td>1</td>\n",
       "    </tr>\n",
       "    <tr>\n",
       "      <th>6362617</th>\n",
       "      <td>743</td>\n",
       "      <td>6311409.28</td>\n",
       "      <td>6311409.28</td>\n",
       "      <td>0.00</td>\n",
       "      <td>68488.84</td>\n",
       "      <td>6379898.11</td>\n",
       "      <td>False</td>\n",
       "      <td>True</td>\n",
       "      <td>False</td>\n",
       "      <td>False</td>\n",
       "      <td>False</td>\n",
       "      <td>0</td>\n",
       "      <td>1</td>\n",
       "    </tr>\n",
       "    <tr>\n",
       "      <th>6362618</th>\n",
       "      <td>743</td>\n",
       "      <td>850002.52</td>\n",
       "      <td>850002.52</td>\n",
       "      <td>0.00</td>\n",
       "      <td>0.00</td>\n",
       "      <td>0.00</td>\n",
       "      <td>False</td>\n",
       "      <td>False</td>\n",
       "      <td>False</td>\n",
       "      <td>False</td>\n",
       "      <td>True</td>\n",
       "      <td>0</td>\n",
       "      <td>1</td>\n",
       "    </tr>\n",
       "    <tr>\n",
       "      <th>6362619</th>\n",
       "      <td>743</td>\n",
       "      <td>850002.52</td>\n",
       "      <td>850002.52</td>\n",
       "      <td>0.00</td>\n",
       "      <td>6510099.11</td>\n",
       "      <td>7360101.63</td>\n",
       "      <td>False</td>\n",
       "      <td>True</td>\n",
       "      <td>False</td>\n",
       "      <td>False</td>\n",
       "      <td>False</td>\n",
       "      <td>0</td>\n",
       "      <td>1</td>\n",
       "    </tr>\n",
       "  </tbody>\n",
       "</table>\n",
       "<p>16426 rows × 13 columns</p>\n",
       "</div>"
      ],
      "text/plain": [
       "         step      amount  oldbalanceOrg  newbalanceOrig  oldbalanceDest  \\\n",
       "1417484   139   265803.35           0.00            0.00       751669.39   \n",
       "6216425   589    11278.28           0.00            0.00       220970.84   \n",
       "3906122   284    16363.06       35966.16        19603.10            0.00   \n",
       "731681     37   107223.31    20752629.71     20859853.02       804594.62   \n",
       "3949919   287     3678.25           0.00            0.00            0.00   \n",
       "...       ...         ...            ...             ...             ...   \n",
       "6362615   743   339682.13      339682.13            0.00            0.00   \n",
       "6362616   743  6311409.28     6311409.28            0.00            0.00   \n",
       "6362617   743  6311409.28     6311409.28            0.00        68488.84   \n",
       "6362618   743   850002.52      850002.52            0.00            0.00   \n",
       "6362619   743   850002.52      850002.52            0.00      6510099.11   \n",
       "\n",
       "         newbalanceDest  CASH_IN  CASH_OUT  DEBIT  PAYMENT  TRANSFER  \\\n",
       "1417484      1017472.74    False      True  False    False     False   \n",
       "6216425       232249.12    False      True  False    False     False   \n",
       "3906122            0.00    False     False  False     True     False   \n",
       "731681        571711.22     True     False  False    False     False   \n",
       "3949919            0.00    False     False  False     True     False   \n",
       "...                 ...      ...       ...    ...      ...       ...   \n",
       "6362615       339682.13    False      True  False    False     False   \n",
       "6362616            0.00    False     False  False    False      True   \n",
       "6362617      6379898.11    False      True  False    False     False   \n",
       "6362618            0.00    False     False  False    False      True   \n",
       "6362619      7360101.63    False      True  False    False     False   \n",
       "\n",
       "         isFlaggedFraud  isFraud  \n",
       "1417484               0        0  \n",
       "6216425               0        0  \n",
       "3906122               0        0  \n",
       "731681                0        0  \n",
       "3949919               0        0  \n",
       "...                 ...      ...  \n",
       "6362615               0        1  \n",
       "6362616               0        1  \n",
       "6362617               0        1  \n",
       "6362618               0        1  \n",
       "6362619               0        1  \n",
       "\n",
       "[16426 rows x 13 columns]"
      ]
     },
     "execution_count": 50,
     "metadata": {},
     "output_type": "execute_result"
    }
   ],
   "source": [
    "X_df = pd.DataFrame(X_under, columns=columns_X)\n",
    "y_df = pd.DataFrame(y_under, columns=[columns_y])\n",
    "\n",
    "new_df = pd.concat([X_df, y_df], axis=1)\n",
    "new_df"
   ]
  },
  {
   "cell_type": "markdown",
   "metadata": {
    "id": "_UwNmQj7T0jE"
   },
   "source": [
    "El undersampling ha sido realizado con éxito."
   ]
  },
  {
   "cell_type": "code",
   "execution_count": 51,
   "metadata": {
    "id": "3X2m3DVY8d5h"
   },
   "outputs": [
    {
     "data": {
      "text/plain": [
       "<Axes: title={'center': 'Distribución después de submuestreo'}, xlabel='isFraud'>"
      ]
     },
     "execution_count": 51,
     "metadata": {},
     "output_type": "execute_result"
    },
    {
     "data": {
      "image/png": "[encoded data removed]",
      "text/plain": [
       "<Figure size 2000x1000 with 1 Axes>"
      ]
     },
     "metadata": {},
     "output_type": "display_data"
    }
   ],
   "source": [
    "plt.rcParams['figure.figsize']=[20,10]\n",
    "new_df.isFraud.value_counts().plot(kind='bar', title='Distribución después de submuestreo')"
   ]
  },
  {
   "cell_type": "code",
   "execution_count": 52,
   "metadata": {
    "id": "oj_-IeqnX5Ix"
   },
   "outputs": [
    {
     "name": "stdout",
     "output_type": "stream",
     "text": [
      "Porcentaje de operaciones fraudulentas: 50.0\n"
     ]
    }
   ],
   "source": [
    "total = new_df['isFraud'].value_counts()[0] + df['isFraud'].value_counts()[1]\n",
    "fraud = (new_df['isFraud'].value_counts()[1]/total) * 100\n",
    "print('Porcentaje de operaciones fraudulentas:', fraud)"
   ]
  },
  {
   "cell_type": "markdown",
   "metadata": {
    "id": "GFwiFjbP8X9q"
   },
   "source": [
    "De esta forma se han conseguido dos importantes tareas:\n",
    "\n",
    "\n",
    "1.   Reducir la dimensionalidad del dataset\n",
    "2.   Balancear las clase\n",
    "\n",
    "Para saber si se ha perdido o no información, es necesario realizar la tarea de detección de anomalías con y sin el submuestreo.\n",
    "\n",
    "Se va a realizar con 3 clasificadores:\n",
    "\n",
    "\n",
    "\n",
    "\n",
    "*   Árbol de decisión\n",
    "\n",
    "*   Regresión Logística\n",
    "*   Random Forest\n",
    "\n",
    "\n",
    "\n"
   ]
  },
  {
   "cell_type": "markdown",
   "metadata": {
    "id": "As7L0FYL3Dm3"
   },
   "source": [
    "### Sin balanceo (Árbol de decisión)"
   ]
  },
  {
   "cell_type": "code",
   "execution_count": 53,
   "metadata": {
    "id": "81GID6xt3GMn"
   },
   "outputs": [],
   "source": [
    "train_X, test_X, train_y, test_y = train_test_split( dataset.drop(columns=[\"isFraud\"]), dataset.isFraud, test_size=1/7.0, random_state=0)\n",
    "\n",
    "# Se escoge la regresión logística\n",
    "DT = tree.DecisionTreeClassifier()\n",
    "\n",
    "# se entrena el modelo con el dataset de entrenamiento\n",
    "DT.fit(train_X, train_y)\n",
    "\n",
    "# predice la clase de test\n",
    "predictions = DT.predict(test_X)"
   ]
  },
  {
   "cell_type": "code",
   "execution_count": 54,
   "metadata": {
    "id": "bbf6__EK4Ytj"
   },
   "outputs": [
    {
     "name": "stdout",
     "output_type": "stream",
     "text": [
      "0.9997216556319077\n",
      "[[907655    122]\n",
      " [   131   1038]]\n",
      "              precision    recall  f1-score   support\n",
      "\n",
      "           0       1.00      1.00      1.00    907777\n",
      "           1       0.89      0.89      0.89      1169\n",
      "\n",
      "    accuracy                           1.00    908946\n",
      "   macro avg       0.95      0.94      0.95    908946\n",
      "weighted avg       1.00      1.00      1.00    908946\n",
      "\n"
     ]
    }
   ],
   "source": [
    "# Evaluate predictions\n",
    "print(DT.score(test_X, test_y))\n",
    "print(confusion_matrix(test_y, predictions))\n",
    "print(classification_report(test_y, DT.predict(test_X)))"
   ]
  },
  {
   "cell_type": "markdown",
   "metadata": {
    "id": "YDUZnhXM4jNs"
   },
   "source": [
    "Se observa un buen rendimiento en general, pero detecta mejor una clase que otra"
   ]
  },
  {
   "cell_type": "markdown",
   "metadata": {
    "id": "heINPEMIWtxy"
   },
   "source": [
    "### Sin balanceo (Regresión Logística)"
   ]
  },
  {
   "cell_type": "code",
   "execution_count": 55,
   "metadata": {
    "id": "3vHkWZbCXAEz"
   },
   "outputs": [
    {
     "name": "stderr",
     "output_type": "stream",
     "text": [
      "/Users/jiliarsilgado/anaconda3/envs/npl_ean_final_2024/lib/python3.10/site-packages/sklearn/linear_model/_logistic.py:465: ConvergenceWarning: lbfgs failed to converge (status=1):\n",
      "STOP: TOTAL NO. OF ITERATIONS REACHED LIMIT.\n",
      "\n",
      "Increase the number of iterations (max_iter) or scale the data as shown in:\n",
      "    https://scikit-learn.org/stable/modules/preprocessing.html\n",
      "Please also refer to the documentation for alternative solver options:\n",
      "    https://scikit-learn.org/stable/modules/linear_model.html#logistic-regression\n",
      "  n_iter_i = _check_optimize_result(\n"
     ]
    }
   ],
   "source": [
    "train_X, test_X, train_y, test_y = train_test_split( dataset.drop(columns=[\"isFraud\"]), dataset.isFraud, test_size=1/7.0, random_state=0)\n",
    "\n",
    "# Se escoge la regresión logística\n",
    "LR = LogisticRegression()\n",
    "\n",
    "# se entrena el modelo con el dataset de entrenamiento\n",
    "LR.fit(train_X, train_y)\n",
    "\n",
    "# predice la clase de test\n",
    "predictions = LR.predict(test_X)"
   ]
  },
  {
   "cell_type": "code",
   "execution_count": 56,
   "metadata": {
    "id": "0WeKncHjXCaQ"
   },
   "outputs": [
    {
     "name": "stdout",
     "output_type": "stream",
     "text": [
      "0.998099997139544\n",
      "[[906677   1100]\n",
      " [   627    542]]\n",
      "              precision    recall  f1-score   support\n",
      "\n",
      "           0       1.00      1.00      1.00    907777\n",
      "           1       0.33      0.46      0.39      1169\n",
      "\n",
      "    accuracy                           1.00    908946\n",
      "   macro avg       0.66      0.73      0.69    908946\n",
      "weighted avg       1.00      1.00      1.00    908946\n",
      "\n"
     ]
    }
   ],
   "source": [
    "# Evaluate predictions\n",
    "print(LR.score(test_X, test_y))\n",
    "print(confusion_matrix(test_y, predictions))\n",
    "print(classification_report(test_y, LR.predict(test_X)))"
   ]
  },
  {
   "cell_type": "markdown",
   "metadata": {
    "id": "ZqqnY8QaYc-N"
   },
   "source": [
    "Se aprecia que, aunque el accuracy del modelo es del 99.8%, este no es tan bueno como parece.\n",
    "\n",
    "Si nos fijamos en la matriz de confusión, este modelo clasifica perfectamente las operaciones reales, pero las que son fraudulentas sólo es capaz de clasificarlas correctamente un 34% de las veces"
   ]
  },
  {
   "cell_type": "markdown",
   "metadata": {
    "id": "Qa47Q309U2Fn"
   },
   "source": [
    "### Sin balanceo (Random Forest)"
   ]
  },
  {
   "cell_type": "code",
   "execution_count": 57,
   "metadata": {
    "id": "n0cpjZIHUtXT"
   },
   "outputs": [
    {
     "name": "stdout",
     "output_type": "stream",
     "text": [
      "0.9997051530013884\n",
      "[[907760     17]\n",
      " [   251    918]]\n",
      "              precision    recall  f1-score   support\n",
      "\n",
      "           0       1.00      1.00      1.00    907777\n",
      "           1       0.98      0.79      0.87      1169\n",
      "\n",
      "    accuracy                           1.00    908946\n",
      "   macro avg       0.99      0.89      0.94    908946\n",
      "weighted avg       1.00      1.00      1.00    908946\n",
      "\n"
     ]
    }
   ],
   "source": [
    "train_X, test_X, train_y, test_y = train_test_split( dataset.drop(columns=[\"isFraud\"]), dataset.isFraud, test_size=1/7.0, random_state=0)\n",
    "\n",
    "# Se escoge la regresión logística\n",
    "RF = RandomForestClassifier()\n",
    "\n",
    "# se entrena el modelo con el dataset de entrenamiento\n",
    "RF.fit(train_X, train_y)\n",
    "\n",
    "# predice la clase de test\n",
    "predictions = RF.predict(test_X)\n",
    "\n",
    "# Evaluate predictions\n",
    "print(RF.score(test_X, test_y))\n",
    "print(confusion_matrix(test_y, predictions))\n",
    "print(classification_report(test_y, RF.predict(test_X)))"
   ]
  },
  {
   "cell_type": "markdown",
   "metadata": {
    "id": "kVBtTG864s9r"
   },
   "source": [
    "### Con balanceo (Árbol de decisión)"
   ]
  },
  {
   "cell_type": "code",
   "execution_count": 58,
   "metadata": {
    "id": "2_EMhyHl4x9M"
   },
   "outputs": [],
   "source": [
    "train_X, test_X, train_y, test_y = train_test_split( new_df.drop(columns=[\"isFraud\"]), new_df.isFraud, test_size=1/7.0, random_state=0)\n",
    "\n",
    "# Se escoge la regresión logística\n",
    "DT = tree.DecisionTreeClassifier()\n",
    "\n",
    "# se entrena el modelo con el dataset de entrenamiento\n",
    "DT.fit(train_X, train_y)\n",
    "\n",
    "# predice la clase de test\n",
    "predictions = DT.predict(test_X)"
   ]
  },
  {
   "cell_type": "code",
   "execution_count": 59,
   "metadata": {
    "id": "awqFbzOO462c"
   },
   "outputs": [
    {
     "name": "stdout",
     "output_type": "stream",
     "text": [
      "0.9889220281210055\n",
      "[[1165    9]\n",
      " [  17 1156]]\n",
      "              precision    recall  f1-score   support\n",
      "\n",
      "           0       0.99      0.99      0.99      1174\n",
      "           1       0.99      0.99      0.99      1173\n",
      "\n",
      "    accuracy                           0.99      2347\n",
      "   macro avg       0.99      0.99      0.99      2347\n",
      "weighted avg       0.99      0.99      0.99      2347\n",
      "\n"
     ]
    }
   ],
   "source": [
    "# Evaluate predictions\n",
    "print(DT.score(test_X, test_y))\n",
    "print(confusion_matrix(test_y, predictions))\n",
    "print(classification_report(test_y, DT.predict(test_X)))"
   ]
  },
  {
   "cell_type": "markdown",
   "metadata": {
    "id": "ospazw7L4_WG"
   },
   "source": [
    "Ha mejorado la predicción de las observaciones que son fraude, y disminuido muy legeramente las que no lo son. En general, ahora es un mejor modelo que sin balanceo"
   ]
  },
  {
   "cell_type": "markdown",
   "metadata": {
    "id": "7B8FFnaTWpsk"
   },
   "source": [
    "### Con balanceo (Regresión Logística)"
   ]
  },
  {
   "cell_type": "code",
   "execution_count": 60,
   "metadata": {
    "id": "eSBc6kGxWVs3"
   },
   "outputs": [
    {
     "name": "stderr",
     "output_type": "stream",
     "text": [
      "/Users/jiliarsilgado/anaconda3/envs/npl_ean_final_2024/lib/python3.10/site-packages/sklearn/linear_model/_logistic.py:465: ConvergenceWarning: lbfgs failed to converge (status=1):\n",
      "STOP: TOTAL NO. OF ITERATIONS REACHED LIMIT.\n",
      "\n",
      "Increase the number of iterations (max_iter) or scale the data as shown in:\n",
      "    https://scikit-learn.org/stable/modules/preprocessing.html\n",
      "Please also refer to the documentation for alternative solver options:\n",
      "    https://scikit-learn.org/stable/modules/linear_model.html#logistic-regression\n",
      "  n_iter_i = _check_optimize_result(\n"
     ]
    }
   ],
   "source": [
    "train_X, test_X, train_y, test_y = train_test_split( new_df.drop(columns=[\"isFraud\"]), new_df.isFraud, test_size=1/7.0, random_state=0)\n",
    "\n",
    "# Se escoge la regresión logística\n",
    "LR = LogisticRegression()\n",
    "\n",
    "# se entrena el modelo con el dataset de entrenamiento\n",
    "LR.fit(train_X, train_y)\n",
    "\n",
    "# predice la clase de test\n",
    "predictions = LR.predict(test_X)"
   ]
  },
  {
   "cell_type": "code",
   "execution_count": 61,
   "metadata": {
    "id": "l3GzsZuJWe5l"
   },
   "outputs": [
    {
     "name": "stdout",
     "output_type": "stream",
     "text": [
      "0.9041329356625479\n",
      "[[1070  104]\n",
      " [ 121 1052]]\n",
      "              precision    recall  f1-score   support\n",
      "\n",
      "           0       0.90      0.91      0.90      1174\n",
      "           1       0.91      0.90      0.90      1173\n",
      "\n",
      "    accuracy                           0.90      2347\n",
      "   macro avg       0.90      0.90      0.90      2347\n",
      "weighted avg       0.90      0.90      0.90      2347\n",
      "\n"
     ]
    }
   ],
   "source": [
    "# Evaluate predictions\n",
    "print(LR.score(test_X, test_y))\n",
    "print(confusion_matrix(test_y, predictions))\n",
    "print(classification_report(test_y, LR.predict(test_X)))"
   ]
  },
  {
   "cell_type": "markdown",
   "metadata": {
    "id": "n_nAVhDjY1ia"
   },
   "source": [
    "Aunque el accuracy o precisión de clasificación de este modelo es menor frente al modelo sin balanceo, se aprecia que este es mucho más válido para la tarea que nos atañe, la detección de operaciones fraudulentas.\n",
    "\n",
    "En esta ocasión, el modelo que trabaja con los datos balanceados, ha clasificado aquellas operaciones fraudulentas con una tasa de éxito del 92%, contra el 34% que conseguía el otro."
   ]
  },
  {
   "cell_type": "markdown",
   "metadata": {
    "id": "WONQzkV-Uael"
   },
   "source": [
    "### Con balanceo (Random Forest)"
   ]
  },
  {
   "cell_type": "code",
   "execution_count": 62,
   "metadata": {
    "id": "1UkEQEZATxxA"
   },
   "outputs": [
    {
     "name": "stdout",
     "output_type": "stream",
     "text": [
      "0.9927567106945037\n",
      "[[1164   10]\n",
      " [   7 1166]]\n",
      "              precision    recall  f1-score   support\n",
      "\n",
      "           0       0.99      0.99      0.99      1174\n",
      "           1       0.99      0.99      0.99      1173\n",
      "\n",
      "    accuracy                           0.99      2347\n",
      "   macro avg       0.99      0.99      0.99      2347\n",
      "weighted avg       0.99      0.99      0.99      2347\n",
      "\n"
     ]
    }
   ],
   "source": [
    "train_X, test_X, train_y, test_y = train_test_split( new_df.drop(columns=[\"isFraud\"]), new_df.isFraud, test_size=1/7.0, random_state=0)\n",
    "\n",
    "RF = RandomForestClassifier()\n",
    "\n",
    "# se entrena el modelo con el dataset de entrenamiento\n",
    "RF.fit(train_X, train_y)\n",
    "\n",
    "# predice la clase de test\n",
    "predictions = RF.predict(test_X)\n",
    "\n",
    "# Evaluate predictions\n",
    "print(RF.score(test_X, test_y))\n",
    "print(confusion_matrix(test_y, predictions))\n",
    "print(classification_report(test_y, RF.predict(test_X)))"
   ]
  },
  {
   "cell_type": "markdown",
   "metadata": {
    "id": "NAx6A_j1UeB7"
   },
   "source": [
    "Definitivamente el Random Forest con el dataset balanceado es el modelo más acertado en este caso, pues clasifica ambas clases con una tasa de acierto del 99%."
   ]
  },
  {
   "cell_type": "markdown",
   "metadata": {
    "id": "KafbQ6smGbrK"
   },
   "source": [
    "## Normalizado y escalado"
   ]
  },
  {
   "cell_type": "markdown",
   "metadata": {
    "id": "onupZJFG-P0p"
   },
   "source": [
    "Como se vio en el apartado de descripción del dataset, con la funcion `describe()`, existe una gran diferencia en la eslaca de los atributos numéricos.\n",
    "\n",
    "A continuación, se muestra con la siguiente gráfica la distribución de las variables y cómo normalizar los datos.\n",
    "\n",
    "Se debe tener en cuenta, que solo se van a normalizar las primeras 6 variables, que son las consideradas númericas, el resto son categóricas, dado que representan factores"
   ]
  },
  {
   "cell_type": "code",
   "execution_count": 63,
   "metadata": {
    "id": "_JKgT_gelY9K"
   },
   "outputs": [
    {
     "data": {
      "text/plain": [
       "<Axes: ylabel='Density'>"
      ]
     },
     "execution_count": 63,
     "metadata": {},
     "output_type": "execute_result"
    },
    {
     "data": {
      "image/png": "[encoded data removed]",
      "text/plain": [
       "<Figure size 2000x1000 with 1 Axes>"
      ]
     },
     "metadata": {},
     "output_type": "display_data"
    }
   ],
   "source": [
    "plt.rcParams['figure.figsize']=[20,10]\n",
    "sns.kdeplot(data=new_df.iloc[:,:3])"
   ]
  },
  {
   "cell_type": "code",
   "execution_count": 64,
   "metadata": {
    "id": "UZHppQRMFzjs"
   },
   "outputs": [],
   "source": [
    "# sns.displot(new_df, x=\"amount\", kind=\"kde\")"
   ]
  },
  {
   "cell_type": "code",
   "execution_count": 65,
   "metadata": {
    "id": "0AYTfXH_mcIO"
   },
   "outputs": [],
   "source": [
    "# sns.displot(new_df, x=\"oldbalanceOrg\", binwidth=3)"
   ]
  },
  {
   "cell_type": "code",
   "execution_count": 66,
   "metadata": {
    "id": "7mdBfi9MDRCC"
   },
   "outputs": [],
   "source": [
    "# Lo mismo\n",
    "# sns.displot(new_df, x=\"oldbalanceOrg\", kind=\"kde\")\n",
    "# sns.kdeplot(data=new_df.oldbalanceOrg)"
   ]
  },
  {
   "cell_type": "code",
   "execution_count": 67,
   "metadata": {
    "id": "lq44ap4ZB6Vo"
   },
   "outputs": [
    {
     "name": "stdout",
     "output_type": "stream",
     "text": [
      "Distribución del dataset en términos de mínimos y máximos por variable:\n",
      "Minimos por variable:  [np.int64(1), np.float64(0.0), np.float64(0.0), np.float64(0.0), np.float64(0.0), np.float64(0.0), np.False_, np.False_, np.False_, np.False_, np.False_, np.int64(0), np.int64(0)]\n",
      "Maximos por variable:  [np.int64(743), np.float64(26234188.21), np.float64(59585040.37), np.float64(49585040.37), np.float64(236230516.82), np.float64(236726494.66), np.True_, np.True_, np.True_, np.True_, np.True_, np.int64(1), np.int64(1)]\n"
     ]
    }
   ],
   "source": [
    "print('Distribución del dataset en términos de mínimos y máximos por variable:')\n",
    "mins = [new_df[col].min() for col in new_df.columns]\n",
    "print('Minimos por variable: ', mins)\n",
    "maxs = [new_df[col].max() for col in new_df.columns]\n",
    "print('Maximos por variable: ', maxs)"
   ]
  },
  {
   "cell_type": "markdown",
   "metadata": {
    "id": "LNCiqy9LEBfS"
   },
   "source": [
    "Para proceder a la normalización se debe tener en cuenta que existen distintas formas de proceder. Se puede normalizar con varios métodos.\n",
    "\n",
    "\n",
    "*   Minmax\n",
    "*   Z-score\n",
    "*   Por escalado decimal\n",
    "\n",
    "En este caso, se usará el z-score, dado que convierte los datos a una distribución asimétrica\n",
    "\n"
   ]
  },
  {
   "cell_type": "code",
   "execution_count": 68,
   "metadata": {
    "id": "YUcPmcwMFjAX"
   },
   "outputs": [],
   "source": [
    "col_names = new_df.iloc[:,:6].columns"
   ]
  },
  {
   "cell_type": "code",
   "execution_count": 69,
   "metadata": {
    "id": "01CjO2N2RBd2"
   },
   "outputs": [
    {
     "data": {
      "text/plain": [
       "Index(['step', 'amount', 'oldbalanceOrg', 'newbalanceOrig', 'oldbalanceDest',\n",
       "       'newbalanceDest'],\n",
       "      dtype='object')"
      ]
     },
     "execution_count": 69,
     "metadata": {},
     "output_type": "execute_result"
    }
   ],
   "source": [
    "col_names"
   ]
  },
  {
   "cell_type": "markdown",
   "metadata": {
    "id": "vXGrrlKPRDF6"
   },
   "source": [
    "Se utiliza la función StandarScaler(), para implementar la normalización z-score"
   ]
  },
  {
   "cell_type": "code",
   "execution_count": 70,
   "metadata": {
    "id": "RAzpm-tRD-Lu"
   },
   "outputs": [],
   "source": [
    "# Normalización\n",
    "s_scaler = StandardScaler()\n",
    "df_s = s_scaler.fit_transform(new_df.iloc[:,:6])\n",
    "df_s = pd.DataFrame(df_s, columns=col_names)"
   ]
  },
  {
   "cell_type": "code",
   "execution_count": 71,
   "metadata": {
    "id": "NiiInr9qg1CF"
   },
   "outputs": [
    {
     "data": {
      "text/plain": [
       "<Axes: ylabel='Density'>"
      ]
     },
     "execution_count": 71,
     "metadata": {},
     "output_type": "execute_result"
    },
    {
     "data": {
      "image/png": "[encoded data removed]",
      "text/plain": [
       "<Figure size 2000x1000 with 1 Axes>"
      ]
     },
     "metadata": {},
     "output_type": "display_data"
    }
   ],
   "source": [
    "plt.rcParams['figure.figsize']=[20,10]\n",
    "sns.kdeplot(data=df_s[col_names])"
   ]
  },
  {
   "cell_type": "code",
   "execution_count": 72,
   "metadata": {
    "id": "gtW9aIk9HYqz"
   },
   "outputs": [],
   "source": [
    "# sns.displot(df_s, x=\"amount\", kind=\"kde\")"
   ]
  },
  {
   "cell_type": "markdown",
   "metadata": {
    "id": "HMGHEtLRZu6X"
   },
   "source": [
    "Veamos cómo quedan los valores mínimo y máximo de cada atributo mediante este método."
   ]
  },
  {
   "cell_type": "code",
   "execution_count": 73,
   "metadata": {
    "id": "faVgtKExQtlG"
   },
   "outputs": [],
   "source": [
    "# Se concatena el dataset normalizado de las variables cuantitativas con los factores\n",
    "df_s = pd.concat([df_s, new_df.iloc[:,6:]], axis = 1)"
   ]
  },
  {
   "cell_type": "code",
   "execution_count": 74,
   "metadata": {
    "id": "tJw1VzcFCGTI"
   },
   "outputs": [
    {
     "name": "stdout",
     "output_type": "stream",
     "text": [
      "Distribución del dataset en términos de mínimos y máximos por variable DESPUES DE NORMALIZAR:\n",
      "Minimos por variable:  [np.float64(-1.5795370504415407), np.float64(-0.44092995611194974), np.float64(-0.3831931091046901), np.float64(-0.2113487125176284), np.float64(-0.1975172701979642), np.float64(-0.27636453193385274), False, False, False, False, False, np.float64(0.0), np.float64(0.0)]\n",
      "Maximos por variable:  [np.float64(2.2535403112248518), np.float64(13.663054546174962), np.float64(17.950316179603153), np.float64(19.613574170565748), np.float64(54.03837264604276), np.float64(50.6132366324205), True, True, True, True, True, np.float64(1.0), np.float64(1.0)]\n"
     ]
    }
   ],
   "source": [
    "print('Distribución del dataset en términos de mínimos y máximos por variable DESPUES DE NORMALIZAR:')\n",
    "\n",
    "mins = [df_s[col].min() for col in df_s.columns]\n",
    "print('Minimos por variable: ', mins)\n",
    "maxs = [df_s[col].max() for col in df_s.columns]\n",
    "print('Maximos por variable: ', maxs)"
   ]
  },
  {
   "cell_type": "markdown",
   "metadata": {
    "id": "lk8NMGqB5mN8"
   },
   "source": [
    "Se observa que ahora las variables están en un rango más parecido."
   ]
  },
  {
   "cell_type": "code",
   "execution_count": 75,
   "metadata": {
    "id": "rHm3u5WlSDRY"
   },
   "outputs": [
    {
     "data": {
      "text/html": [
       "<div>\n",
       "<style scoped>\n",
       "    .dataframe tbody tr th:only-of-type {\n",
       "        vertical-align: middle;\n",
       "    }\n",
       "\n",
       "    .dataframe tbody tr th {\n",
       "        vertical-align: top;\n",
       "    }\n",
       "\n",
       "    .dataframe thead th {\n",
       "        text-align: right;\n",
       "    }\n",
       "</style>\n",
       "<table border=\"1\" class=\"dataframe\">\n",
       "  <thead>\n",
       "    <tr style=\"text-align: right;\">\n",
       "      <th></th>\n",
       "      <th>step</th>\n",
       "      <th>amount</th>\n",
       "      <th>oldbalanceOrg</th>\n",
       "      <th>newbalanceOrig</th>\n",
       "      <th>oldbalanceDest</th>\n",
       "      <th>newbalanceDest</th>\n",
       "      <th>CASH_IN</th>\n",
       "      <th>CASH_OUT</th>\n",
       "      <th>DEBIT</th>\n",
       "      <th>PAYMENT</th>\n",
       "      <th>TRANSFER</th>\n",
       "      <th>isFlaggedFraud</th>\n",
       "      <th>isFraud</th>\n",
       "    </tr>\n",
       "  </thead>\n",
       "  <tbody>\n",
       "    <tr>\n",
       "      <th>0</th>\n",
       "      <td>-0.866647</td>\n",
       "      <td>-0.298029</td>\n",
       "      <td>-0.383193</td>\n",
       "      <td>-0.211349</td>\n",
       "      <td>-0.024942</td>\n",
       "      <td>-0.057636</td>\n",
       "      <td>NaN</td>\n",
       "      <td>NaN</td>\n",
       "      <td>NaN</td>\n",
       "      <td>NaN</td>\n",
       "      <td>NaN</td>\n",
       "      <td>NaN</td>\n",
       "      <td>NaN</td>\n",
       "    </tr>\n",
       "    <tr>\n",
       "      <th>1</th>\n",
       "      <td>1.457996</td>\n",
       "      <td>-0.434867</td>\n",
       "      <td>-0.383193</td>\n",
       "      <td>-0.211349</td>\n",
       "      <td>-0.146785</td>\n",
       "      <td>-0.226437</td>\n",
       "      <td>NaN</td>\n",
       "      <td>NaN</td>\n",
       "      <td>NaN</td>\n",
       "      <td>NaN</td>\n",
       "      <td>NaN</td>\n",
       "      <td>NaN</td>\n",
       "      <td>NaN</td>\n",
       "    </tr>\n",
       "    <tr>\n",
       "      <th>2</th>\n",
       "      <td>-0.117595</td>\n",
       "      <td>-0.432133</td>\n",
       "      <td>-0.372127</td>\n",
       "      <td>-0.203511</td>\n",
       "      <td>-0.197517</td>\n",
       "      <td>-0.276365</td>\n",
       "      <td>False</td>\n",
       "      <td>False</td>\n",
       "      <td>False</td>\n",
       "      <td>False</td>\n",
       "      <td>True</td>\n",
       "      <td>0.0</td>\n",
       "      <td>1.0</td>\n",
       "    </tr>\n",
       "    <tr>\n",
       "      <th>3</th>\n",
       "      <td>-1.393566</td>\n",
       "      <td>-0.383285</td>\n",
       "      <td>6.002110</td>\n",
       "      <td>8.128767</td>\n",
       "      <td>-0.012791</td>\n",
       "      <td>-0.153463</td>\n",
       "      <td>False</td>\n",
       "      <td>True</td>\n",
       "      <td>False</td>\n",
       "      <td>False</td>\n",
       "      <td>False</td>\n",
       "      <td>0.0</td>\n",
       "      <td>1.0</td>\n",
       "    </tr>\n",
       "    <tr>\n",
       "      <th>4</th>\n",
       "      <td>-0.102098</td>\n",
       "      <td>-0.438952</td>\n",
       "      <td>-0.383193</td>\n",
       "      <td>-0.211349</td>\n",
       "      <td>-0.197517</td>\n",
       "      <td>-0.276365</td>\n",
       "      <td>NaN</td>\n",
       "      <td>NaN</td>\n",
       "      <td>NaN</td>\n",
       "      <td>NaN</td>\n",
       "      <td>NaN</td>\n",
       "      <td>NaN</td>\n",
       "      <td>NaN</td>\n",
       "    </tr>\n",
       "    <tr>\n",
       "      <th>...</th>\n",
       "      <td>...</td>\n",
       "      <td>...</td>\n",
       "      <td>...</td>\n",
       "      <td>...</td>\n",
       "      <td>...</td>\n",
       "      <td>...</td>\n",
       "      <td>...</td>\n",
       "      <td>...</td>\n",
       "      <td>...</td>\n",
       "      <td>...</td>\n",
       "      <td>...</td>\n",
       "      <td>...</td>\n",
       "      <td>...</td>\n",
       "    </tr>\n",
       "    <tr>\n",
       "      <th>6362615</th>\n",
       "      <td>NaN</td>\n",
       "      <td>NaN</td>\n",
       "      <td>NaN</td>\n",
       "      <td>NaN</td>\n",
       "      <td>NaN</td>\n",
       "      <td>NaN</td>\n",
       "      <td>False</td>\n",
       "      <td>True</td>\n",
       "      <td>False</td>\n",
       "      <td>False</td>\n",
       "      <td>False</td>\n",
       "      <td>0.0</td>\n",
       "      <td>1.0</td>\n",
       "    </tr>\n",
       "    <tr>\n",
       "      <th>6362616</th>\n",
       "      <td>NaN</td>\n",
       "      <td>NaN</td>\n",
       "      <td>NaN</td>\n",
       "      <td>NaN</td>\n",
       "      <td>NaN</td>\n",
       "      <td>NaN</td>\n",
       "      <td>False</td>\n",
       "      <td>False</td>\n",
       "      <td>False</td>\n",
       "      <td>False</td>\n",
       "      <td>True</td>\n",
       "      <td>0.0</td>\n",
       "      <td>1.0</td>\n",
       "    </tr>\n",
       "    <tr>\n",
       "      <th>6362617</th>\n",
       "      <td>NaN</td>\n",
       "      <td>NaN</td>\n",
       "      <td>NaN</td>\n",
       "      <td>NaN</td>\n",
       "      <td>NaN</td>\n",
       "      <td>NaN</td>\n",
       "      <td>False</td>\n",
       "      <td>True</td>\n",
       "      <td>False</td>\n",
       "      <td>False</td>\n",
       "      <td>False</td>\n",
       "      <td>0.0</td>\n",
       "      <td>1.0</td>\n",
       "    </tr>\n",
       "    <tr>\n",
       "      <th>6362618</th>\n",
       "      <td>NaN</td>\n",
       "      <td>NaN</td>\n",
       "      <td>NaN</td>\n",
       "      <td>NaN</td>\n",
       "      <td>NaN</td>\n",
       "      <td>NaN</td>\n",
       "      <td>False</td>\n",
       "      <td>False</td>\n",
       "      <td>False</td>\n",
       "      <td>False</td>\n",
       "      <td>True</td>\n",
       "      <td>0.0</td>\n",
       "      <td>1.0</td>\n",
       "    </tr>\n",
       "    <tr>\n",
       "      <th>6362619</th>\n",
       "      <td>NaN</td>\n",
       "      <td>NaN</td>\n",
       "      <td>NaN</td>\n",
       "      <td>NaN</td>\n",
       "      <td>NaN</td>\n",
       "      <td>NaN</td>\n",
       "      <td>False</td>\n",
       "      <td>True</td>\n",
       "      <td>False</td>\n",
       "      <td>False</td>\n",
       "      <td>False</td>\n",
       "      <td>0.0</td>\n",
       "      <td>1.0</td>\n",
       "    </tr>\n",
       "  </tbody>\n",
       "</table>\n",
       "<p>32751 rows × 13 columns</p>\n",
       "</div>"
      ],
      "text/plain": [
       "             step    amount  oldbalanceOrg  newbalanceOrig  oldbalanceDest  \\\n",
       "0       -0.866647 -0.298029      -0.383193       -0.211349       -0.024942   \n",
       "1        1.457996 -0.434867      -0.383193       -0.211349       -0.146785   \n",
       "2       -0.117595 -0.432133      -0.372127       -0.203511       -0.197517   \n",
       "3       -1.393566 -0.383285       6.002110        8.128767       -0.012791   \n",
       "4       -0.102098 -0.438952      -0.383193       -0.211349       -0.197517   \n",
       "...           ...       ...            ...             ...             ...   \n",
       "6362615       NaN       NaN            NaN             NaN             NaN   \n",
       "6362616       NaN       NaN            NaN             NaN             NaN   \n",
       "6362617       NaN       NaN            NaN             NaN             NaN   \n",
       "6362618       NaN       NaN            NaN             NaN             NaN   \n",
       "6362619       NaN       NaN            NaN             NaN             NaN   \n",
       "\n",
       "         newbalanceDest CASH_IN CASH_OUT  DEBIT PAYMENT TRANSFER  \\\n",
       "0             -0.057636     NaN      NaN    NaN     NaN      NaN   \n",
       "1             -0.226437     NaN      NaN    NaN     NaN      NaN   \n",
       "2             -0.276365   False    False  False   False     True   \n",
       "3             -0.153463   False     True  False   False    False   \n",
       "4             -0.276365     NaN      NaN    NaN     NaN      NaN   \n",
       "...                 ...     ...      ...    ...     ...      ...   \n",
       "6362615             NaN   False     True  False   False    False   \n",
       "6362616             NaN   False    False  False   False     True   \n",
       "6362617             NaN   False     True  False   False    False   \n",
       "6362618             NaN   False    False  False   False     True   \n",
       "6362619             NaN   False     True  False   False    False   \n",
       "\n",
       "         isFlaggedFraud  isFraud  \n",
       "0                   NaN      NaN  \n",
       "1                   NaN      NaN  \n",
       "2                   0.0      1.0  \n",
       "3                   0.0      1.0  \n",
       "4                   NaN      NaN  \n",
       "...                 ...      ...  \n",
       "6362615             0.0      1.0  \n",
       "6362616             0.0      1.0  \n",
       "6362617             0.0      1.0  \n",
       "6362618             0.0      1.0  \n",
       "6362619             0.0      1.0  \n",
       "\n",
       "[32751 rows x 13 columns]"
      ]
     },
     "execution_count": 75,
     "metadata": {},
     "output_type": "execute_result"
    }
   ],
   "source": [
    "df_s"
   ]
  },
  {
   "cell_type": "markdown",
   "metadata": {
    "id": "NC5Gp11KIjIS"
   },
   "source": [
    "## Selección de características"
   ]
  },
  {
   "cell_type": "markdown",
   "metadata": {
    "id": "cEatKuW9h97k"
   },
   "source": [
    "El Recursive Feature Elimination es un método de selección de variables envolvente, que se adapta a un modelo y elimina las características más débiles hasta que se alcanza el número especificado de variables."
   ]
  },
  {
   "cell_type": "markdown",
   "metadata": {
    "id": "ABuMqroZjNYz"
   },
   "source": [
    "Se va a realizar el RFE con el modelo de regresión logística, y especificando, como prueba, 3 características"
   ]
  },
  {
   "cell_type": "markdown",
   "metadata": {
    "id": "JhTWkgqz6znD"
   },
   "source": [
    "Con Logistic Regression"
   ]
  },
  {
   "cell_type": "code",
   "execution_count": 76,
   "metadata": {
    "id": "77sS5pg5tv8s"
   },
   "outputs": [
    {
     "ename": "TypeError",
     "evalue": "RFE.__init__() takes 2 positional arguments but 3 were given",
     "output_type": "error",
     "traceback": [
      "\u001b[0;31m---------------------------------------------------------------------------\u001b[0m",
      "\u001b[0;31mTypeError\u001b[0m                                 Traceback (most recent call last)",
      "Cell \u001b[0;32mIn[76], line 4\u001b[0m\n\u001b[1;32m      2\u001b[0m LR \u001b[38;5;241m=\u001b[39m LogisticRegression()\n\u001b[1;32m      3\u001b[0m \u001b[38;5;66;03m# Se escoge el número de los atributos a seleccionar\u001b[39;00m\n\u001b[0;32m----> 4\u001b[0m rfe \u001b[38;5;241m=\u001b[39m \u001b[43mRFE\u001b[49m\u001b[43m(\u001b[49m\u001b[43mLR\u001b[49m\u001b[43m,\u001b[49m\u001b[43m \u001b[49m\u001b[38;5;241;43m3\u001b[39;49m\u001b[43m)\u001b[49m\n\u001b[1;32m      5\u001b[0m X \u001b[38;5;241m=\u001b[39m new_df\u001b[38;5;241m.\u001b[39mdrop(columns\u001b[38;5;241m=\u001b[39m[\u001b[38;5;124m\"\u001b[39m\u001b[38;5;124misFraud\u001b[39m\u001b[38;5;124m\"\u001b[39m, \u001b[38;5;124m\"\u001b[39m\u001b[38;5;124misFlaggedFraud\u001b[39m\u001b[38;5;124m\"\u001b[39m])\n\u001b[1;32m      6\u001b[0m y \u001b[38;5;241m=\u001b[39m new_df\u001b[38;5;241m.\u001b[39misFraud\n",
      "\u001b[0;31mTypeError\u001b[0m: RFE.__init__() takes 2 positional arguments but 3 were given"
     ]
    }
   ],
   "source": [
    "# Se escoge el modelo para evaluar el subset de atributos\n",
    "LR = LogisticRegression()\n",
    "# Se escoge el número de los atributos a seleccionar\n",
    "rfe = RFE(LR, 3)\n",
    "X = new_df.drop(columns=[\"isFraud\", \"isFlaggedFraud\"])\n",
    "y = new_df.isFraud\n",
    "rfe = rfe.fit(X, y)\n",
    "print('Mejores características: ',X.columns[rfe.support_])"
   ]
  },
  {
   "cell_type": "code",
   "execution_count": null,
   "metadata": {
    "id": "0gIY10wee6K9"
   },
   "outputs": [],
   "source": [
    "selected_rfe_features = pd.DataFrame({'Variable':list(X.columns), 'Ranking':rfe.ranking_})\n",
    "selected_rfe_features.sort_values(by='Ranking')"
   ]
  },
  {
   "cell_type": "markdown",
   "metadata": {
    "id": "yHoru2X5iyA2"
   },
   "source": [
    "Se aprecia que a algunas características se les da el puesto número 1 en el ranking, estas son las que más información de valor proporciona a la variable respuesta, `isFraud`.\n",
    "\n",
    "\n",
    "Las variables `oldbalanceOrg` y `newbalanceOrg`\t parecen ser importantes. No obstante, en la matriz de correlación se vio que estas tienen una correlación del 100%, por lo que son **redundantes**.\n",
    "\n",
    "Hay que valorar la posibilidad de eliminar una de ellas.\n",
    "\n"
   ]
  },
  {
   "cell_type": "code",
   "execution_count": null,
   "metadata": {
    "id": "B8MpBMdLGJq5"
   },
   "outputs": [],
   "source": [
    "old_dest = dataset[dataset['oldbalanceOrg'] == 0 ].count()['oldbalanceDest']\n",
    "print('Veces que aparece la variable oldbalanceOrg = 0: ', old_dest)"
   ]
  },
  {
   "cell_type": "code",
   "execution_count": null,
   "metadata": {
    "id": "8IUxqxmNGxfO"
   },
   "outputs": [],
   "source": [
    "new_dest = dataset[dataset['newbalanceOrig'] == 0 ].count()['newbalanceDest']\n",
    "print('Veces que aparece la variable newbalanceOrig = 0: ', new_dest)"
   ]
  },
  {
   "cell_type": "code",
   "execution_count": null,
   "metadata": {
    "id": "o2h9eYBbJgXn"
   },
   "outputs": [],
   "source": [
    "both_dest =  dataset[dataset['newbalanceOrig'] == 0 & (dataset['oldbalanceOrg'] == 0)].count()['oldbalanceDest']\n",
    "print('Veces que aparecen ambas variables, newbalanceOrig = oldbalanceOrg = 0: ', both_dest)"
   ]
  },
  {
   "cell_type": "markdown",
   "metadata": {
    "id": "ETffzwrB64NF"
   },
   "source": [
    "Con Random Forest"
   ]
  },
  {
   "cell_type": "code",
   "execution_count": null,
   "metadata": {
    "id": "5rp7yIV76ytC"
   },
   "outputs": [],
   "source": [
    "# Se escoge el modelo para evaluar el subset de atributos\n",
    "RF = RandomForestClassifier()\n",
    "# Se escoge el número de los atributos a seleccionar\n",
    "rfe = RFE(RF, 3)\n",
    "X = new_df.drop(columns=[\"isFraud\", \"isFlaggedFraud\"])\n",
    "y = new_df.isFraud\n",
    "rfe = rfe.fit(X, y)\n",
    "print('Mejores características: ',X.columns[rfe.support_])"
   ]
  },
  {
   "cell_type": "markdown",
   "metadata": {
    "id": "w6be1Xzq7G-x"
   },
   "source": [
    "Con Random Forest se escogen otras características"
   ]
  },
  {
   "cell_type": "code",
   "execution_count": null,
   "metadata": {
    "id": "IO9Z5W1R7Mwf"
   },
   "outputs": [],
   "source": [
    "selected_rfe_features = pd.DataFrame({'Variable':list(X.columns), 'Ranking':rfe.ranking_})\n",
    "selected_rfe_features.sort_values(by='Ranking')"
   ]
  },
  {
   "cell_type": "markdown",
   "metadata": {
    "id": "urO0vcUBjL-n"
   },
   "source": [
    "Ahora se vuelve a realizar el RFE pero con cross validation (RFECV). Este, además selecciona automáticamente el número de caracteristicas óptimo, no tienen que ser seleccionadas manualmente. El modelo será el Random Forest para apreciar si existen cambios significativos en la selección de variables."
   ]
  },
  {
   "cell_type": "markdown",
   "metadata": {
    "id": "wje6iUC8FmNA"
   },
   "source": [
    "OJO! Tarda mucho en ejecutarse"
   ]
  },
  {
   "cell_type": "code",
   "execution_count": null,
   "metadata": {
    "id": "NPekgoLK96YZ"
   },
   "outputs": [],
   "source": [
    "X = new_df.drop(columns=[\"isFraud\", \"isFlaggedFraud\"])\n",
    "y = new_df.isFraud\n",
    "# The \"accuracy\" scoring is proportional to the number of correct classifications\n",
    "clf_rf_4 = RandomForestClassifier()\n",
    "rfecv = RFECV(estimator=clf_rf_4, step=1, cv=3,scoring='accuracy')   #3-fold cross-validation\n",
    "rfecv = rfecv.fit(X, y)\n",
    "\n",
    "print('Número óptimo de características :', rfecv.n_features_)\n",
    "print('Mejores características :', X.columns[rfecv.support_])"
   ]
  },
  {
   "cell_type": "code",
   "execution_count": null,
   "metadata": {
    "id": "OulSCTDX94yo"
   },
   "outputs": [],
   "source": [
    "plt.figure(figsize=(12,6))\n",
    "plt.xlabel('Numero de características seleccionadas')\n",
    "plt.ylabel('Puntuación de la validación cruzada')\n",
    "plt.plot(range(1, len(rfecv.grid_scores_) + 1), rfecv.grid_scores_)\n",
    "plt.show()"
   ]
  },
  {
   "cell_type": "markdown",
   "metadata": {
    "id": "bH9qXtqAUNJC"
   },
   "source": [
    "Se observa que el número óptimo de característica sería 3"
   ]
  },
  {
   "cell_type": "markdown",
   "metadata": {
    "id": "k4LyXwIcalrP"
   },
   "source": [
    "OJO!! CON REGRESIÓN LOGÍSTICA DABA 7"
   ]
  },
  {
   "cell_type": "markdown",
   "metadata": {
    "id": "CnPiYZhaarZl"
   },
   "source": [
    "Se evalúa este subconjunto óptimo de características aplicando distintos clasificadores"
   ]
  },
  {
   "cell_type": "code",
   "execution_count": null,
   "metadata": {
    "id": "Up4fQF5ia79e"
   },
   "outputs": [],
   "source": [
    "# creo el dataframe sobre el que se va a ejecutar el modelo\n",
    "df_RFE = new_df[['amount', 'oldbalanceOrg', 'newbalanceOrig','isFraud']]\n",
    "df_RFE.columns"
   ]
  },
  {
   "cell_type": "markdown",
   "metadata": {
    "id": "G1XxEnjY-FdM"
   },
   "source": [
    "**Regresión Logística**"
   ]
  },
  {
   "cell_type": "code",
   "execution_count": null,
   "metadata": {
    "id": "OfkuU04B9w2e"
   },
   "outputs": [],
   "source": [
    "train_X, test_X, train_y, test_y = train_test_split( df_RFE.drop(columns=[\"isFraud\"]), df_RFE.isFraud, test_size=1/7.0, random_state=0)\n",
    "\n",
    "# Se escoge la regresión logística\n",
    "LR = LogisticRegression()\n",
    "\n",
    "# se entrena el modelo con el dataset de entrenamiento\n",
    "LR.fit(train_X, train_y)\n",
    "\n",
    "# predice la clase de test\n",
    "predictions = LR.predict(test_X)"
   ]
  },
  {
   "cell_type": "code",
   "execution_count": null,
   "metadata": {
    "id": "qoYcfhxR9w2f"
   },
   "outputs": [],
   "source": [
    "# Evaluate predictions\n",
    "print(LR.score(test_X, test_y))\n",
    "print(confusion_matrix(test_y, predictions))\n",
    "print(classification_report(test_y, LR.predict(test_X)))"
   ]
  },
  {
   "cell_type": "markdown",
   "metadata": {
    "id": "_rSjTIRb-A7S"
   },
   "source": [
    "**Árbol de Decisión**"
   ]
  },
  {
   "cell_type": "code",
   "execution_count": null,
   "metadata": {
    "id": "w8zwbLZ89w2d"
   },
   "outputs": [],
   "source": [
    "train_X, test_X, train_y, test_y = train_test_split( df_RFE.drop(columns=[\"isFraud\"]), df_RFE.isFraud, test_size=1/7.0, random_state=0)\n",
    "\n",
    "# Se escoge la regresión logística\n",
    "DT = tree.DecisionTreeClassifier()\n",
    "\n",
    "# se entrena el modelo con el dataset de entrenamiento\n",
    "DT.fit(train_X, train_y)\n",
    "\n",
    "# predice la clase de test\n",
    "predictions = DT.predict(test_X)"
   ]
  },
  {
   "cell_type": "code",
   "execution_count": null,
   "metadata": {
    "id": "AuOtrvfN9w2e"
   },
   "outputs": [],
   "source": [
    "# Evaluate predictions\n",
    "print(DT.score(test_X, test_y))\n",
    "print(confusion_matrix(test_y, predictions))\n",
    "print(classification_report(test_y, DT.predict(test_X)))"
   ]
  },
  {
   "cell_type": "markdown",
   "metadata": {
    "id": "ezOC_eut9iTu"
   },
   "source": [
    "**Random Forest**"
   ]
  },
  {
   "cell_type": "code",
   "execution_count": null,
   "metadata": {
    "id": "sjyA43LnX_dB"
   },
   "outputs": [],
   "source": [
    "train_X, test_X, train_y, test_y = train_test_split( df_RFE.drop(columns='isFraud'), df_RFE.isFraud, test_size=1/7.0, random_state=0)\n",
    "\n",
    "RF = RandomForestClassifier()\n",
    "\n",
    "# se entrena el modelo con el dataset de entrenamiento\n",
    "RF.fit(train_X, train_y)\n",
    "\n",
    "# predice la clase de test\n",
    "predictions = RF.predict(test_X)\n",
    "\n",
    "# Evaluate predictions\n",
    "print(RF.score(test_X, test_y))\n",
    "print(confusion_matrix(test_y, predictions))\n",
    "print(classification_report(test_y, RF.predict(test_X)))"
   ]
  },
  {
   "cell_type": "markdown",
   "metadata": {
    "id": "ggnjahtXaRb3"
   },
   "source": [
    "Se observa que si se ejecuta el clasificador random forest sobre el dataset incluyendo solo las 3 variables más importantes, se obtiene la misma precisión que con todas. (Ver en Balanceo de clases > Con balanceo (Random Forest) )"
   ]
  },
  {
   "cell_type": "markdown",
   "metadata": {
    "id": "2qRuV_wTGDuz"
   },
   "source": [
    "## Reducción de dimensionalidad"
   ]
  },
  {
   "cell_type": "markdown",
   "metadata": {
    "id": "QjFJ4M-2GqWL"
   },
   "source": [
    "### Principal Component Analysis (PCA)"
   ]
  },
  {
   "cell_type": "markdown",
   "metadata": {
    "id": "RN6BE6A0Guhv"
   },
   "source": [
    "Principal Component Analysis es una técnica de Extracción de Características donde combinamos las entradas de una manera específica y podemos eliminar información de algunas de las variables manteniendo la parte más importante de todas las variables. Como valor añadido, luego de aplicar PCA conseguiremos que todas las nuevas variables sean independientes una de otra."
   ]
  },
  {
   "cell_type": "markdown",
   "metadata": {
    "id": "ALwv7btBJyGd"
   },
   "source": [
    "Este método es muy útil porque ayuda a crear los modelos predictivos mucho más rápido, al reducir la dimensionalidad del dataset"
   ]
  },
  {
   "cell_type": "markdown",
   "metadata": {
    "id": "IBgDY5J6ssES"
   },
   "source": [
    "Para la reducción de dimensaionalidad es necesario tener los datos normalizados/estandarizados, como se ha hecho en el apartado anterior, asi que se procede a usar el dataset que cumple con estos requisitos, df_s"
   ]
  },
  {
   "cell_type": "code",
   "execution_count": null,
   "metadata": {
    "id": "snjmBWoUVKCc"
   },
   "outputs": [],
   "source": [
    "# al especificar el .95 significa que se escogeran tantos componentes como\n",
    "# sean necesarios hasta retener el 95% de la varianza\n",
    "# esto es una alternativa a explicar directamente el número de componentes\n",
    "pca = PCA(.95)\n",
    "\n",
    "pca.fit(df_s.iloc[:,:6])\n",
    "X_pca = pca.transform(df_s.iloc[:,:6])\n",
    "\n",
    "print( 'El numero de componentes escogida ha sido: ',pca.n_components_)"
   ]
  },
  {
   "cell_type": "markdown",
   "metadata": {
    "id": "hH6Kyn6nY40k"
   },
   "source": [
    "Se comprueba que con 4 componentes se explica el 99% de los datos"
   ]
  },
  {
   "cell_type": "code",
   "execution_count": null,
   "metadata": {
    "id": "8harOIq2Yyfx"
   },
   "outputs": [],
   "source": [
    "np.cumsum(pca.explained_variance_ratio_)"
   ]
  },
  {
   "cell_type": "code",
   "execution_count": null,
   "metadata": {
    "id": "4FTDmd4raeGF"
   },
   "outputs": [],
   "source": [
    "# graficamos el acumulado de varianza explicada en las nuevas dimensiones\n",
    "plt.plot(np.cumsum(pca.explained_variance_ratio_))\n",
    "plt.xlabel('number of components')\n",
    "plt.ylabel('cumulative explained variance')\n",
    "plt.show()"
   ]
  },
  {
   "cell_type": "code",
   "execution_count": null,
   "metadata": {
    "id": "yQikeG2HanZx"
   },
   "outputs": [],
   "source": [
    "#graficamos en 2 Dimensiones, tomando 2 de los componentes principales\n",
    "Xax=X_pca[:,0]\n",
    "Yax=X_pca[:,2]\n",
    "labels=df_s['isFraud'].values\n",
    "cdict={0:'red',1:'green'}\n",
    "labl={0:'Real',1:'Fraude'}\n",
    "marker={0:'*',1:'o'}\n",
    "alpha={0:.3, 1:.5}\n",
    "fig,ax=plt.subplots(figsize=(7,5))\n",
    "fig.patch.set_facecolor('white')\n",
    "for l in np.unique(labels):\n",
    "    ix=np.where(labels==l)\n",
    "    ax.scatter(Xax[ix],Yax[ix],c=cdict[l],label=labl[l],s=40,marker=marker[l],alpha=alpha[l])\n",
    "\n",
    "plt.xlabel(\"First Principal Component\",fontsize=14)\n",
    "plt.ylabel(\"Second Principal Component\",fontsize=14)\n",
    "plt.legend()\n",
    "plt.show()"
   ]
  },
  {
   "cell_type": "markdown",
   "metadata": {
    "id": "1Zh-rrJVcoIN"
   },
   "source": [
    "Creo un dataframe resultante del PCA, que contenga los 4 componentes y la varaible objetivo"
   ]
  },
  {
   "cell_type": "code",
   "execution_count": null,
   "metadata": {
    "id": "KG3huRRmcmg4"
   },
   "outputs": [],
   "source": [
    "df_PCA = pd.DataFrame(data = X_pca, columns = ['principal component 1', 'principal component 2', 'principal component 3', 'principal component 4'])\n",
    "finalDf = pd.concat([df_PCA, df_s['isFraud']], axis = 1)\n",
    "finalDf"
   ]
  },
  {
   "cell_type": "markdown",
   "metadata": {
    "id": "P_r2ceYHX2pV"
   },
   "source": [
    "### Modelos predictivos con PCA"
   ]
  },
  {
   "cell_type": "markdown",
   "metadata": {
    "id": "9f4cIUYpT1s9"
   },
   "source": [
    "Una vez se tienen los datos transformados, se procede a realizar la predicción de clases sobre el dataset de PCA"
   ]
  },
  {
   "cell_type": "markdown",
   "metadata": {
    "id": "WKvp4ugM8Z6S"
   },
   "source": [
    "**Árbol de Decisión**"
   ]
  },
  {
   "cell_type": "code",
   "execution_count": null,
   "metadata": {
    "id": "KlLQ52YX8Z6T"
   },
   "outputs": [],
   "source": [
    "train_X, test_X, train_y, test_y = train_test_split( finalDf.drop(columns='isFraud'), finalDf.isFraud, test_size=1/7.0, random_state=0)\n",
    "\n",
    "# Se escoge la regresión logística\n",
    "DT = tree.DecisionTreeClassifier()\n",
    "\n",
    "# se entrena el modelo con el dataset de entrenamiento\n",
    "DT.fit(train_X, train_y)\n",
    "\n",
    "# predice la clase de test\n",
    "predictions = DT.predict(test_X)\n"
   ]
  },
  {
   "cell_type": "markdown",
   "metadata": {
    "id": "ojHXuDrd8Z6U"
   },
   "source": [
    "A continuación se va a exponer la capacidad del modelo."
   ]
  },
  {
   "cell_type": "code",
   "execution_count": null,
   "metadata": {
    "id": "tA62-mwx8Z6V"
   },
   "outputs": [],
   "source": [
    "# Evaluate predictions\n",
    "print(DT.score(test_X, test_y))\n",
    "print(confusion_matrix(test_y, predictions))\n",
    "print(classification_report(test_y, DT.predict(test_X)))"
   ]
  },
  {
   "cell_type": "markdown",
   "metadata": {
    "id": "RNOzGXZy8waH"
   },
   "source": [
    "Las observaciones se clasifican correctamente con un precisión del 85%, y ambas clases se clasifican relativamente con la misma precisión"
   ]
  },
  {
   "cell_type": "markdown",
   "metadata": {
    "id": "M9NMRsWcX9PE"
   },
   "source": [
    "**Random Forest**"
   ]
  },
  {
   "cell_type": "code",
   "execution_count": null,
   "metadata": {
    "id": "ppEsK3y7Psc2"
   },
   "outputs": [],
   "source": [
    "train_X, test_X, train_y, test_y = train_test_split( finalDf.drop(columns='isFraud'), finalDf.isFraud, test_size=1/7.0, random_state=0)\n",
    "\n",
    "# Se escoge la regresión logística\n",
    "RF = RandomForestClassifier()\n",
    "\n",
    "# se entrena el modelo con el dataset de entrenamiento\n",
    "RF.fit(train_X, train_y)\n",
    "\n",
    "# predice la clase de test\n",
    "predictions = RF.predict(test_X)\n"
   ]
  },
  {
   "cell_type": "markdown",
   "metadata": {
    "id": "HC4alEmOU8B9"
   },
   "source": [
    "A continuación se va a exponer la capacidad del modelo."
   ]
  },
  {
   "cell_type": "code",
   "execution_count": null,
   "metadata": {
    "id": "rF3z1WVSVtbk"
   },
   "outputs": [],
   "source": [
    "# Evaluate predictions\n",
    "print(RF.score(test_X, test_y))\n",
    "print(confusion_matrix(test_y, predictions))\n",
    "print(classification_report(test_y, RF.predict(test_X)))"
   ]
  },
  {
   "cell_type": "markdown",
   "metadata": {
    "id": "aS1aw3r-aH4X"
   },
   "source": [
    "El modelo clasifica correctamente el 90% de las observaciones. Se observa que clasifica mejor aquellas observaciones fraudulentas, pero no es una diferencia significativa."
   ]
  },
  {
   "cell_type": "markdown",
   "metadata": {
    "id": "P5TZq6DI9b9A"
   },
   "source": [
    "**Regresión Logística**"
   ]
  },
  {
   "cell_type": "code",
   "execution_count": null,
   "metadata": {
    "id": "zPrFRFFi9bae"
   },
   "outputs": [],
   "source": [
    "train_X, test_X, train_y, test_y = train_test_split( finalDf.drop(columns='isFraud'), finalDf.isFraud, test_size=1/7.0, random_state=0)\n",
    "\n",
    "# Se escoge la regresión logística\n",
    "LR = LogisticRegression()\n",
    "\n",
    "# se entrena el modelo con el dataset de entrenamiento\n",
    "LR.fit(train_X, train_y)\n",
    "\n",
    "# predice la clase de test\n",
    "predictions = LR.predict(test_X)"
   ]
  },
  {
   "cell_type": "code",
   "execution_count": null,
   "metadata": {
    "id": "m_CSB4P79n70"
   },
   "outputs": [],
   "source": [
    "# Evaluate predictions\n",
    "print(LR.score(test_X, test_y))\n",
    "print(confusion_matrix(test_y, predictions))\n",
    "print(classification_report(test_y, LR.predict(test_X)))"
   ]
  },
  {
   "cell_type": "markdown",
   "metadata": {
    "id": "EYlRLqoS9tsr"
   },
   "source": [
    "Sin embargo, con regresión logística los resultados obtenidos no son tan buenos, comparado a los anteriores"
   ]
  },
  {
   "cell_type": "markdown",
   "metadata": {
    "id": "xLzRzuscPTG_"
   },
   "source": [
    "### Definiendo manualmente el número de componentes"
   ]
  },
  {
   "cell_type": "markdown",
   "metadata": {
    "id": "m_TAmngwc5v8"
   },
   "source": [
    "Como se comentó antes, se pueden escoger directamente el número de componentes que se desean.\n",
    "\n",
    "Se va a hacer de esta manera para ver el impacto que puede tener sobre la clasificación"
   ]
  },
  {
   "cell_type": "code",
   "execution_count": null,
   "metadata": {
    "id": "BESgbkXdDCGA"
   },
   "outputs": [],
   "source": [
    "pca = PCA(n_components=3)\n",
    "\n",
    "# utilizo el dataset sin normalizar\n",
    "pca.fit(df_s.iloc[:,:6])\n",
    "X_pca = pca.transform(df_s.iloc[:,:6])\n",
    "print(pca.components_)"
   ]
  },
  {
   "cell_type": "code",
   "execution_count": null,
   "metadata": {
    "id": "53PU8gJPDpFO"
   },
   "outputs": [],
   "source": [
    "print(pca.explained_variance_)\n",
    "print(pca.components_)\n",
    "print(pca.explained_variance_ratio_)"
   ]
  },
  {
   "cell_type": "code",
   "execution_count": null,
   "metadata": {
    "id": "8rXnwopsDtnu"
   },
   "outputs": [],
   "source": [
    "np.cumsum(pca.explained_variance_ratio_)"
   ]
  },
  {
   "cell_type": "code",
   "execution_count": null,
   "metadata": {
    "id": "PDTwPIuDD61i"
   },
   "outputs": [],
   "source": [
    "df_PCA = pd.DataFrame(data = X_pca[:,0:3], columns = ['principal component 1', 'principal component 2', 'principal component 3'])\n",
    "df_PCA"
   ]
  },
  {
   "cell_type": "markdown",
   "metadata": {
    "id": "JbnDRseKL4cV"
   },
   "source": [
    "Concateno el dataset resultate del PCA con la variable objetivo"
   ]
  },
  {
   "cell_type": "code",
   "execution_count": null,
   "metadata": {
    "id": "lEuN6um7LZP8"
   },
   "outputs": [],
   "source": [
    "finalDf = pd.concat([df_PCA, df_s['isFraud']], axis = 1)\n",
    "finalDf"
   ]
  },
  {
   "cell_type": "markdown",
   "metadata": {
    "id": "pBxDz7IZ-EUi"
   },
   "source": [
    "Ahora, se pasa a comprobar la prediccion de las clases con este dataset"
   ]
  },
  {
   "cell_type": "markdown",
   "metadata": {
    "id": "O-8bCNGM9Lem"
   },
   "source": [
    "**Árbol de Decisión**"
   ]
  },
  {
   "cell_type": "code",
   "execution_count": null,
   "metadata": {
    "id": "QM2qX7Nk9Lep"
   },
   "outputs": [],
   "source": [
    "train_X, test_X, train_y, test_y = train_test_split( finalDf.drop(columns='isFraud'), finalDf.isFraud, test_size=1/7.0, random_state=0)\n",
    "\n",
    "# Se escoge la regresión logística\n",
    "DT = tree.DecisionTreeClassifier()\n",
    "\n",
    "# se entrena el modelo con el dataset de entrenamiento\n",
    "DT.fit(train_X, train_y)\n",
    "\n",
    "# predice la clase de test\n",
    "predictions = DT.predict(test_X)\n"
   ]
  },
  {
   "cell_type": "code",
   "execution_count": null,
   "metadata": {
    "id": "X7M8U6R79Leq"
   },
   "outputs": [],
   "source": [
    "# Evaluate predictions\n",
    "print(DT.score(test_X, test_y))\n",
    "print(confusion_matrix(test_y, predictions))\n",
    "print(classification_report(test_y, DT.predict(test_X)))"
   ]
  },
  {
   "cell_type": "markdown",
   "metadata": {
    "id": "YrxRFyX39abd"
   },
   "source": [
    "Se obtiene peor precisión que aplicando el mismo algoritmo bajo el dataset con 4 componentes"
   ]
  },
  {
   "cell_type": "markdown",
   "metadata": {
    "id": "PjmpDPCv-Jjo"
   },
   "source": [
    "**Random** **Forest**"
   ]
  },
  {
   "cell_type": "code",
   "execution_count": null,
   "metadata": {
    "id": "RVuYHyWZTT-Q"
   },
   "outputs": [],
   "source": [
    "# Se divide el dataset\n",
    "train_X, test_X, train_y, test_y = train_test_split( finalDf.drop(columns=[\"isFraud\"]), new_df.isFraud, test_size=1/7.0, random_state=0)\n",
    "RF = RandomForestClassifier()\n",
    "RF.fit(train_X, train_y)\n",
    "\n",
    "# predice la clase de test\n",
    "predictions = RF.predict(test_X)"
   ]
  },
  {
   "cell_type": "code",
   "execution_count": null,
   "metadata": {
    "id": "jD3Mfo-EbCdt"
   },
   "outputs": [],
   "source": [
    "# Evaluate predictions\n",
    "print(RF.score(test_X, test_y))\n",
    "print(confusion_matrix(test_y, predictions))\n",
    "print(classification_report(test_y, RF.predict(test_X)))"
   ]
  },
  {
   "cell_type": "markdown",
   "metadata": {
    "id": "iwUaHXrfdbnM"
   },
   "source": [
    "La predicción del modelo es del 86%, un poco menos que el caso anterior, dado que se han escogidos menos componentes"
   ]
  },
  {
   "cell_type": "markdown",
   "metadata": {
    "id": "zAeuLoSr-BLe"
   },
   "source": [
    "**Regresión Logística**"
   ]
  },
  {
   "cell_type": "code",
   "execution_count": null,
   "metadata": {
    "id": "kEiFbVif-BLf"
   },
   "outputs": [],
   "source": [
    "train_X, test_X, train_y, test_y = train_test_split( finalDf.drop(columns='isFraud'), finalDf.isFraud, test_size=1/7.0, random_state=0)\n",
    "\n",
    "# Se escoge la regresión logística\n",
    "LR = LogisticRegression()\n",
    "\n",
    "# se entrena el modelo con el dataset de entrenamiento\n",
    "LR.fit(train_X, train_y)\n",
    "\n",
    "# predice la clase de test\n",
    "predictions = LR.predict(test_X)"
   ]
  },
  {
   "cell_type": "code",
   "execution_count": null,
   "metadata": {
    "id": "Nps1Jn6--BLf"
   },
   "outputs": [],
   "source": [
    "# Evaluate predictions\n",
    "print(LR.score(test_X, test_y))\n",
    "print(confusion_matrix(test_y, predictions))\n",
    "print(classification_report(test_y, LR.predict(test_X)))"
   ]
  },
  {
   "cell_type": "markdown",
   "metadata": {
    "id": "nkLnlbNp-X-M"
   },
   "source": [
    "Con Regresión Logística los resultados obtenidos no son muy buenos, con lo cual, se concluye que es mejor idea quedarse con el dataset compuesto con 4 componentes"
   ]
  },
  {
   "cell_type": "markdown",
   "metadata": {
    "id": "Kbp6JP_GIgM7"
   },
   "source": [
    "## Guardar datasets preprocesados"
   ]
  },
  {
   "cell_type": "code",
   "execution_count": null,
   "metadata": {
    "id": "0ajmcLeHIf7N"
   },
   "outputs": [],
   "source": [
    "df_s.to_csv('./data_balanceada_normalizada')\n",
    "new_df.to_csv('./data_balanceada.csv')"
   ]
  },
  {
   "cell_type": "markdown",
   "metadata": {
    "id": "_HkkIT5QcVVi"
   },
   "source": [
    "## Detección de anomalías no supervisado"
   ]
  },
  {
   "cell_type": "markdown",
   "metadata": {
    "id": "apGjqk5u-nnj"
   },
   "source": [
    "Una vez realizado el preprocesdo y clasificación mediante aprendizaje supervisado, se procede a ver técnica del aprendizaje no supervisado."
   ]
  },
  {
   "cell_type": "markdown",
   "metadata": {
    "id": "VwBBzxtaedLg"
   },
   "source": [
    "Tras realizar distintas técnicas no supervisadas para la detección de anomalías, se ha aprendido que se debe diferenciar entre anomalías y transacciones fraudulentas, ya que no es lo mismo.\n",
    "\n",
    "\n",
    "Las anomalías incluyen las transacciones que se salen de lo normal, y esto puede contener tanto a transacciones genuinas como fraudulentas."
   ]
  },
  {
   "cell_type": "markdown",
   "metadata": {
    "id": "CLXDxSBze1e4"
   },
   "source": [
    "https://www.aprendemachinelearning.com/k-means-en-python-paso-a-paso/\n",
    "\n",
    "https://www.linkedin.com/learning/python-para-data-science-y-big-data-esencial/analisis-de-datos-extremos\n",
    "\n",
    "https://riunet.upv.es/bitstream/handle/10251/150529/Zaragoza%20-%20An%c3%a1lisis%20y%20comparaci%c3%b3n%20de%20algoritmos%20de%20detecci%c3%b3n%20de%20anomal%c3%adas.pdf?sequence=1&isAllowed=y"
   ]
  },
  {
   "cell_type": "code",
   "execution_count": null,
   "metadata": {
    "id": "zv2lreYtdokH"
   },
   "outputs": [],
   "source": [
    "import pandas as pd\n",
    "import numpy as np\n",
    "import matplotlib.pyplot as plt\n",
    "import seaborn as sns\n",
    "\n",
    "from numpy import quantile, where, random\n",
    "\n",
    "from sklearn.neighbors import LocalOutlierFactor\n",
    "from sklearn.ensemble import IsolationForest"
   ]
  },
  {
   "cell_type": "code",
   "execution_count": null,
   "metadata": {
    "id": "iJWhfC-rdkg-"
   },
   "outputs": [],
   "source": [
    "#new_df = pd.read_csv('/content/gdrive/My Drive/Master/1º Bimestre/Extracción Conoc. en BD/Proyecto/Dataset/data_balanceada.csv')\n",
    "#new_df.head()"
   ]
  },
  {
   "cell_type": "code",
   "execution_count": null,
   "metadata": {
    "id": "HVXRwFJQd9l3"
   },
   "outputs": [],
   "source": [
    "df_s = pd.read_csv('./data_balanceada_normalizada')\n",
    "df_s.head()"
   ]
  },
  {
   "cell_type": "code",
   "execution_count": null,
   "metadata": {
    "id": "x5awrdCJu0tX"
   },
   "outputs": [],
   "source": [
    "df_s.head()"
   ]
  },
  {
   "cell_type": "code",
   "execution_count": null,
   "metadata": {
    "id": "dLlXN97ceEX0"
   },
   "outputs": [],
   "source": [
    "#df_s.shape"
   ]
  },
  {
   "cell_type": "markdown",
   "metadata": {
    "id": "JH4E-jUHa6ix"
   },
   "source": [
    "### Técnicas basadas en el vecino más cercano: LOF: Local Outlier Factor"
   ]
  },
  {
   "cell_type": "markdown",
   "metadata": {
    "id": "wTIxzdL8fBbQ"
   },
   "source": [
    "En esta sección se va a emplear el algoritmo de aprendizaje no supervisado, LOF, para detectar anomalías. A continuación se encuentran los enlaces a las fuentes de conocimiento que se han usado para implementar el algoritmo."
   ]
  },
  {
   "cell_type": "markdown",
   "metadata": {
    "id": "_3GjdaObafzT"
   },
   "source": [
    "https://scikit-learn.org/stable/auto_examples/neighbors/plot_lof_outlier_detection.html#sphx-glr-auto-examples-neighbors-plot-lof-outlier-detection-py"
   ]
  },
  {
   "cell_type": "markdown",
   "metadata": {
    "id": "p0UhTxzzjeED"
   },
   "source": [
    "https://www.datatechnotes.com/2020/04/anomaly-detection-with-local-outlier-factor-in-pythonhtml#:~:text=The%20Local%20Outlier%20Factor%20is,main%20concept%20of%20the%20algorithm.\n",
    "\n"
   ]
  },
  {
   "cell_type": "markdown",
   "metadata": {
    "id": "-F8GvTcu0-px"
   },
   "source": [
    "https://towardsdatascience.com/anomaly-detection-with-local-outlier-factor-lof-d91e41df10f2"
   ]
  },
  {
   "cell_type": "markdown",
   "metadata": {
    "id": "cesaACGFqYWr"
   },
   "source": [
    "A simple vista pueden observaces algunos valores que se salen de lo normal en el dataset, escogiendo por ejemplo la variable `amount`"
   ]
  },
  {
   "cell_type": "code",
   "execution_count": null,
   "metadata": {
    "id": "pKqP6LiXqT2v"
   },
   "outputs": [],
   "source": [
    "plt.figure(figsize=(20,10))\n",
    "df_s.amount.plot()"
   ]
  },
  {
   "cell_type": "code",
   "execution_count": null,
   "metadata": {
    "id": "1t10Hbw0pqJf"
   },
   "outputs": [],
   "source": [
    "plt.figure(figsize=(20,10))\n",
    "df_s.amount.hist()"
   ]
  },
  {
   "cell_type": "code",
   "execution_count": null,
   "metadata": {
    "id": "kfCmL7_KrQed"
   },
   "outputs": [],
   "source": [
    "df_s.std()"
   ]
  },
  {
   "cell_type": "markdown",
   "metadata": {
    "id": "VohMFthMgNAg"
   },
   "source": [
    "Se escoge un 1% (160 observaciones) del dataset df_s para detectar anomalías y se eliminan las variables isFraud y isFlaggedFraud"
   ]
  },
  {
   "cell_type": "code",
   "execution_count": null,
   "metadata": {
    "id": "L7FZJlIFpCze"
   },
   "outputs": [],
   "source": [
    "data = df_s.drop('isFlaggedFraud',1)\n",
    "data = df_s.drop('isFraud',1)\n",
    "data = data.sample(frac = 0.1)"
   ]
  },
  {
   "cell_type": "code",
   "execution_count": null,
   "metadata": {
    "id": "t0LjYiecpywt"
   },
   "outputs": [],
   "source": [
    "# convierto el dataframe data a array\n",
    "x = np.r_[data]"
   ]
  },
  {
   "cell_type": "markdown",
   "metadata": {
    "id": "8pgxmQcs1jzP"
   },
   "source": [
    "Se utiliza el algoritmo LOF para detectar anomalias, especificando el numero de vecinos y la contaminacion.\n",
    "\n",
    "Se visualizan las anomalías detectadas en color rojo en la gráfica"
   ]
  },
  {
   "cell_type": "markdown",
   "metadata": {
    "id": "hWjuNgvEIusX"
   },
   "source": [
    "NOTA: Parámetro contamination: se refiere a la proporción esperada de outliers en el dataset"
   ]
  },
  {
   "cell_type": "code",
   "execution_count": null,
   "metadata": {
    "id": "Do7Qrat_peGq"
   },
   "outputs": [],
   "source": [
    "# model specification\n",
    "lof = LocalOutlierFactor(n_neighbors=20, contamination=.1)\n",
    "\n",
    "# model fitting\n",
    "y_pred = lof.fit_predict(x)\n",
    "\n",
    "# filter outlier index\n",
    "lofs_index = where(y_pred==-1)  # negative values are outliers and positives inliers\n",
    "\n",
    "# filter outlier values\n",
    "values = x[lofs_index]\n",
    "\n",
    "# Representación visual\n",
    "plt.scatter(x[:,0], x[:,1])\n",
    "plt.scatter(values[:,0],values[:,1], color='r')\n",
    "plt.show()\n"
   ]
  },
  {
   "cell_type": "markdown",
   "metadata": {
    "id": "W5aLBPjYyBJ3"
   },
   "source": [
    "En rojo se resaltan aquellas observaciones consideradas anomalías."
   ]
  },
  {
   "cell_type": "markdown",
   "metadata": {
    "id": "RXLzM384H_KT"
   },
   "source": [
    "### Métodos basados en la agrupación: Isolation Forest"
   ]
  },
  {
   "cell_type": "markdown",
   "metadata": {
    "id": "ECbzPMsZgFNp"
   },
   "source": [
    "El siguiente método devuelve el puntuaje de anomalia de cada observación usando el algoritmo Isolation Forest. Se ha implementado usando como guía el enlace:"
   ]
  },
  {
   "cell_type": "markdown",
   "metadata": {
    "id": "1DA-yRrpgMFg"
   },
   "source": [
    "https://scikit-learn.org/stable/modules/generated/sklearn.ensemble.IsolationForest.html"
   ]
  },
  {
   "cell_type": "markdown",
   "metadata": {
    "id": "axe9pagEyVlo"
   },
   "source": [
    "Al igual que anteriormente, se escoge una proporción del dataset para visualizar mejor el resultado"
   ]
  },
  {
   "cell_type": "code",
   "execution_count": null,
   "metadata": {
    "id": "MKcjCo-DqAjV"
   },
   "outputs": [],
   "source": [
    "data = df_s.drop('isFlaggedFraud',1)\n",
    "data = data.sample(frac = 0.1)\n",
    "data['isFraud'].value_counts()"
   ]
  },
  {
   "cell_type": "code",
   "execution_count": null,
   "metadata": {
    "id": "PQwDD7dYI7F2"
   },
   "outputs": [],
   "source": [
    "X = data.drop('isFraud', 1)"
   ]
  },
  {
   "cell_type": "markdown",
   "metadata": {
    "id": "ZXkXTU49ydIT"
   },
   "source": [
    "Y se implementa el algoritmo"
   ]
  },
  {
   "cell_type": "code",
   "execution_count": null,
   "metadata": {
    "id": "TWGPtgjhIzwg"
   },
   "outputs": [],
   "source": [
    "model=IsolationForest(n_estimators=100, max_samples='auto', contamination=float(0.1))\n",
    "model.fit(X)"
   ]
  },
  {
   "cell_type": "code",
   "execution_count": null,
   "metadata": {
    "id": "KO7y7_kuJdeb"
   },
   "outputs": [],
   "source": [
    "scores = model.decision_function(X)\n",
    "anomaly = model.predict(X)\n",
    "# se añaden dos nuevas columnas al dataset, con su puntiación de anormalidad y una etiqueta definiendo si son o no anomalias:\n",
    "X['scores']= scores  # The anomaly score of the input samples. The lower, the more abnormal.\n",
    "X['anomaly']=anomaly # 1 = inliers, -1 = outliers\n",
    "X.head(20)\n"
   ]
  },
  {
   "cell_type": "markdown",
   "metadata": {
    "id": "_kCNKsIQvQqV"
   },
   "source": [
    "Voy a tener dos objetos, uno con las observaciones que son fraudes del dataset, y otro con las observaciones que son fraudes de las anomalias detectadas, para ver cuantos de los outliers pertenecen a cada clase"
   ]
  },
  {
   "cell_type": "code",
   "execution_count": null,
   "metadata": {
    "id": "yGjXwBGyKXky"
   },
   "outputs": [],
   "source": [
    "fraudes=data[data['isFraud']==1].index.tolist()"
   ]
  },
  {
   "cell_type": "code",
   "execution_count": null,
   "metadata": {
    "id": "DoF_kOZUKAGC"
   },
   "outputs": [],
   "source": [
    "anomaly_index=list(X.index)\n",
    "print(X)"
   ]
  },
  {
   "cell_type": "markdown",
   "metadata": {
    "id": "3xatunbPvpd4"
   },
   "source": [
    "Se van a recorrer los anteriores objetos para saber cuantas anomalias son fraudulentas y cuantas no"
   ]
  },
  {
   "cell_type": "code",
   "execution_count": null,
   "metadata": {
    "id": "9gtMddnVKh_S"
   },
   "outputs": [],
   "source": [
    "noFraude=0\n",
    "Fraude=0\n",
    "for i in X.index:\n",
    "  if X['anomaly'][i]== -1:\n",
    "    if i not in fraudes:\n",
    "      noFraude = noFraude + 1\n",
    "    if i in fraudes:\n",
    "      Fraude = Fraude + 1\n",
    "print(\"No fraudes: \", noFraude)\n",
    "print(\"FRAUDES: \", Fraude)"
   ]
  },
  {
   "cell_type": "markdown",
   "metadata": {
    "id": "FgM8siECx6E_"
   },
   "source": [
    "Se confirma que dentro de las anomalías detectadas, se encuentran observaciones que pertenecen a ambas clases, fraudes y no fraudes"
   ]
  },
  {
   "cell_type": "markdown",
   "metadata": {
    "id": "aqrsBVpUDeie"
   },
   "source": [
    "# CONCLUSIONES"
   ]
  },
  {
   "cell_type": "markdown",
   "metadata": {
    "id": "1Wf3KVvUyCCj"
   },
   "source": [
    "## Resultado de los clasificadores"
   ]
  },
  {
   "cell_type": "markdown",
   "metadata": {
    "id": "z7BdAvlI_PIR"
   },
   "source": [
    "Como resultado del estudio, se quiere concluir con una comparativa de los algoritmos aplicados durante el aprendizaje supervisado, en distintas etapas, para definir cuales han sido los mejores."
   ]
  },
  {
   "cell_type": "markdown",
   "metadata": {
    "id": "lgmq3Z65_taR"
   },
   "source": [
    "### Dataset original"
   ]
  },
  {
   "cell_type": "markdown",
   "metadata": {
    "id": "LKBtuz1S_6zL"
   },
   "source": [
    "En el datadet de más de 6 millones de observaciones, se han aplicado 3 algoritmos:\n",
    "\n",
    "\n",
    "*   Árbol de decisión\n",
    "\n",
    "*   Regresión Logística\n",
    "*   Random Forest\n",
    "\n"
   ]
  },
  {
   "cell_type": "markdown",
   "metadata": {
    "id": "kXDYxtgfAJDG"
   },
   "source": [
    "Los resultados han sido:"
   ]
  },
  {
   "cell_type": "code",
   "execution_count": null,
   "metadata": {
    "id": "gYqMvXLlFB8w"
   },
   "outputs": [],
   "source": [
    "train_X, test_X, train_y, test_y = train_test_split( dataset.drop(columns=[\"isFraud\"]), dataset.isFraud, test_size=1/7.0, random_state=0)\n",
    "\n",
    "names = [\"Decision_Tree\", \"Random_Forest\", \"Logistic_Regression\"]\n",
    "\n",
    "classifiers = [\n",
    "    tree.DecisionTreeClassifier(),\n",
    "    RandomForestClassifier(),\n",
    "    LogisticRegression()]\n",
    "\n",
    "scores = []\n",
    "for name, clf in zip(names, classifiers):\n",
    "    clf.fit(train_X, train_y)\n",
    "    score = clf.score(test_X, test_y)\n",
    "    scores.append(score)\n",
    "    #print(\"{} {}({})\"(name, score.mean(), score.std()))"
   ]
  },
  {
   "cell_type": "markdown",
   "metadata": {
    "id": "3C2f8H0Y4LxL"
   },
   "source": [
    "Si se mira a la siguiente  tabla y gráfica, puede parecer que los tres clasificadores están muy reñidos, sin embargo, a continuación se procede a demostrar que hay enormes diferencias entre los modelos, ya que la precisión no es la única métrica a tener en cuenta a la hora de elegir el modelo"
   ]
  },
  {
   "cell_type": "code",
   "execution_count": null,
   "metadata": {
    "id": "oKOAWIXAFbbz"
   },
   "outputs": [],
   "source": [
    "df_comp = pd.DataFrame()\n",
    "df_comp['name'] = names\n",
    "df_comp['score'] = scores\n",
    "df_comp"
   ]
  },
  {
   "cell_type": "code",
   "execution_count": null,
   "metadata": {
    "id": "n_G2VOO2FtV1"
   },
   "outputs": [],
   "source": [
    "sns.set(style=\"whitegrid\")\n",
    "ax = sns.barplot(y=\"name\", x=\"score\", data=df_comp)"
   ]
  },
  {
   "cell_type": "markdown",
   "metadata": {
    "id": "ZUMCSFrI2T1H"
   },
   "source": [
    "**Regresión Logística**"
   ]
  },
  {
   "cell_type": "markdown",
   "metadata": {
    "id": "m5eLLkqa2b7Z"
   },
   "source": [
    "Se aprecia que la precisión es muy alta, sin embargo, si se mira la proporción de precisión en cada clase, está muy descompensado, esto se debe a que la clase 1 (Fraude), sólo representa el 0.13% de las observaciones, con lo que se concluye que, aunque el modelo tengan un muy buen comportamiento, a priori, mirando el porcentaje de acierto en la clasificación, realmente, es un MAL modelo"
   ]
  },
  {
   "cell_type": "markdown",
   "metadata": {
    "id": "5ZMdAC4z2IJg"
   },
   "source": [
    "![Sin título.png](data:image/png;base64,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)"
   ]
  },
  {
   "cell_type": "markdown",
   "metadata": {
    "id": "Sqa-W8Z03H4c"
   },
   "source": [
    "**Decision Tree**"
   ]
  },
  {
   "cell_type": "markdown",
   "metadata": {
    "id": "7GozPEgf3OCP"
   },
   "source": [
    "En el siguiente modelo, se aprecia que mejora exponencialmente la capacidad predictiva en la clase minoritaria, lo que lleva a pensar que los clasificadores basados en árboles realizan mejor trabajo sobre el conjunto de datos"
   ]
  },
  {
   "cell_type": "markdown",
   "metadata": {
    "id": "LZHSePzd3WeG"
   },
   "source": [
    "![Sin título.png](data:image/png;base64,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)"
   ]
  },
  {
   "cell_type": "markdown",
   "metadata": {
    "id": "QNS96oYM3myM"
   },
   "source": [
    "**Random** **Forest**"
   ]
  },
  {
   "cell_type": "markdown",
   "metadata": {
    "id": "AISg1lBc3yxq"
   },
   "source": [
    "Por último, con el Ramdon Forest, se obtienen los mejores resultados, siguiente prediciendo mejor la clase mayoritaria, pero no significativamente. Se ha logrado tener un muy buen clasificador con el Ramdon Forest, se concluye con que es el mejor de los tres."
   ]
  },
  {
   "cell_type": "markdown",
   "metadata": {
    "id": "CAfSdhZi3pvt"
   },
   "source": [
    "![Sin título.png](data:image/png;base64,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)"
   ]
  },
  {
   "cell_type": "markdown",
   "metadata": {
    "id": "QiHHX-ZE_dKR"
   },
   "source": [
    "### Dataset balanceado y normalizado"
   ]
  },
  {
   "cell_type": "markdown",
   "metadata": {
    "id": "QCeYsDaH_mwH"
   },
   "source": [
    "Después del balanceo, se han ejecutado los mismos algoritmos sobre el dataset balanceado y se obtiene:"
   ]
  },
  {
   "cell_type": "code",
   "execution_count": null,
   "metadata": {
    "id": "FGB63ljSeDA6"
   },
   "outputs": [],
   "source": [
    "train_X, test_X, train_y, test_y = train_test_split( df_s.drop(columns=[\"isFraud\"]), df_s.isFraud, test_size=1/7.0, random_state=0)\n",
    "\n",
    "names = [\"Decision_Tree\", \"Random_Forest\", \"Logistic_Regression\"]\n",
    "\n",
    "classifiers = [\n",
    "    tree.DecisionTreeClassifier(),\n",
    "    RandomForestClassifier(),\n",
    "    LogisticRegression()]\n",
    "\n",
    "scores = []\n",
    "for name, clf in zip(names, classifiers):\n",
    "    clf.fit(train_X, train_y)\n",
    "    score = clf.score(test_X, test_y)\n",
    "    scores.append(score)"
   ]
  },
  {
   "cell_type": "markdown",
   "metadata": {
    "id": "mIvW9wrw6KR9"
   },
   "source": [
    "Al igual que antes, lo resultados parecen ser muy reñidos, pero se procede a analizar más detenidamente todas las métricas"
   ]
  },
  {
   "cell_type": "code",
   "execution_count": null,
   "metadata": {
    "id": "NZDWC80dN9mL"
   },
   "outputs": [],
   "source": [
    "df_comp = pd.DataFrame()\n",
    "df_comp['name'] = names\n",
    "df_comp['score'] = scores\n",
    "df_comp"
   ]
  },
  {
   "cell_type": "markdown",
   "metadata": {
    "id": "JjSfsF8w5Zdh"
   },
   "source": [
    "**Regresión Logística**"
   ]
  },
  {
   "cell_type": "markdown",
   "metadata": {
    "id": "wLnTtVeS6RoJ"
   },
   "source": [
    "Con respecto al dataset sin balanceo, la precesión ha disminuido en el algoritmo de Regresión Logística, lo que parecería que lo convierte en un peor modelo, pero no es así. Si se comprueba la precisión en la predicción de cada clase, se aprecia que en el caso de 0 (No fraude), ha disminuido un 8%, antes era del 100% aciertos, pero la anteriormente minoritaria, 1 (Fraude), ha aumentado del 34% al 93%, lo que supone un importantísimo aumento en la precisión. Este modelo es infinitamente superior al anterior de regresión logistica, aplicado sobre el dataset sin balancear. Esta mejora ha sido posible gracias al undersampling aplicado al dataset, para que el modelo aprende por igual como clasificar ambas clases."
   ]
  },
  {
   "cell_type": "markdown",
   "metadata": {
    "id": "7NFTMx4Y5cUQ"
   },
   "source": [
    "![Sin título.png](data:image/png;base64,iVBORw0KGgoAAAANSUhEUgAAAb4AAADTCAIAAABx8uGOAAAAAXNSR0IArs4c6QAAAARnQU1BAACxjwv8YQUAAAAJcEhZcwAAEnQAABJ0Ad5mH3gAAB1mSURBVHhe7d3PatvK2wdwnfcezC+LU2iC6AWYgCF04UAXpmvjdROcLIrXifE+jpJ16CI14WzjeF28OFAtDgHTxBdQhCm00BBfRN555o80kke2J/UfOf5+4JzKymSikeVHMyPr0V8/fvxwHOd///sf+z8AAEzjr6enJ7kIAADT+T/5LwAATA2hEwDAGkInAIA1hE4AAGsInQAA1hA6AQCsIXQCAFhD6AQAsIbQCQBgDaETAMAaQicAgLUxoXPY3t+SvL5cl27YCUs3o9IPUR3NO7mO6XtyJbfffpDrtUq29jtDuZaLfiXcmJTK0yoxbqG+JZO2UNshUrjl/aZck9hs03pts1kFau2YygEge55S3J9ubp7ei8WTzc29m0e+nOIbK3IiSj/e7G3uXfPSj9d7e9e/+VoqoJZ55Sff5HKElZG/+PT0+5pqkeVZPeHGhFIqT6tE20JqWlgmFPuLKVuoiyqkzVP7h/aV+kVtPVVuqFDbyXHa1gJABqX0Oh/aF5dF70Oev8gfnBf9L19jncCYYftTq3h+IErnyrWq3/1KPaZc5eqqssHXbpeqjh/84ssphj8C542bEy82XFcsMHef6286g7qoPmSuPKWS2BbmP3hFuYUa/S9Oof+vqpBtnl+tlcXfpH3V+pd3avX1G5XaoSPXa165RbkUF1UOAJmUEjp/BX6xtCsC012zcOSz0PSTv0rjvpbxigeECVHSKPe2VLwsi4Ft3yu31AZQHHGDcOSrD6tHpVTyk9rzVmxhv7lTp/YktvCuG/7FyejUEoZLxym6r+SSk3vtOt8D9ucpiB+WRPgbdvbLl45Yrxl+/eJX341EyETlAJA9Yy8TiVm5itMZdKpOEKROveV23xdbn+S03bBzzCJTAo9i3sG2fMm0KiISapOAG5WrQa/0pcBWltnfvKrw4DEMvjv+UVAacO1qq5KcBIxVbq5EEPOJZac96Bw6wQ+5vXKSsdKqftQLm7ZQ6f9Td8JeIevz+vXPMqD3m5WWWJLuKOYXvpR6t6yrq04/fCVbXXdi+0SIVQ4A2SQH7gk018ao6Taaqhs/9canI7m9m/toFpKj2c/UX9cmUqMJQVFbNJOozRImXo5Ubq6E/gq9kL+YrISjlaYp3ZGp3visKJG7izm5Z8t8+pJvmDapytaPTrCOzmmOVg4A2ZMSOhMfYOPHPhWLNVE44BFkXCy4P5WBKX7NJApkYQEuFvVGK0+pJBEW2RYaNolqM120iW9A4k8ksUpk4XhYTKk8uSXjKweAjEi7wk6xRoXLRNxRnSzzJ5z6aGNCWxJVJQtQ1AgDdNR5jMcgbdlYeVolemFaNpwJYlse0baQjO0VxmumCtVeMlee3BJ0OQFWROqXk9jnmgIPF4ubzGjoFGuI/snnsUMnw4S+Xh+uRn+R0QMND3xCWD6t8ikqiaJVWuGxW5g8Z2iVJH8U1RNVHu0rfUsYY+UAkEV4rBsAgDXciAkAYA2hEwDAGkInAIA1hE4AAGsInQAA1hA6AQCsjQudUc7KKK0kY5fHc1VFWTWRNxMAkib0OovnPUq6EUuiQaptnowjnghO5BKOZzZKibMTUyDHgvVsmLMap2wJTyPCdKryNQBAZFYDdgqRx04pEWj6XoFSbYoYpHLBsdXNnborgu+tF4SZkO6alOuI9DynXphpl5bSvsnKRfolkSh+2G50S7fhSnQwAWAqswmdw85x8HFwVY4nC07JlzzsXOg54mqHfvc/HlK3G6obS1nsRrJb/hFK2Bkm1fw7zDBsl4wZAECYTejMla8aI3knx+VLDhO5y8TI49Moz0D+XdU/KvAhOetp1n2VhBgA4BlmNWBPN5IvmSdyv5BD44f2MQupCXxlIvHwn2Jd2kHHoezFhe773sjjOuL5kgEAxppz6PTrhZ2gRlOJjfxDEDiuyzqhG5Wzc6e+wy/NNJzaeVF7PgVDM6HOec/Qjf0TlJj9wqVpzY57VEhchuIPwKh2Rq6GAQAYzTN00pRi0bttyA4ejd9ljGQDfAqnzFXFCXztuUb95la5ddi5mvGTecRj3c74tGa+wfq/0SMxKG4WjpxoOwEAJpln6NzYLRX9ekP073jwer+biIh9j54gpDqYMm6OjqZnIppRveu2nKL7Ny2quKkuFgEATGFGoVM+p6zcUk9D4xdkcpUr/jUjWkEzjKovyUKkdOFG04505Z39c1mWP0t+RfRPsC2hb0fJeiuBipX9zzTT6svZA2YO3ycFgJdnXKpj1iVkoW1k7Dxs7xeCj4MZz0VmFIvyFy76pAAQN/8r7AAAL86E0Okf8dH2yDBWPqP85d/DTlMQAAAJeDYRAIA1DNgBAKwhdAIAWEPoBACw9ozQudapjqOkny+47QAwyTN7ncZUxxZmluqYf7s+UVh+P59JiXrJL9ubKklJdZyv09reucpaBwBraSkD9hmlOqYQ2XUTUYwFZbpZiNdCSUZESmOe4MOQ6jilEgCAsZYQOmeU6rjf/OT2Bo1d+VLq/1P3D2vi5p9cuVZ1Wl3ewUxJdWyuBABgvCVdJppBquN8w5Ajbhh8d6rvRPwdtvfpC+3BD4rAKamOjZUAAEywhNC5gFTHfFqTEo70zlVcnpTqGABgesvodc451XGrwhMyDQZX5Vw0Th+b6hgAwMpyBuxzS3Wcc984TvTrNH7nlY9LdQwAYGtJc50KG1nPNtVx/l3VuSzL7x7dfa771ZLqvRpTHQMAPMNSQif/HiX3B6mO5Tfz+YM2eTZlMQbfbvDvHtGP+LPkxGMz0lIdp1QCADDWMzInIdUxfyxHUMO1JoC1teQBOwDAKnpm6FzbVMfibk4a4APAGkOqYwAAaxiwAwBYQ+gEALCG0AkAYA2hc4UNO3Qpa+y3X3WmtKRrIfwecSx/q5Y0VmUgfL71yP8NGoROePHyDbrnN5m1WmazvvX+PFfrsHNcdzzKm8BE3/Zd23PVktw1F7m3ETpXmEgFMPW9CTyCIMneHFCWmfe7sR2LFNovHULn/LBOR7MfjgrD8yGtYSNENYrUzpNiAM7FhpDa+nB4njIINRfWViaGk9GgNfoRK7zfGYbPI5l6QuBP0ICX/SH1R7VGUQwSEi0N94C+D7WB8+I6IJRlJs4+hXbUzC228+VKYmymaaX9cTUL2g6PKmfbEL1Z7D2VLWJt9PrhxoTNTD3eTAenuZmiZKUlb6cmM2/piCeYl/uTTebknpYfr/c2924eafE3W2T2rn/LMiffaPXTN1rkhZ8eb1jpa16aL6v1I9ivi3oUqjytMK/qVP+h9tf5sthC/he1ZbUl80T7J/yj96ebcjupOaqB2v7Rt1b3eHOi9oa2w6WRfSWM3WOT0GbExf7E1HsvZdvMzdSbxvdbtK/CDaBfHH9czcTIESXEmsPeTbm1tCWGd1Y/3rSt1Zqg74e0ZjLsdxdxrErodc5V0buV+Ud238eS4Vfb4r74fOlQ5rHv/9uqtkVh/mgQv/uVztv9z0d+uH468pkiE8WedMKG8+2q/+Wr7AmoxH2Ul/pZSfyfQ/1RSn/FH68y/K/ryFSBjrN94BVl08SWn41kJsyVGyrbQHKHz4eYRe15Rad4LqY6k+kOpqYeM6MxN5PnA6vJlblK0ytedsMe1tTH1exof32yotcTc8Ebu3Rg/eIrmTBR5Hap6gTBw9iD09TMxUPoXKDoaUtRKrx8nVIys48JG/TJ21uJugH0IQis8uNtVK7CxFHTjFi1J50snXoyCk9/xedkfwa+f6RGYFuFurr9la03b7k2xMvozbLawFx7g/KNW8+RLY1GmqnNjOcG10x9XM1IrnzVOWyJjGThAHx6KVFPhdTUg3O0mUuA0LlAk+KUfESzxM+rG64rfzg1epQI6bypFyZGT+3ZecMfgVzKEtWbk8Q1sVfhc/li5PMFRMmMPvBZvTtEv2QnH17NNjsoq+iZ0kw99azj/GLxdQLDcTU74vHa4uELttFTy3GuU32FbB+cCJ0LIZ62FPaqDGiAGT3iOMKGJH69MUX/cUTqB0/hg/EwWz6fGfiD50HNA38Y33HiOhjDH2+lElrHyU+j8ZlXqyD3OjpXmptJQ9rWhQxS4vEHB+kHVtpxNXOJw032HIed/fIlXxFHX+fS0pCH+l65VSztbjzr4PzbLc58OmIMOecJs0dz2KFoMjv9uoSYL5e0CW+6bKJoc/+62Iy7Ev4VeREmEk7ty0l3El6OiM39p2/tTNEWRrtIF2uptiXalof7Smv+yXXYiqn2FfPsZo5ekhrZ4eMvX8S2MLrAQkzNjB1aU7xTacfVH4s3M9wSJmzR6X3yMpEUbWrq5pkOzvEHpH4ApJWZFWROmp++MU0ywJq6a259cnsj3yxmPdNVTByOATsAgDWETgAAaxiwAwBYQ68TAMAaQicAgDWETgAAawidAADWEDoBAKwhdAIAWEPoBACwhtAJAGANoRMAwBpCJwCANYROAABrCJ0AANYQOgEArCF0AgBYQ+gEALCG0AkAYA2hEwDAGkInAIA1hE4AAGsInQAA1hA6AQCsIXSm6Te3pP3OUK5bBcPOvtzurWZfrkv30I5K38l1rI5orTe5jqWwaqa58F34DqOZy9f32Pbttx/kS0kcn9pm82Ix2nHLiEN3pJ55eAKDx+u9zb2bR1r8zRY3T77x1dn37YRt7D1fvD/d3Ny75m1Ic0+lRdOomXvXv2nx8WZPtp0XUMtZYtVMrTBrmqmw9nZnypo0UxyHN9ERKIhWXLOGn4pmjdAOWoF+5fTkJL5yThA6TbSjkKGjNu3Ny5b4Z2PkwEpIfMBYM0c/V5lsu1UzE/GCfUoNhY1tX7Y1aSbbKr6piQayl/zAG3ME8kCp/UjWYG77zGHAbjD8ETiHpbxY7uyXLx3ne7AKg/afgV8svc3x5X5zp+47fvCLv0rzxhWlmVdu0Q9+yheZZt1M93W8lcnC/e5lWGF2rEkznXz9qrIhlyMblau6+Aim6X8+crwPYZlhu1F3zs8MVc0HQmc6PklU+FLq3XqrElQ4Md1TdtqDzqET/EiN+bm3peLlhZwVemgfH/l8SXPXLF8WtaMzU6ZsZm73fbH1qS1+POwcswgUUpOD5dZhbWEfOUtr0kxrw85FrDl3n+uOd1Ze3IkBoTPFZXnrk9sbDAZXldwvdvp3X8kfZJxf3ykEH9l2Dxrbw+C73hMZsVE5O3fqO/xj1XBq58VYKx/a+5VWtW3qESyfRTNz5TPPqRd4K4+dmsda+Xf4oyuqYjDouRdb+zLuZMmaNPMZWJfTr74LT+r9ZiXwmpVF9qgROg1yr13HqXZY0OQvafyuDWwzjA3TnOJ5r7EtXtKIL/z8GIUfKnaGcAI/+mSyuLnDhj9hVZli28xcJWxlmVrpjpwMqAOeuYHFmjTzOajLWfQOwoPzrtui0ww/b7DOtVie99cJ5JwnxNAlPzUDzS//rcgVdpo4V3PkiatAfBI99SptbDKel8zg9YTQc5uZ+lZm8mrYujRTkhd55KuQaZvHfyTZTxdxmQihMw29PcKqxE2Bf964xOfK8GGL2qgHSjpYYxZxINqyaCZ9X0KINSSqgclqQFmHZsa2kIjtjw5OSW08HZ+JvRGzoND5F/tP9j8BAGA6mOsEALCG0AkAYA2hEwDAGkInAIA1hE4AAGsInQAA1hA6AQCsIXSmG0mzuhKskuPKNnJRytg1yQEsM2twL7iZa5LqePHNFN+MhwS6w2F8mtVsskqOy2/YkPdKmW+DS2SBzAyrZmqFxdsqCrNl1TTaDy+1mZqsvpviOJxFqmNuQc1Er9PkoX0c1AZXFVe+XhXD9qdW8fxA5JPJf/CKfvdr+pMGYjkUNiq1Q7/7XyKrTs59I5eyxKqZscK5cq2qCufKV1cyR1m+dOhkLy3GbJqpyea7yTqSF+7toPFWvpSm+AwO/+v6hjR6C2omQqfJ5DSr2WSdHHdSquM1yQGcTTNv5stOdRxaUDMROl+eGaQ6VrNmLzwHsISMzisomep44c1E6HxhZpPqeE1yABNkdF5JiVTHZMHNROh8SWyT40ZHWzLVsfLCcwAjo/NqSqY6jltMMxE6XxIatflHx2IMzg+v0q4eJliHJOVs3PfYmLAzGkH6/9R99YS7zHh2M/tNGvk2ZHNU3FQXi7JmRs3UZPLdfAbe5fyY+jiNBTVTXmmHmNQ0q9lHX+kQEl9PmTrVcVQDk9WGWzSTvrUjxL7IgozOGRHbQiK2P/UzaPye1uKbiVTHAADWMGAHALCG0AkAYA2hEwDAGkInAIA1hE4AAGsInQAA1hA6AQCsIXQCAFhD6AQAsIbQCQBgDaETAMAaQicAgDWETgAAawidAADWEDoBAKwhdAIAWEPoBACwhtAJAGANoRMAwBpCJwCANYROAABrCJ0AANYQOgEArCF0AgBYQ+gEyK5hZ39LavblulTmwndNuY7xJtaxFMN2uOHRFmort/bbD3JtqO/RD5p34pVeWDD8yow9AUA2fTvZ3Dy554v3p5ube9ePfNlMK/x4s2cq/HjNVt+Mq2Mp2NaqrbpnbTBsodY0ia3ZOznZ2zz5JlfEjJafg2X1OvvRqTB2JtTPHvppViu/3x7SGiqpzjn8fCvqeaDV/bC8LEy0c3L8jKSdlvc7VJxKJn5RewmwEMP2p1bx/CDPX+Q/eEW/+zW1JxUrnCvXqobCOfeNXMqUXPnqqpzji/nSoeMHP/my5m+3KJeEfrPSqn48cOXLpP6/0a6Yn+WEzr7XLQ2ETvWyrPW6C/U3HfmTQUM1nsXBcnDek6uvKmI3p2uVty7cW1a0U/Xrn0XlD+3PzpmooHfu1BsqFLK4WQk8KkzEW5h7W9IO0+HXL37x/e6kPwowWz8Dv1h6K467fnOn7rOo8ou/SuG+Dg/SV25xtHC/exlWuEqG/3X9w1IYCvteuXXYaWzLl0kP7YvLak3G4jlaTujM18OwSOeZ4AePY3ef6361U0+eLYadi1bRO7PZF9X2VWWD/atVvlFpqBp4ZBSnNnGuPuOFNRuV2qHf/Y//4sPXrr+IdwLARIzDyk570AkPZoPc7vti65PsEAw7xyzQhtR4i0WcWvJQz5S7Zvmy6H2IgqQYDxaOnGglj4yjUSLU/6fuzL/LySxpwK6NkcuXct3wR+AU3VfyVYSdfJ03rk3oqpbUGSlflx1JdQhydAIXqG7tXB3Jv6v6X76yA5Gd8RbzTgCM8Os7heAjjYca28Pgu/lYFXLlM8+pF/gBfuzUvGLR/Tv80RUfUw167kV2p54e2vtsGC47PUK+IbZ7UAt2xOzcsN2ou+2w4zWCAuuCetbLCJ1yH8m9ws6lQu61ee6CjT3k0h/oe4W648kx/62nakyve7vEZ4vYaN1ZxTEOrD46OIvnPTUypfF7GA1NchUZIVl3wQl81x3pYGrjrYxhMWGH9RbDxiao4SMNAZ1WhZ8ftgqsB0TL2smAdTn9RfWsl3WZSB0E1EXnCwxFq/oxv1Cjo/c7mg+NUSP9ZuFIG5+kkV1XOnGp0nyYUzF+7SN/QFOix9032R7jwItFB6d/dCwuafJpq9JueCjS5dBY1NDQtQHH1DXjkSWaNMwKFTfVAHFE2JfcCM8OTI/1gKgHFl784MW08f58LSN08pnE+g4/c3xyPdXr5P3zjnskxhyMimhsf916gTzVhIdLrtL0HFH4k9s5n9AzpQuUl2X++4XgfdjrpLFM7zwQP2D2tcDNT9G++w6DdVgOfnA64pNS+FLqjb9AGk2C0TXSsPumfbGEBdTOIH2WcFkooDuOH33wxRdgtC/V7HRLt/pA3oh3iRY4mfvX09OTXIQEOhkGtehCPwCAtKwBe/bRSQwXiADACKFzlLgWT98wTZ18AYD1hgE7AIA19DoBAKwhdAIAWEPoBACwhtAJAGANofOl0b4CbbxLKk7clMJF92utQHJcu2aaC6OZWaHll4i2UFspvyQfg1THMFNWyXF5ZlmZLPY3pcG9/s2XIxlNjmvXTK3wauUAXpNmItXxCHa689r8bLDfvpP/qvsctbusYmdC/eyhzpysHvaLYf8oKq9VYr6ZN0Y7J6szEp2QE+dn9VLrjnGTz/kZYJUcl+0QyuZ3IO7Y0/PsRbKZHHdNcgCvSTPpflOkOh5xWQ8+DjqHfr0S1CjxsHw7LVMdU/KtAt0TyZMeXV7wwMcKh/mPe5Rua/xgxJjqeLtUdVpdNVClrHcyOYK4lYhX3q46TtG7XYnbMa2T4+rZ/Hh23MRRm83kuGuSA3hNmjnZWqY6Vp2axEnAKtUxp4LXxi6lzWLHBC+sdhClAiledsfFTnOq4/zBebH1r/g9yi8n065Qbit1kFF4nXDIZozouU9MjitSUonzEB1wx1r2KdVDz3Jy3Cmbueo5gNekmRxSHU+mTV1PTHVMonRblJRQnnDSCpuJQ5CLUh2L8MFjLguXjvorG67rqNHrXbel5U7OPIvkuOx0cqYS82w1nNp5MdyjmU+OuyY5gJHqWECqY0HuI7lXJqY6TqUPL38F2lnWICXVsejG0pidssFHDyCiLLMyCxZt6kqM1hnb5LjRh2pwVXECf/STqfXQs8O2mSuaA3hNmsmxmLBqqY7neYWdroLRZb77U3HV7J5e/45fzKVrYeE1tfTra4bLhXrhyZcO6QLlqbz8yArrF+D4Bb776z3tkpz5L64AurSq9m3yMivtdvqhsV3a/olJW79cz22m9o2CODRzmXhbxn1+9YgRoQ9yrJnmYvOyjF6nbapjM73w5CxHaamOmVy55h6V62+07NnbB+HYRzDmqM8g1ou0SI6r5pKYC7cXJsHVvoqQ0eS4ds2MZodWLAfwmjQTqY5fEHYUfnKjI5W9rLCDblWG7QAwd0u6TJRtdMFK0/+3ZXlJCgBeOPQ6jYb0DdPwwlPRmzTyBYD1gtAJAGANA3YAAGsInQAA1hA6AQCszTJ0im+QTfEVyD6lQkqmdfkjfW9rv5PRG8wA4OXJWK+TUr2tRHq37NK+Aj3FntRy60XnPC3DAHIAL9d6NFPLLxFtobbS1NNaz1TH6o7MUXQr1XNylN7Lez3Xnpbkle66S7ntUtHu2Eu/1y2LO9aqmVrh5O2MEpq5TGxr1Vbpd1drtKZJbE02Ux2PjH8pqKsAH90gpZUJVyaCvXY3FdF++kudJ+Td+7wk5TRqifsl9cIp597oVBOmXxpDq0TVTCfkxPlZvdS6Y9zkc34GINXxKKQ6DiHV8SyZQydPlGpMsMKiVZhgmG4hV/FUpIfqVMUrRSQlpZ/wZEVaRimR/Jj/il//TJXwGqhYVeU6VoXvmoUjV6zsnQdllSiFkiGpvMhh+qVUSHVshFTHBM3MtFVKdRzmf1PdT5XwipJaemfqFKHlCTZib5VTfcebTLnd9EStYTDSUh2nYOeQMO1bdDqdlPE0CamOR/BcpUh1jGZmxktIdcx6yN+DIYt9TtWVPRGe/u9X4PtRSqGC9mEzoYSDMjDpwcgOZXhVGfqYckuutxWN7pHqWEKqYzQzO2Qa31VPdcxiB+uX3XUD96DkdPsPQRB+qooqYbAwrt/H51ZEqjfKY3r27DNemBeZm5h+ygCpjo3CDxVSHaOZy/SCUh3fn2yeXN+cXP+m618npycqQ2rKJTApfuk89XJ5rFj84jjVn7hqRpcLDfVEJXmBCZcO6QKlbAJSHRto+ycmbf1yPbeZhqNLQDOXibdl3OeXCmiBRVpyquO00Mnji3hjkg2jNyYkN52+DaCTDaC3SqMqYTVELWRlYnstqioqw48hJTxcwpKn96zA+NApDzXu5Ib2uXYE8RbFDikRXiPGAzGbon2V+FyJPRBbGb2V+t6L7e0MftI4i2aajigGzcyIRJRQ26/HmViLlETo5J/ZBTZwnpmTqBMe1MIMwfRymmzPGXCHVMcAME7KXOdMxB+1Rt8wENeaMg+pjgFgvPnm6+x7+pfVq6vTcRsi1TEAjIFUxwAA1uY5YAcAeKEQOgEArCF0AgBYQ+gEALCG0AkAYA2hEwDAGkInAIA1hE4AAGsInQAA1hA6AQCsIXQCAFhD6AQAsIbQCQBgDaETAMAaQicAgCXH+X/zNvUriiztSgAAAABJRU5ErkJggg==)"
   ]
  },
  {
   "cell_type": "markdown",
   "metadata": {
    "id": "IwZfJ_Be5UDZ"
   },
   "source": [
    "**Árbol de Decisión**"
   ]
  },
  {
   "cell_type": "markdown",
   "metadata": {
    "id": "LJFWOBGH7LAu"
   },
   "source": [
    "De nuevo, la precisión general ha disminuido un 1%, pero la precisión en la clase 1, ha aumentado un 9%, convirtiendo el modelo en un modelo casi perfecto, clasificando correctamente todas las observaciones un 99% de las veces, independientemente de su clase."
   ]
  },
  {
   "cell_type": "markdown",
   "metadata": {
    "id": "KRRPCLTB5Wto"
   },
   "source": [
    "![Sin título.png](data:image/png;base64,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)"
   ]
  },
  {
   "cell_type": "markdown",
   "metadata": {
    "id": "z7PHHFyH5dlV"
   },
   "source": [
    "**Random Forest**"
   ]
  },
  {
   "cell_type": "markdown",
   "metadata": {
    "id": "mJjp3w3z7pba"
   },
   "source": [
    "Por último, el Random Forest vuelve a tener los mejores resultados, asemejándose a los resultados del Árbol de Decisión. No se han notado diferencias significativas con el clasificador aplicado al dataset sin balancear y balanceado. Sólo apreciar que disminuye ligeramente la precesión en la case 0 y aumenta en la clase 1, igualando a ambas en precisión a un 0.99"
   ]
  },
  {
   "cell_type": "markdown",
   "metadata": {
    "id": "ZmD9KICI5fZC"
   },
   "source": [
    "![Sin título.png](data:image/png;base64,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)"
   ]
  },
  {
   "cell_type": "markdown",
   "metadata": {
    "id": "QwhBJJYO-Vxp"
   },
   "source": [
    "### Dataset con RFE"
   ]
  },
  {
   "cell_type": "markdown",
   "metadata": {
    "id": "z3kb_pkX-7SQ"
   },
   "source": [
    "Se  realiza la comparación con el dataset resultante del RFE y que consta de 3 atributos y la variable objetivo:"
   ]
  },
  {
   "cell_type": "code",
   "execution_count": null,
   "metadata": {
    "id": "Cub0A2i7_Cvp"
   },
   "outputs": [],
   "source": [
    "df_RFE.head()"
   ]
  },
  {
   "cell_type": "code",
   "execution_count": null,
   "metadata": {
    "id": "A2s_Y_Da-VcZ"
   },
   "outputs": [],
   "source": [
    "train_X, test_X, train_y, test_y = train_test_split( df_RFE.drop(columns=[\"isFraud\"]), df_RFE.isFraud, test_size=1/7.0, random_state=0)\n",
    "\n",
    "names = [\"Decision_Tree\", \"Random_Forest\", \"Logistic_Regression\"]\n",
    "\n",
    "classifiers = [\n",
    "    tree.DecisionTreeClassifier(),\n",
    "    RandomForestClassifier(),\n",
    "    LogisticRegression()]\n",
    "\n",
    "scores = []\n",
    "for name, clf in zip(names, classifiers):\n",
    "    clf.fit(train_X, train_y)\n",
    "    score = clf.score(test_X, test_y)\n",
    "    scores.append(score)"
   ]
  },
  {
   "cell_type": "markdown",
   "metadata": {
    "id": "62HAi66C_b1P"
   },
   "source": [
    "A priori se detecta un claro perdedor, el algoritmo de Regresión Logística"
   ]
  },
  {
   "cell_type": "code",
   "execution_count": null,
   "metadata": {
    "id": "HRtPCNbv-mIv"
   },
   "outputs": [],
   "source": [
    "df_compPCA = pd.DataFrame()\n",
    "df_compPCA['name'] = names\n",
    "df_compPCA['score'] = scores\n",
    "df_compPCA"
   ]
  },
  {
   "cell_type": "markdown",
   "metadata": {
    "id": "qN3MlPIr-xDm"
   },
   "source": [
    "**Regresión Logística**"
   ]
  },
  {
   "cell_type": "markdown",
   "metadata": {
    "id": "8khBLH8d-wnR"
   },
   "source": [
    "![Sin título.png](data:image/png;base64,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)"
   ]
  },
  {
   "cell_type": "markdown",
   "metadata": {
    "id": "aLgomPy2AwvI"
   },
   "source": [
    "**Árbol de Decisión**"
   ]
  },
  {
   "cell_type": "markdown",
   "metadata": {
    "id": "cLJVWAvi-xDn"
   },
   "source": [
    "\n",
    "![Sin título.png](data:image/png;base64,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)"
   ]
  },
  {
   "cell_type": "markdown",
   "metadata": {
    "id": "lzd3mCM1-xDn"
   },
   "source": [
    "**Random Forest**"
   ]
  },
  {
   "cell_type": "markdown",
   "metadata": {
    "id": "MO7YXhNnAyKJ"
   },
   "source": [
    "![Sin título.png](data:image/png;base64,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)"
   ]
  },
  {
   "cell_type": "markdown",
   "metadata": {
    "id": "pQtRx_loA-2W"
   },
   "source": [
    "Se aprecia que el algortimo de Regresión logística es bastante inferior en cuanto en resultados, en este dataset.\n",
    "\n",
    "Entre el árbol de decisión y el Random Forest, los resultados son prácticamente idénticos.\n",
    "\n",
    "Esto demuestra que no son necesarias tantas variables para realizar la predicción, ya que solo con 3 variables predictoras, se está teniendo una mejor predicción que con todas las variables."
   ]
  },
  {
   "cell_type": "markdown",
   "metadata": {
    "id": "DQrw1b-Q_vtt"
   },
   "source": [
    "### Dataset con PCA"
   ]
  },
  {
   "cell_type": "markdown",
   "metadata": {
    "id": "u7Rl86C2Sr-N"
   },
   "source": [
    "Por último, sobre el dataset formado por 4 componentes principales, se ejecutan los mismo algoritmos y se obtiene:"
   ]
  },
  {
   "cell_type": "code",
   "execution_count": null,
   "metadata": {
    "id": "TMgmghrTeqMz"
   },
   "outputs": [],
   "source": [
    "train_X, test_X, train_y, test_y = train_test_split( finalDf.drop(columns=[\"isFraud\"]), finalDf.isFraud, test_size=1/7.0, random_state=0)\n",
    "\n",
    "names = [\"Decision_Tree\", \"Random_Forest\", \"Logistic_Regression\"]\n",
    "\n",
    "classifiers = [\n",
    "    tree.DecisionTreeClassifier(),\n",
    "    RandomForestClassifier(),\n",
    "    LogisticRegression()]\n",
    "\n",
    "scores = []\n",
    "for name, clf in zip(names, classifiers):\n",
    "    clf.fit(train_X, train_y)\n",
    "    score = clf.score(test_X, test_y)\n",
    "    scores.append(score)"
   ]
  },
  {
   "cell_type": "code",
   "execution_count": null,
   "metadata": {
    "id": "h-8SmkbVe6u-"
   },
   "outputs": [],
   "source": [
    "df_compPCA = pd.DataFrame()\n",
    "df_compPCA['name'] = names\n",
    "df_compPCA['score'] = scores\n",
    "df_compPCA"
   ]
  },
  {
   "cell_type": "markdown",
   "metadata": {
    "id": "JdQ8Iv26Bvuy"
   },
   "source": [
    "**Regresión Logística**"
   ]
  },
  {
   "cell_type": "markdown",
   "metadata": {
    "id": "0tLgMk6dB7tc"
   },
   "source": [
    "![Sin título.png](data:image/png;base64,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)"
   ]
  },
  {
   "cell_type": "markdown",
   "metadata": {
    "id": "vaT4AaMFBvu0"
   },
   "source": [
    "**Árbol de Decisión**"
   ]
  },
  {
   "cell_type": "markdown",
   "metadata": {
    "id": "99PvjTb_Bvbg"
   },
   "source": [
    "![Sin título.png](data:image/png;base64,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)"
   ]
  },
  {
   "cell_type": "markdown",
   "metadata": {
    "id": "lgfeysmtBvu0"
   },
   "source": [
    "**Random Forest**"
   ]
  },
  {
   "cell_type": "markdown",
   "metadata": {
    "id": "Rrd-3eqUB5t7"
   },
   "source": [
    "![Sin título.png](data:image/png;base64,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)"
   ]
  },
  {
   "cell_type": "markdown",
   "metadata": {
    "id": "Xb-x00oCCVU2"
   },
   "source": [
    "La predicción sobre este dataset no parece ser tan buena como en los 2 anteriores, por ello, una consideración para aumentar la capacidad predictiva es aumentar el número de componentes principales"
   ]
  },
  {
   "cell_type": "markdown",
   "metadata": {
    "id": "daH2HtnyTrk_"
   },
   "source": [
    "Como conclusión final, se observa que el Random Forest es el clasificador que mejor actúa sobre los datos, seguido del Árbol de decisión y por último, el de Regresión Logística."
   ]
  }
 ],
 "metadata": {
  "colab": {
   "name": "Proyecto",
   "provenance": [],
   "toc_visible": true
  },
  "kernelspec": {
   "display_name": "Python 3 (ipykernel)",
   "language": "python",
   "name": "python3"
  },
  "language_info": {
   "codemirror_mode": {
    "name": "ipython",
    "version": 3
   },
   "file_extension": ".py",
   "mimetype": "text/x-python",
   "name": "python",
   "nbconvert_exporter": "python",
   "pygments_lexer": "ipython3",
   "version": "3.10.15"
  }
 },
 "nbformat": 4,
 "nbformat_minor": 4
}
